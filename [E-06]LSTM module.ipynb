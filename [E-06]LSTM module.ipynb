{
 "cells": [
  {
   "cell_type": "markdown",
   "id": "8b5cc023",
   "metadata": {},
   "source": [
    "# 소개\n",
    "## LSTM 모듈을 사용해 문장 생성 모델 만들기\n",
    "## 데이터 :song.Lyrics\n",
    "## 모델의 Embedding Size, Hidden Size를 조절하여 10 Epoch 안에 val_loss 값 2.2수준으로 줄일 수 있는 모델 설계\n",
    "## 멋진 모델이 생성한 가사 한줄 제출"
   ]
  },
  {
   "cell_type": "code",
   "execution_count": 3,
   "id": "a9c36b68",
   "metadata": {},
   "outputs": [],
   "source": [
    "import re\n",
    "import numpy as np\n",
    "import tensorflow as tf\n",
    "import glob\n",
    "import os\n",
    "from sklearn.model_selection import train_test_split"
   ]
  },
  {
   "cell_type": "code",
   "execution_count": 8,
   "id": "ebd2b64f",
   "metadata": {},
   "outputs": [
    {
     "name": "stdout",
     "output_type": "stream",
     "text": [
      "데이터 크기: 75890\n",
      "Examples:\n",
      " ['[Verse 1]', 'They come from everywhere', 'A longing to be free']\n"
     ]
    }
   ],
   "source": [
    "txt_file_path ='/home/a/data/*'\n",
    "\n",
    "txt_list = glob.glob(txt_file_path)\n",
    "\n",
    "raw_corpus = []\n",
    "\n",
    "# 여러개의 txt 파일을 모두 읽어서 raw_corpus 에 담습니다.\n",
    "for txt_file in txt_list:\n",
    "    with open(txt_file, \"r\") as f:\n",
    "        raw = f.read().splitlines()\n",
    "        raw_corpus.extend(raw)\n",
    "\n",
    "print(\"데이터 크기:\", len(raw_corpus))\n",
    "print(\"Examples:\\n\", raw_corpus[:3])"
   ]
  },
  {
   "cell_type": "code",
   "execution_count": 9,
   "id": "f4b27ed1",
   "metadata": {},
   "outputs": [
    {
     "name": "stdout",
     "output_type": "stream",
     "text": [
      "[Verse 1]\n",
      "They come from everywhere\n",
      "A longing to be free\n",
      "They come to join us here\n",
      "From sea to shining sea And they all have a dream\n",
      "As people always will\n",
      "To be safe and warm\n",
      "In that shining city on the hill Some wanna slam the door\n",
      "Instead of opening the gate\n",
      "Aw, let's turn this thing around\n"
     ]
    }
   ],
   "source": [
    "for idx, sentence in enumerate(raw_corpus):\n",
    "    if len(sentence) == 0: continue   # 길이가 0인 문장은 건너뜁니다.\n",
    "    if sentence[-1] == \":\": continue  # 문장의 끝이 ) 인 문장은 건너뜁니다.\n",
    "\n",
    "    if idx > 9: break   # 일단 문장 10개만 확인해 볼 겁니다.\n",
    "        \n",
    "    print(sentence)"
   ]
  },
  {
   "cell_type": "code",
   "execution_count": 10,
   "id": "b5bbfc3b",
   "metadata": {},
   "outputs": [],
   "source": [
    "def preprocess_sentence(sentence):\n",
    "    sentence = sentence.lower().strip()       # 소문자로 바꾸고 양쪽 공백을 삭제\n",
    "  \n",
    "    # 아래 3단계를 거쳐 sentence는 스페이스 1개를 delimeter로 하는 소문자 단어 시퀀스로 바뀝니다.\n",
    "    sentence = re.sub(r\"([?.!,¿])\", r\" \\1 \", sentence)        # 패턴의 특수문자를 만나면 특수문자 양쪽에 공백을 추가\n",
    "    sentence = re.sub(r'[\" \"]+', \" \", sentence)                  # 공백 패턴을 만나면 스페이스 1개로 치환\n",
    "    sentence = re.sub(r\"[^a-zA-Z?.!,¿]+\", \" \", sentence)  # a-zA-Z?.!,¿ 패턴을 제외한 모든 문자(공백문자까지도)를 스페이스 1개로 치환\n",
    "\n",
    "    sentence = sentence.strip()\n",
    "\n",
    "    sentence = '<start> ' + sentence + ' <end>'      # 이전 스텝에서 본 것처럼 문장 앞뒤로 <start>와 <end>를 단어처럼 붙여 줍니다\n",
    "    \n",
    "    return sentence"
   ]
  },
  {
   "cell_type": "code",
   "execution_count": 11,
   "id": "1db28875",
   "metadata": {},
   "outputs": [
    {
     "data": {
      "text/plain": [
       "['<start> verse <end>',\n",
       " '<start> they come from everywhere <end>',\n",
       " '<start> a longing to be free <end>',\n",
       " '<start> they come to join us here <end>',\n",
       " '<start> from sea to shining sea and they all have a dream <end>',\n",
       " '<start> as people always will <end>',\n",
       " '<start> to be safe and warm <end>',\n",
       " '<start> in that shining city on the hill some wanna slam the door <end>',\n",
       " '<start> instead of opening the gate <end>',\n",
       " '<start> aw , let s turn this thing around <end>']"
      ]
     },
     "execution_count": 11,
     "metadata": {},
     "output_type": "execute_result"
    }
   ],
   "source": [
    "corpus = []\n",
    "\n",
    "for sentence in raw_corpus:\n",
    "    if len(sentence) == 0: continue\n",
    "    if sentence[-1] == \":\": continue\n",
    "        \n",
    "    corpus.append(preprocess_sentence(sentence))\n",
    "        \n",
    "corpus[:10]def generate_text(model, tokenizer, init_sentence=\"<start>\", max_len=20):\n",
    "    # 테스트를 위해서 입력받은 init_sentence도 일단 텐서로 변환합니다.\n",
    "    test_input = tokenizer.texts_to_sequences([init_sentence])\n",
    "    test_tensor = tf.convert_to_tensor(test_input, dtype=tf.int64)\n",
    "    end_token = tokenizer.word_index[\"<end>\"]\n",
    "\n",
    "    # 텍스트를 실제로 생성할때는 루프를 돌면서 단어 하나씩 생성해야 합니다. \n",
    "    while True:\n",
    "        predict = model(test_tensor)  # 입력받은 문장의 텐서를 입력합니다. \n",
    "        predict_word = tf.argmax(tf.nn.softmax(predict, axis=-1), axis=-1)[:, -1]   # 우리 모델이 예측한 마지막 단어가 바로 새롭게 생성한 단어가 됩니다. \n",
    "\n",
    "        # 우리 모델이 새롭게 예측한 단어를 입력 문장의 뒤에 붙여 줍니다. \n",
    "        test_tensor = tf.concat([test_tensor, \n",
    "                                                                 tf.expand_dims(predict_word, axis=0)], axis=-1)\n",
    "\n",
    "        # 우리 모델이 <END>를 예측했거나, max_len에 도달하지 않았다면  while 루프를 또 돌면서 다음 단어를 예측해야 합니다.\n",
    "        if predict_word.numpy()[0] == end_token: break\n",
    "        if test_tensor.shape[1] >= max_len: break\n",
    "\n",
    "    generated = \"\"\n",
    "    # 생성된 tensor 안에 있는 word index를 tokenizer.index_word 사전을 통해 실제 단어로 하나씩 변환합니다. \n",
    "    for word_index in test_tensor[0].numpy():\n",
    "        generated += tokenizer.index_word[word_index] + \" \"\n",
    "\n",
    "    return generated   # 이것이 최종적으로 모델이 생성한 자연어 문장입니다."
   ]
  },
  {
   "cell_type": "code",
   "execution_count": 12,
   "id": "247ab557",
   "metadata": {},
   "outputs": [],
   "source": [
    "def tokenize(corpus):\n",
    "    # 텐서플로우에서 제공하는 Tokenizer 패키지를 생성\n",
    "    tokenizer = tf.keras.preprocessing.text.Tokenizer(\n",
    "        num_words=12000,  # 전체 단어의 개수 \n",
    "        filters=' ',    # 별도로 전처리 로직을 추가할 수 있습니다. 이번에는 사용하지 않겠습니다.\n",
    "        oov_token=\"<unk>\"  # out-of-vocabulary, 사전에 없었던 단어는 어떤 토큰으로 대체할지\n",
    "    )\n",
    "    tokenizer.fit_on_texts(corpus)   # 우리가 구축한 corpus로부터 Tokenizer가 사전을 자동구축하게 됩니다.\n",
    "\n",
    "    # 이후 tokenizer를 활용하여 모델에 입력할 데이터셋을 구축하게 됩니다.\n",
    "    tensor = tokenizer.texts_to_sequences(corpus)   # tokenizer는 구축한 사전으로부터 corpus를 해석해 Tensor로 변환합니다.\n",
    "\n",
    "    # 입력 데이터의 시퀀스 길이를 일정하게 맞추기 위한 padding  메소드를 제공합니다.\n",
    "    # maxlen의 디폴트값은 None입니다. 이 경우 corpus의 가장 긴 문장을 기준으로 시퀀스 길이가 맞춰집니다.\n",
    "    tensor = tf.keras.preprocessing.sequence.pad_sequences(tensor, padding='post', maxlen=15)  \n",
    "\n",
    "    print(tensor,tokenizer)\n",
    "    return tensor, tokenizer"
   ]
  },
  {
   "cell_type": "code",
   "execution_count": 13,
   "id": "25a29386",
   "metadata": {},
   "outputs": [
    {
     "name": "stdout",
     "output_type": "stream",
     "text": [
      "[[   2  611    3 ...    0    0    0]\n",
      " [   2   47   77 ...    0    0    0]\n",
      " [   2   10 3210 ...    0    0    0]\n",
      " ...\n",
      " [   2  627   23 ...    0    0    0]\n",
      " [   2  167   35 ...    0    0    0]\n",
      " [   2    5   19 ...    0    0    0]] <keras.preprocessing.text.Tokenizer object at 0x7f79cf494670>\n"
     ]
    }
   ],
   "source": [
    "tensor, tokenizer = tokenize(corpus)"
   ]
  },
  {
   "cell_type": "code",
   "execution_count": 14,
   "id": "384a9c65",
   "metadata": {},
   "outputs": [
    {
     "name": "stdout",
     "output_type": "stream",
     "text": [
      "1 : <unk>\n",
      "2 : <start>\n",
      "3 : <end>\n",
      "4 : ,\n",
      "5 : i\n",
      "6 : you\n",
      "7 : the\n",
      "8 : and\n",
      "9 : to\n",
      "10 : a\n"
     ]
    }
   ],
   "source": [
    "for idx in tokenizer.index_word:\n",
    "    print(idx, \":\", tokenizer.index_word[idx])\n",
    "\n",
    "    if idx >= 10: break"
   ]
  },
  {
   "cell_type": "code",
   "execution_count": 15,
   "id": "d25d3103",
   "metadata": {},
   "outputs": [
    {
     "name": "stdout",
     "output_type": "stream",
     "text": [
      "[  2 611   3   0   0   0   0   0   0   0   0   0   0   0]\n",
      "[611   3   0   0   0   0   0   0   0   0   0   0   0   0]\n"
     ]
    }
   ],
   "source": [
    "src_input = tensor[:, :-1]  # tensor에서 마지막 토큰을 잘라내서 소스 문장을 생성합니다. 마지막 토큰은 <END>가 아니라 <pad>일 가능성이 높습니다.\n",
    "tgt_input = tensor[:, 1:]    # tensor에서 <START>를 잘라내서 타겟 문장을 생성합니다.\n",
    "\n",
    "print(src_input[0])\n",
    "print(tgt_input[0])"
   ]
  },
  {
   "cell_type": "code",
   "execution_count": 16,
   "id": "6643e292",
   "metadata": {},
   "outputs": [],
   "source": [
    "enc_train, enc_val, dec_train, dec_val = train_test_split(src_input, tgt_input, test_size=0.2, random_state=2020)"
   ]
  },
  {
   "cell_type": "code",
   "execution_count": 17,
   "id": "f35f3ca5",
   "metadata": {},
   "outputs": [
    {
     "name": "stderr",
     "output_type": "stream",
     "text": [
      "2022-10-12 21:44:24.801512: I tensorflow/stream_executor/cuda/cuda_gpu_executor.cc:980] successful NUMA node read from SysFS had negative value (-1), but there must be at least one NUMA node, so returning NUMA node zero\n",
      "2022-10-12 21:44:24.854146: I tensorflow/stream_executor/cuda/cuda_gpu_executor.cc:980] successful NUMA node read from SysFS had negative value (-1), but there must be at least one NUMA node, so returning NUMA node zero\n",
      "2022-10-12 21:44:24.854310: I tensorflow/stream_executor/cuda/cuda_gpu_executor.cc:980] successful NUMA node read from SysFS had negative value (-1), but there must be at least one NUMA node, so returning NUMA node zero\n",
      "2022-10-12 21:44:24.855537: I tensorflow/core/platform/cpu_feature_guard.cc:193] This TensorFlow binary is optimized with oneAPI Deep Neural Network Library (oneDNN) to use the following CPU instructions in performance-critical operations:  AVX2 FMA\n",
      "To enable them in other operations, rebuild TensorFlow with the appropriate compiler flags.\n",
      "2022-10-12 21:44:24.855893: I tensorflow/stream_executor/cuda/cuda_gpu_executor.cc:980] successful NUMA node read from SysFS had negative value (-1), but there must be at least one NUMA node, so returning NUMA node zero\n",
      "2022-10-12 21:44:24.856015: I tensorflow/stream_executor/cuda/cuda_gpu_executor.cc:980] successful NUMA node read from SysFS had negative value (-1), but there must be at least one NUMA node, so returning NUMA node zero\n",
      "2022-10-12 21:44:24.856118: I tensorflow/stream_executor/cuda/cuda_gpu_executor.cc:980] successful NUMA node read from SysFS had negative value (-1), but there must be at least one NUMA node, so returning NUMA node zero\n",
      "2022-10-12 21:44:25.193590: I tensorflow/stream_executor/cuda/cuda_gpu_executor.cc:980] successful NUMA node read from SysFS had negative value (-1), but there must be at least one NUMA node, so returning NUMA node zero\n",
      "2022-10-12 21:44:25.194269: I tensorflow/stream_executor/cuda/cuda_gpu_executor.cc:980] successful NUMA node read from SysFS had negative value (-1), but there must be at least one NUMA node, so returning NUMA node zero\n",
      "2022-10-12 21:44:25.194400: I tensorflow/stream_executor/cuda/cuda_gpu_executor.cc:980] successful NUMA node read from SysFS had negative value (-1), but there must be at least one NUMA node, so returning NUMA node zero\n",
      "2022-10-12 21:44:25.194528: I tensorflow/core/common_runtime/gpu/gpu_device.cc:1616] Created device /job:localhost/replica:0/task:0/device:GPU:0 with 5413 MB memory:  -> device: 0, name: NVIDIA GeForce RTX 3070, pci bus id: 0000:05:00.0, compute capability: 8.6\n"
     ]
    },
    {
     "data": {
      "text/plain": [
       "<BatchDataset element_spec=(TensorSpec(shape=(256, 14), dtype=tf.int32, name=None), TensorSpec(shape=(256, 14), dtype=tf.int32, name=None))>"
      ]
     },
     "execution_count": 17,
     "metadata": {},
     "output_type": "execute_result"
    }
   ],
   "source": [
    "BUFFER_SIZE = len(enc_train)\n",
    "BATCH_SIZE = 256\n",
    "steps_per_epoch = len(enc_train) // BATCH_SIZE\n",
    "\n",
    "VOCAB_SIZE = tokenizer.num_words + 1    #tokenizer가 구축한 단어사전 내 12000개와, 여기 포함되지 않은 0:<pad>를 포함하여 15001개\n",
    "\n",
    "dataset = tf.data.Dataset.from_tensor_slices((enc_train, dec_train)).shuffle(BUFFER_SIZE)\n",
    "dataset = dataset.batch(BATCH_SIZE, drop_remainder=True)\n",
    "dataset"
   ]
  },
  {
   "cell_type": "code",
   "execution_count": 18,
   "id": "f7d380b4",
   "metadata": {},
   "outputs": [
    {
     "data": {
      "text/plain": [
       "<BatchDataset element_spec=(TensorSpec(shape=(256, 14), dtype=tf.int32, name=None), TensorSpec(shape=(256, 14), dtype=tf.int32, name=None))>"
      ]
     },
     "execution_count": 18,
     "metadata": {},
     "output_type": "execute_result"
    }
   ],
   "source": [
    "val_dataset = tf.data.Dataset.from_tensor_slices((enc_val, dec_val)).shuffle(BUFFER_SIZE)\n",
    "val_dataset = val_dataset.batch(BATCH_SIZE, drop_remainder=True)\n",
    "val_dataset"
   ]
  },
  {
   "cell_type": "code",
   "execution_count": 19,
   "id": "25054117",
   "metadata": {},
   "outputs": [
    {
     "name": "stdout",
     "output_type": "stream",
     "text": [
      "Source Train: (56867, 14)\n",
      "Target Train: (56867, 14)\n"
     ]
    }
   ],
   "source": [
    "print(\"Source Train:\", enc_train.shape)\n",
    "print(\"Target Train:\", dec_train.shape)"
   ]
  },
  {
   "cell_type": "code",
   "execution_count": 20,
   "id": "b848cbff",
   "metadata": {},
   "outputs": [],
   "source": [
    "class TextGenerator(tf.keras.Model):\n",
    "    def __init__(self, vocab_size, embedding_size, hidden_size):\n",
    "        super(TextGenerator, self).__init__()\n",
    "        \n",
    "        self.embedding = tf.keras.layers.Embedding(vocab_size, embedding_size)\n",
    "        self.rnn_1 = tf.keras.layers.LSTM(hidden_size, return_sequences=True)\n",
    "        self.rnn_2 = tf.keras.layers.LSTM(hidden_size, return_sequences=True)\n",
    "        self.linear = tf.keras.layers.Dense(vocab_size)\n",
    "        \n",
    "    def call(self, x):\n",
    "        out = self.embedding(x)\n",
    "        out = self.rnn_1(out)\n",
    "        out = self.rnn_2(out)\n",
    "        out = self.linear(out)\n",
    "        \n",
    "        return out\n",
    "    \n",
    "embedding_size = 1024\n",
    "hidden_size = 2048\n",
    "model = TextGenerator(tokenizer.num_words + 1, embedding_size , hidden_size)"
   ]
  },
  {
   "cell_type": "code",
   "execution_count": 21,
   "id": "2e3daad7",
   "metadata": {},
   "outputs": [
    {
     "name": "stderr",
     "output_type": "stream",
     "text": [
      "2022-10-12 21:44:49.903619: I tensorflow/stream_executor/cuda/cuda_dnn.cc:384] Loaded cuDNN version 8600\n",
      "2022-10-12 21:44:54.130687: I tensorflow/stream_executor/cuda/cuda_blas.cc:1614] TensorFloat-32 will be used for the matrix multiplication. This will only be logged once.\n"
     ]
    },
    {
     "data": {
      "text/plain": [
       "<tf.Tensor: shape=(256, 14, 12001), dtype=float32, numpy=\n",
       "array([[[ 1.32235567e-04,  3.64129781e-04,  1.70889936e-04, ...,\n",
       "          2.06626559e-04,  4.63834207e-04, -1.12334477e-04],\n",
       "        [ 5.56890795e-04,  8.85729620e-04,  3.80626880e-04, ...,\n",
       "          3.02250792e-05,  3.57926387e-04, -3.28646798e-04],\n",
       "        [ 5.19371941e-04,  8.23937764e-04,  4.39818541e-04, ...,\n",
       "         -3.18903418e-04,  1.65911959e-04, -1.01917097e-03],\n",
       "        ...,\n",
       "        [-1.15867355e-03,  5.43309841e-04,  2.55851075e-04, ...,\n",
       "         -5.22466842e-04, -6.13813696e-04, -2.68517039e-03],\n",
       "        [-2.23690923e-03,  3.64696811e-04,  3.15743615e-04, ...,\n",
       "         -5.49392193e-04, -4.35680413e-04, -3.21255648e-03],\n",
       "        [-3.24057229e-03,  1.07211927e-04,  3.37023084e-04, ...,\n",
       "         -6.06630114e-04, -1.87326135e-04, -3.70196952e-03]],\n",
       "\n",
       "       [[ 1.32235567e-04,  3.64129781e-04,  1.70889936e-04, ...,\n",
       "          2.06626559e-04,  4.63834207e-04, -1.12334477e-04],\n",
       "        [ 1.26318468e-04,  6.87889638e-04,  8.87193484e-04, ...,\n",
       "          3.39495658e-04,  5.73185214e-04, -2.32039893e-04],\n",
       "        [-3.78953337e-05,  9.58483259e-04,  1.49404118e-03, ...,\n",
       "          6.82512182e-04,  6.61143451e-04, -9.74566428e-05],\n",
       "        ...,\n",
       "        [ 6.64559833e-04, -2.79327796e-04,  2.13558250e-03, ...,\n",
       "          9.45892709e-04, -2.71693105e-04,  8.50913493e-05],\n",
       "        [ 4.93844680e-04, -3.51963856e-04,  2.12347973e-03, ...,\n",
       "          1.26328843e-03, -4.39241558e-04, -8.27817348e-05],\n",
       "        [ 5.30894496e-04, -1.77779133e-04,  2.33735074e-03, ...,\n",
       "          1.99244241e-03, -7.45138444e-04, -8.61836830e-04]],\n",
       "\n",
       "       [[-1.27850682e-04, -2.23169889e-04, -1.14245078e-04, ...,\n",
       "         -4.56592737e-04, -4.73717264e-05,  7.00270466e-05],\n",
       "        [ 2.11864230e-04,  2.13875959e-04, -6.11368276e-04, ...,\n",
       "         -5.90227952e-04, -3.51300434e-04,  8.80251682e-05],\n",
       "        [ 2.73087033e-04,  7.96322711e-04, -1.42864359e-03, ...,\n",
       "         -3.55305179e-04, -9.39659891e-04, -3.38579193e-05],\n",
       "        ...,\n",
       "        [-1.32825959e-03, -6.32063078e-04,  1.87541416e-03, ...,\n",
       "         -1.92866009e-03,  5.12273342e-04, -1.84588600e-04],\n",
       "        [-1.09995762e-03, -5.55976410e-04,  1.89971703e-03, ...,\n",
       "         -1.87069457e-03,  1.16205460e-03, -9.48698958e-04],\n",
       "        [-2.76768435e-04,  5.47189920e-05,  1.59080396e-03, ...,\n",
       "         -2.22187117e-03,  1.64005230e-03, -1.14107679e-03]],\n",
       "\n",
       "       ...,\n",
       "\n",
       "       [[ 1.32235567e-04,  3.64129781e-04,  1.70889936e-04, ...,\n",
       "          2.06626559e-04,  4.63834207e-04, -1.12334477e-04],\n",
       "        [ 3.81669146e-04,  6.91654743e-04,  4.21072647e-04, ...,\n",
       "          1.39464217e-04,  3.11016745e-04, -3.89090885e-04],\n",
       "        [ 4.56531241e-04,  8.43783957e-04,  7.41398311e-04, ...,\n",
       "          3.94194125e-04,  3.93934693e-04, -4.30851826e-04],\n",
       "        ...,\n",
       "        [-3.91667010e-03, -2.48340919e-04,  7.84266333e-04, ...,\n",
       "         -1.08810375e-03,  1.23577064e-03, -3.09002562e-03],\n",
       "        [-4.90907300e-03, -4.89070779e-04,  8.79221479e-04, ...,\n",
       "         -1.09350181e-03,  1.46046234e-03, -3.58265010e-03],\n",
       "        [-5.73078310e-03, -7.66386278e-04,  8.93925782e-04, ...,\n",
       "         -1.14555901e-03,  1.67846552e-03, -3.98621755e-03]],\n",
       "\n",
       "       [[ 1.32235567e-04,  3.64129781e-04,  1.70889936e-04, ...,\n",
       "          2.06626559e-04,  4.63834207e-04, -1.12334477e-04],\n",
       "        [ 2.35827742e-04,  6.08074712e-04, -1.14574766e-04, ...,\n",
       "          4.32852743e-04,  7.46236823e-04, -7.03538535e-04],\n",
       "        [ 1.07244174e-04,  5.00463007e-04, -3.34095559e-04, ...,\n",
       "          5.44826500e-04,  9.96324350e-04, -9.33259435e-04],\n",
       "        ...,\n",
       "        [-1.79573789e-03, -1.44779726e-04, -4.23636753e-04, ...,\n",
       "         -7.44909164e-04,  2.41831702e-04, -2.12708209e-03],\n",
       "        [-2.84161349e-03, -3.81210441e-04, -3.15513083e-04, ...,\n",
       "         -6.67388842e-04,  4.49943444e-04, -2.69162166e-03],\n",
       "        [-3.80676263e-03, -6.55632000e-04, -2.71191151e-04, ...,\n",
       "         -6.39735197e-04,  6.98618009e-04, -3.20471008e-03]],\n",
       "\n",
       "       [[ 1.32235567e-04,  3.64129781e-04,  1.70889936e-04, ...,\n",
       "          2.06626559e-04,  4.63834207e-04, -1.12334477e-04],\n",
       "        [ 2.69227079e-04,  3.39726743e-04,  5.01356379e-04, ...,\n",
       "         -1.62754688e-04,  4.42712713e-04, -2.04894357e-04],\n",
       "        [ 1.43884914e-04,  5.50839817e-04,  6.68864348e-04, ...,\n",
       "          3.17603262e-04,  7.65807636e-04, -4.39040625e-04],\n",
       "        ...,\n",
       "        [-2.04063300e-03,  1.78665621e-03,  4.11935442e-04, ...,\n",
       "         -1.82538526e-03, -1.70766492e-03,  1.11104758e-03],\n",
       "        [-2.40127742e-03,  1.63772493e-03,  3.75769800e-04, ...,\n",
       "         -2.00454984e-03, -1.56302121e-03,  6.44623651e-04],\n",
       "        [-2.99744052e-03,  1.52861152e-03,  5.09521458e-04, ...,\n",
       "         -1.93755887e-03, -1.28777511e-03,  4.19212447e-05]]],\n",
       "      dtype=float32)>"
      ]
     },
     "execution_count": 21,
     "metadata": {},
     "output_type": "execute_result"
    }
   ],
   "source": [
    "for src_sample, tgt_sample in dataset.take(1): break\n",
    "model(src_sample)"
   ]
  },
  {
   "cell_type": "code",
   "execution_count": 22,
   "id": "e02aaaf2",
   "metadata": {
    "scrolled": true
   },
   "outputs": [
    {
     "name": "stdout",
     "output_type": "stream",
     "text": [
      "Epoch 1/7\n",
      "222/222 [==============================] - 29s 122ms/step - loss: 3.8833\n",
      "Epoch 2/7\n",
      "222/222 [==============================] - 27s 122ms/step - loss: 3.1985\n",
      "Epoch 3/7\n",
      "222/222 [==============================] - 27s 122ms/step - loss: 2.9271\n",
      "Epoch 4/7\n",
      "222/222 [==============================] - 27s 122ms/step - loss: 2.7086\n",
      "Epoch 5/7\n",
      "222/222 [==============================] - 27s 122ms/step - loss: 2.5003\n",
      "Epoch 6/7\n",
      "222/222 [==============================] - 27s 123ms/step - loss: 2.2962\n",
      "Epoch 7/7\n",
      "222/222 [==============================] - 27s 122ms/step - loss: 2.0974\n"
     ]
    },
    {
     "data": {
      "text/plain": [
       "<keras.callbacks.History at 0x7f79ce2c05b0>"
      ]
     },
     "execution_count": 22,
     "metadata": {},
     "output_type": "execute_result"
    }
   ],
   "source": [
    "optimizer = tf.keras.optimizers.Adam()\n",
    "loss = tf.keras.losses.SparseCategoricalCrossentropy(\n",
    "    from_logits=True,\n",
    "    reduction='none'\n",
    ")\n",
    "\n",
    "model.compile(loss=loss, optimizer=optimizer)\n",
    "model.fit(dataset, epochs=7)"
   ]
  },
  {
   "cell_type": "code",
   "execution_count": 23,
   "id": "a2602ce1",
   "metadata": {},
   "outputs": [],
   "source": [
    "def generate_text(model, tokenizer, init_sentence=\"<start>\", max_len=20):\n",
    "    # 테스트를 위해서 입력받은 init_sentence도 일단 텐서로 변환합니다.\n",
    "    test_input = tokenizer.texts_to_sequences([init_sentence])\n",
    "    test_tensor = tf.convert_to_tensor(test_input, dtype=tf.int64)\n",
    "    end_token = tokenizer.word_index[\"<end>\"]\n",
    "\n",
    "    # 텍스트를 실제로 생성할때는 루프를 돌면서 단어 하나씩 생성해야 합니다. \n",
    "    while True:\n",
    "        predict = model(test_tensor)  # 입력받은 문장의 텐서를 입력합니다. \n",
    "        predict_word = tf.argmax(tf.nn.softmax(predict, axis=-1), axis=-1)[:, -1]   # 우리 모델이 예측한 마지막 단어가 바로 새롭게 생성한 단어가 됩니다. \n",
    "\n",
    "        # 우리 모델이 새롭게 예측한 단어를 입력 문장의 뒤에 붙여 줍니다. \n",
    "        test_tensor = tf.concat([test_tensor, \n",
    "                                                                 tf.expand_dims(predict_word, axis=0)], axis=-1)\n",
    "\n",
    "        # 우리 모델이 <END>를 예측했거나, max_len에 도달하지 않았다면  while 루프를 또 돌면서 다음 단어를 예측해야 합니다.\n",
    "        if predict_word.numpy()[0] == end_token: break\n",
    "        if test_tensor.shape[1] >= max_len: break\n",
    "\n",
    "    generated = \"\"\n",
    "    # 생성된 tensor 안에 있는 word index를 tokenizer.index_word 사전을 통해 실제 단어로 하나씩 변환합니다. \n",
    "    for word_index in test_tensor[0].numpy():\n",
    "        generated += tokenizer.index_word[word_index] + \" \"\n",
    "\n",
    "    return generated   # 이것이 최종적으로 모델이 생성한 자연어 문장입니다."
   ]
  },
  {
   "cell_type": "code",
   "execution_count": 24,
   "id": "31034d5d",
   "metadata": {},
   "outputs": [
    {
     "data": {
      "text/plain": [
       "'<start> i love you , i love you <end> '"
      ]
     },
     "execution_count": 24,
     "metadata": {},
     "output_type": "execute_result"
    }
   ],
   "source": [
    "generate_text(model, tokenizer, init_sentence=\"<start> i love\", max_len=20)"
   ]
  },
  {
   "cell_type": "markdown",
   "id": "e545f321",
   "metadata": {},
   "source": [
    "## 회고\n",
    "\n",
    "본 프로젝트를 진행하면서 너무나 어려웠고 난해했다.\n",
    "다음엔 좀 더 공부해야하겠다는걸 느꼈다."
   ]
  }
 ],
 "metadata": {
  "kernelspec": {
   "display_name": "Python 3 (ipykernel)",
   "language": "python",
   "name": "python3"
  },
  "language_info": {
   "codemirror_mode": {
    "name": "ipython",
    "version": 3
   },
   "file_extension": ".py",
   "mimetype": "text/x-python",
   "name": "python",
   "nbconvert_exporter": "python",
   "pygments_lexer": "ipython3",
   "version": "3.10.6"
  }
 },
 "nbformat": 4,
 "nbformat_minor": 5
}
