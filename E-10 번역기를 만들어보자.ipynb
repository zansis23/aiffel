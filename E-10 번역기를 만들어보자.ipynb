{
 "cells": [
  {
   "cell_type": "markdown",
   "id": "f5301f58",
   "metadata": {},
   "source": [
    "## [E-10]번역기를 만들어보자"
   ]
  },
  {
   "cell_type": "code",
   "execution_count": 1,
   "id": "cb527808",
   "metadata": {},
   "outputs": [
    {
     "name": "stderr",
     "output_type": "stream",
     "text": [
      "2022-10-25 21:03:37.585504: I tensorflow/core/platform/cpu_feature_guard.cc:193] This TensorFlow binary is optimized with oneAPI Deep Neural Network Library (oneDNN) to use the following CPU instructions in performance-critical operations:  AVX2 FMA\n",
      "To enable them in other operations, rebuild TensorFlow with the appropriate compiler flags.\n",
      "2022-10-25 21:03:37.768827: E tensorflow/stream_executor/cuda/cuda_blas.cc:2981] Unable to register cuBLAS factory: Attempting to register factory for plugin cuBLAS when one has already been registered\n",
      "2022-10-25 21:03:38.586223: W tensorflow/stream_executor/platform/default/dso_loader.cc:64] Could not load dynamic library 'libnvinfer.so.7'; dlerror: libnvinfer.so.7: cannot open shared object file: No such file or directory; LD_LIBRARY_PATH: :/usr/local/cuda-11.7/lib64\n",
      "2022-10-25 21:03:38.586380: W tensorflow/stream_executor/platform/default/dso_loader.cc:64] Could not load dynamic library 'libnvinfer_plugin.so.7'; dlerror: libnvinfer_plugin.so.7: cannot open shared object file: No such file or directory; LD_LIBRARY_PATH: :/usr/local/cuda-11.7/lib64\n",
      "2022-10-25 21:03:38.586394: W tensorflow/compiler/tf2tensorrt/utils/py_utils.cc:38] TF-TRT Warning: Cannot dlopen some TensorRT libraries. If you would like to use Nvidia GPU with TensorRT, please make sure the missing libraries mentioned above are installed properly.\n"
     ]
    }
   ],
   "source": [
    "import pandas as pd\n",
    "import numpy as np\n",
    "import re\n",
    "\n",
    "from tensorflow.keras.preprocessing.text import Tokenizer\n",
    "from tensorflow.keras.preprocessing.sequence import pad_sequences\n",
    "from tensorflow.keras.utils import to_categorical\n",
    "from tensorflow.keras.layers import Input, LSTM, Embedding, Dense, Masking\n",
    "from tensorflow.keras.models import Model"
   ]
  },
  {
   "cell_type": "code",
   "execution_count": 2,
   "id": "ac8efaf2",
   "metadata": {},
   "outputs": [
    {
     "name": "stdout",
     "output_type": "stream",
     "text": [
      "전체 샘플의 수 : 197463\n"
     ]
    },
    {
     "data": {
      "text/html": [
       "<div>\n",
       "<style scoped>\n",
       "    .dataframe tbody tr th:only-of-type {\n",
       "        vertical-align: middle;\n",
       "    }\n",
       "\n",
       "    .dataframe tbody tr th {\n",
       "        vertical-align: top;\n",
       "    }\n",
       "\n",
       "    .dataframe thead th {\n",
       "        text-align: right;\n",
       "    }\n",
       "</style>\n",
       "<table border=\"1\" class=\"dataframe\">\n",
       "  <thead>\n",
       "    <tr style=\"text-align: right;\">\n",
       "      <th></th>\n",
       "      <th>eng</th>\n",
       "      <th>fra</th>\n",
       "      <th>cc</th>\n",
       "    </tr>\n",
       "  </thead>\n",
       "  <tbody>\n",
       "    <tr>\n",
       "      <th>16136</th>\n",
       "      <td>Tom did do that.</td>\n",
       "      <td>C'est ce qu'a fait Tom.</td>\n",
       "      <td>CC-BY 2.0 (France) Attribution: tatoeba.org #6...</td>\n",
       "    </tr>\n",
       "    <tr>\n",
       "      <th>100743</th>\n",
       "      <td>Can you hold on for a second?</td>\n",
       "      <td>Peux-tu attendre une seconde ?</td>\n",
       "      <td>CC-BY 2.0 (France) Attribution: tatoeba.org #3...</td>\n",
       "    </tr>\n",
       "    <tr>\n",
       "      <th>33487</th>\n",
       "      <td>Where did he do it?</td>\n",
       "      <td>Où l'a-t-il fait ?</td>\n",
       "      <td>CC-BY 2.0 (France) Attribution: tatoeba.org #9...</td>\n",
       "    </tr>\n",
       "    <tr>\n",
       "      <th>103682</th>\n",
       "      <td>I'll be ready in two minutes.</td>\n",
       "      <td>Je suis prête dans deux minutes.</td>\n",
       "      <td>CC-BY 2.0 (France) Attribution: tatoeba.org #2...</td>\n",
       "    </tr>\n",
       "    <tr>\n",
       "      <th>118887</th>\n",
       "      <td>My throat hurts when I swallow.</td>\n",
       "      <td>Ma gorge me fait mal quand j'avale.</td>\n",
       "      <td>CC-BY 2.0 (France) Attribution: tatoeba.org #2...</td>\n",
       "    </tr>\n",
       "  </tbody>\n",
       "</table>\n",
       "</div>"
      ],
      "text/plain": [
       "                                    eng                                  fra  \\\n",
       "16136                  Tom did do that.              C'est ce qu'a fait Tom.   \n",
       "100743    Can you hold on for a second?       Peux-tu attendre une seconde ?   \n",
       "33487               Where did he do it?                   Où l'a-t-il fait ?   \n",
       "103682    I'll be ready in two minutes.     Je suis prête dans deux minutes.   \n",
       "118887  My throat hurts when I swallow.  Ma gorge me fait mal quand j'avale.   \n",
       "\n",
       "                                                       cc  \n",
       "16136   CC-BY 2.0 (France) Attribution: tatoeba.org #6...  \n",
       "100743  CC-BY 2.0 (France) Attribution: tatoeba.org #3...  \n",
       "33487   CC-BY 2.0 (France) Attribution: tatoeba.org #9...  \n",
       "103682  CC-BY 2.0 (France) Attribution: tatoeba.org #2...  \n",
       "118887  CC-BY 2.0 (France) Attribution: tatoeba.org #2...  "
      ]
     },
     "execution_count": 2,
     "metadata": {},
     "output_type": "execute_result"
    }
   ],
   "source": [
    "file_path = '../fra.txt'\n",
    "lines = pd.read_csv(file_path, names=['eng', 'fra', 'cc'], sep='\\t')\n",
    "print('전체 샘플의 수 :',len(lines))\n",
    "lines.sample(5) #샘플 5개 출력"
   ]
  },
  {
   "cell_type": "code",
   "execution_count": 3,
   "id": "a99077c1",
   "metadata": {},
   "outputs": [
    {
     "data": {
      "text/html": [
       "<div>\n",
       "<style scoped>\n",
       "    .dataframe tbody tr th:only-of-type {\n",
       "        vertical-align: middle;\n",
       "    }\n",
       "\n",
       "    .dataframe tbody tr th {\n",
       "        vertical-align: top;\n",
       "    }\n",
       "\n",
       "    .dataframe thead th {\n",
       "        text-align: right;\n",
       "    }\n",
       "</style>\n",
       "<table border=\"1\" class=\"dataframe\">\n",
       "  <thead>\n",
       "    <tr style=\"text-align: right;\">\n",
       "      <th></th>\n",
       "      <th>eng</th>\n",
       "      <th>fra</th>\n",
       "    </tr>\n",
       "  </thead>\n",
       "  <tbody>\n",
       "    <tr>\n",
       "      <th>14739</th>\n",
       "      <td>I'm calling Tom.</td>\n",
       "      <td>J'appelle Tom.</td>\n",
       "    </tr>\n",
       "    <tr>\n",
       "      <th>6124</th>\n",
       "      <td>Tom likes it.</td>\n",
       "      <td>Ça plaît à Tom.</td>\n",
       "    </tr>\n",
       "    <tr>\n",
       "      <th>5708</th>\n",
       "      <td>Pull it open.</td>\n",
       "      <td>Ouvrez-le.</td>\n",
       "    </tr>\n",
       "    <tr>\n",
       "      <th>12897</th>\n",
       "      <td>You're elusive.</td>\n",
       "      <td>Tu es insaisissable.</td>\n",
       "    </tr>\n",
       "    <tr>\n",
       "      <th>17183</th>\n",
       "      <td>You're forgiven.</td>\n",
       "      <td>Tu es pardonné.</td>\n",
       "    </tr>\n",
       "  </tbody>\n",
       "</table>\n",
       "</div>"
      ],
      "text/plain": [
       "                    eng                   fra\n",
       "14739  I'm calling Tom.        J'appelle Tom.\n",
       "6124      Tom likes it.       Ça plaît à Tom.\n",
       "5708      Pull it open.            Ouvrez-le.\n",
       "12897   You're elusive.  Tu es insaisissable.\n",
       "17183  You're forgiven.       Tu es pardonné."
      ]
     },
     "execution_count": 3,
     "metadata": {},
     "output_type": "execute_result"
    }
   ],
   "source": [
    "lines = lines[['eng', 'fra']][:33000] # 5만개 샘플 사용\n",
    "lines.sample(5)"
   ]
  },
  {
   "cell_type": "code",
   "execution_count": 4,
   "id": "87ae8ca3",
   "metadata": {},
   "outputs": [],
   "source": [
    "def preprocess_sentence(sentence):\n",
    "    sentence = sentence.lower().strip()\n",
    "  \n",
    "    sentence = re.sub(r\"([?.!,¿])\", r\" \\1 \", sentence)\n",
    "    sentence = re.sub(r'[\" \"]+', \" \", sentence)\n",
    "    sentence = re.sub(r\"[^a-zA-Z?.!]+\", \" \", sentence)\n",
    "    \n",
    "    sentence = sentence.strip()\n",
    "    sentence = sentence.split(\" \")\n",
    "    \n",
    "    return sentence"
   ]
  },
  {
   "cell_type": "code",
   "execution_count": 5,
   "id": "44f9dd18",
   "metadata": {},
   "outputs": [],
   "source": [
    "def preprocess_sentence_decoder(sentence):\n",
    "    sentence = sentence.lower().strip()\n",
    "  \n",
    "    sentence = re.sub(r\"([?.!,¿])\", r\" \\1 \", sentence)\n",
    "    sentence = re.sub(r'[\" \"]+', \" \", sentence)\n",
    "    sentence = re.sub(r\"[^a-zA-Z?.!]+\", \" \", sentence)\n",
    "    \n",
    "    sentence = sentence.strip()\n",
    "    sentence = '<start> ' + sentence + ' <end>'\n",
    "    sentence = sentence.split(\" \")\n",
    "    \n",
    "    return sentence"
   ]
  },
  {
   "cell_type": "code",
   "execution_count": 6,
   "id": "a4fe1aec",
   "metadata": {},
   "outputs": [],
   "source": [
    "lines.eng = lines.eng.apply(lambda x : preprocess_sentence(x))\n",
    "lines.fra = lines.fra.apply(lambda x : preprocess_sentence_decoder(x))"
   ]
  },
  {
   "cell_type": "code",
   "execution_count": 7,
   "id": "4da12d4d",
   "metadata": {},
   "outputs": [
    {
     "data": {
      "text/plain": [
       "25131    [it, s, a, lovely, day, .]\n",
       "16315        [tom, is, wavering, .]\n",
       "16575       [we, all, like, you, .]\n",
       "5838            [take, a, whiff, .]\n",
       "32120    [they, are, both, good, .]\n",
       "Name: eng, dtype: object"
      ]
     },
     "execution_count": 7,
     "metadata": {},
     "output_type": "execute_result"
    }
   ],
   "source": [
    "lines.eng.sample(5)"
   ]
  },
  {
   "cell_type": "code",
   "execution_count": 8,
   "id": "5dca7674",
   "metadata": {},
   "outputs": [
    {
     "data": {
      "text/plain": [
       "3806                    [<start>, recommence, ., <end>]\n",
       "5316       [<start>, je, ne, suis, pas, laid, ., <end>]\n",
       "5660     [<start>, mes, yeux, me, d, mangent, ., <end>]\n",
       "21832           [<start>, et, si, je, refuse, ?, <end>]\n",
       "5825          [<start>, arr, tez, de, hurler, !, <end>]\n",
       "Name: fra, dtype: object"
      ]
     },
     "execution_count": 8,
     "metadata": {},
     "output_type": "execute_result"
    }
   ],
   "source": [
    "lines.fra.sample(5)"
   ]
  },
  {
   "cell_type": "code",
   "execution_count": 9,
   "id": "9f627c91",
   "metadata": {},
   "outputs": [],
   "source": [
    "eng_tokenizer = Tokenizer()\n",
    "eng_tokenizer.fit_on_texts(lines.eng)"
   ]
  },
  {
   "cell_type": "code",
   "execution_count": 10,
   "id": "8fa193e4",
   "metadata": {},
   "outputs": [
    {
     "name": "stdout",
     "output_type": "stream",
     "text": [
      "{'.': 1, 'i': 2, 'you': 3, '?': 4, 'tom': 5, 'it': 6, 'is': 7, 's': 8, 'a': 9, 're': 10, 'm': 11, 'we': 12, 't': 13, 'the': 14, 'that': 15, 'he': 16, 'was': 17, 'me': 18, 'this': 19, 'they': 20, 'are': 21, 'to': 22, '!': 23, 'do': 24, 'can': 25, 'my': 26, 'your': 27, 'go': 28, 'have': 29, 'not': 30, 'don': 31, 'll': 32, 'be': 33, 'she': 34, 'no': 35, 'did': 36, 'what': 37, 'all': 38, 'let': 39, 'here': 40, 'like': 41, 'in': 42, 'get': 43, 'up': 44, 'how': 45, 'very': 46, 'on': 47, 'need': 48, 'one': 49, 'want': 50, 'him': 51, 'out': 52, 'love': 53, 'come': 54, 'who': 55, 'please': 56, 'us': 57, 'there': 58, 'just': 59, 'know': 60, 'now': 61, 'stop': 62, 'so': 63, 'of': 64, 'got': 65, 'too': 66, 'help': 67, 'look': 68, 'take': 69, 'good': 70, 'for': 71, 'has': 72, 'at': 73, 'see': 74, 'will': 75, 'were': 76, 've': 77, 'keep': 78, 'had': 79, 'am': 80, 'back': 81, 'give': 82, 'feel': 83, 'saw': 84, 'try': 85, 'stay': 86, 'must': 87, 'happy': 88, 'where': 89, 'home': 90, 'alone': 91, 'didn': 92, 'car': 93, 'leave': 94, 'her': 95, 'work': 96, 'hate': 97, 'won': 98, 'everyone': 99, 'busy': 100, 'his': 101, 'again': 102, 'why': 103, 'an': 104, 'right': 105, 'made': 106, 'isn': 107, 'lost': 108, 'them': 109, 'mary': 110, 'looks': 111, 'dog': 112, 'eat': 113, 'never': 114, 'went': 115, 'felt': 116, 'may': 117, 'time': 118, 'down': 119, 'big': 120, 'job': 121, 'away': 122, 'still': 123, 'well': 124, 'nice': 125, 'wait': 126, 'going': 127, 'ready': 128, 'with': 129, 'bad': 130, 'off': 131, 'tell': 132, 'does': 133, 'drink': 134, 'say': 135, 'fun': 136, 'make': 137, 'think': 138, 'done': 139, 'book': 140, 'tired': 141, 'could': 142, 'left': 143, 'safe': 144, 'over': 145, 'about': 146, 'call': 147, 'kept': 148, 'really': 149, 'some': 150, 'old': 151, 'mine': 152, 'should': 153, 'french': 154, 'hurt': 155, 'lot': 156, 'late': 157, 'came': 158, 'enough': 159, 'money': 160, 'wasn': 161, 'open': 162, 'cold': 163, 'talk': 164, 'room': 165, 'new': 166, 'easy': 167, 'our': 168, 'way': 169, 'careful': 170, 'likes': 171, 'today': 172, 'live': 173, 'hard': 174, 'water': 175, 'read': 176, 'ok': 177, 'died': 178, 'watch': 179, 'broke': 180, 'loves': 181, 'gave': 182, 'd': 183, 'hurry': 184, 'said': 185, 'idea': 186, 'much': 187, 'house': 188, 'wrong': 189, 'more': 190, 'seems': 191, 'find': 192, 'bed': 193, 'funny': 194, 'day': 195, 'run': 196, 'dead': 197, 'door': 198, 'sure': 199, 'sit': 200, 'better': 201, 'everybody': 202, 'nobody': 203, 'found': 204, 'miss': 205, 'nothing': 206, 'cat': 207, 'man': 208, 'sleep': 209, 'upset': 210, 'both': 211, 'everything': 212, 'ask': 213, 'trust': 214, 'crazy': 215, 'turn': 216, 'hope': 217, 'hear': 218, 'sick': 219, 'yours': 220, 'true': 221, 'by': 222, 'show': 223, 'hungry': 224, 'free': 225, 'anyone': 226, 'life': 227, 'play': 228, 'pay': 229, 'die': 230, 'angry': 231, 'sad': 232, 'win': 233, 'these': 234, 'early': 235, 'mad': 236, 'school': 237, 'bring': 238, 'called': 239, 'stupid': 240, 'put': 241, 'sing': 242, 'check': 243, 'buy': 244, 'quit': 245, 'swim': 246, 'sat': 247, 'gone': 248, 'eyes': 249, 'took': 250, 'friends': 251, 'lucky': 252, 'quiet': 253, 'fine': 254, 'tall': 255, 'knew': 256, 'coming': 257, 'boy': 258, 'yourself': 259, 'forget': 260, 'mean': 261, 'fast': 262, 'walk': 263, 'drunk': 264, 'serious': 265, 'close': 266, 'working': 267, 'and': 268, 'name': 269, 'looked': 270, 'heard': 271, 'cool': 272, 'move': 273, 'care': 274, 'speak': 275, 'shot': 276, 'wine': 277, 'beer': 278, 'hand': 279, 'sorry': 280, 'calm': 281, 'perfect': 282, 'first': 283, 'knows': 284, 'kidding': 285, 'bit': 286, 'being': 287, 'fat': 288, 'stand': 289, 'outside': 290, 'remember': 291, 'problem': 292, 'friend': 293, 'almost': 294, 'thanks': 295, 'answer': 296, 'been': 297, 'loved': 298, 'great': 299, 'handle': 300, 'fell': 301, 'hold': 302, 'cry': 303, 'start': 304, 'anybody': 305, 'needs': 306, 'something': 307, 'hair': 308, 'doing': 309, 'only': 310, 'listen': 311, 'ahead': 312, 'hat': 313, 'aren': 314, 'yet': 315, 'from': 316, 'fired': 317, 'use': 318, 'follow': 319, 'liked': 320, 'met': 321, 'bus': 322, 'naive': 323, 'ate': 324, 'wants': 325, 'running': 326, 'coffee': 327, 'shut': 328, 'wake': 329, 'inside': 330, 'once': 331, 'best': 332, 'key': 333, 'finished': 334, 'plan': 335, 'kind': 336, 'tried': 337, 'long': 338, 'rich': 339, 'hot': 340, 'seat': 341, 'someone': 342, 'already': 343, 'quite': 344, 'touch': 345, 'write': 346, 'food': 347, 'son': 348, 'kids': 349, 'married': 350, 'nervous': 351, 'myself': 352, 'enjoy': 353, 'wanted': 354, 'as': 355, 'doesn': 356, 'began': 357, 'drive': 358, 'works': 359, 'red': 360, 'caught': 361, 'needed': 362, 'those': 363, 'stopped': 364, 'sign': 365, 'clean': 366, 'around': 367, 'scared': 368, 'fish': 369, 'change': 370, 'quickly': 371, 'gun': 372, 'music': 373, 'bag': 374, 'confused': 375, 'hates': 376, 'drop': 377, 'hit': 378, 'lie': 379, 'dogs': 380, 'two': 381, 'told': 382, 'sweet': 383, 'break': 384, 'girls': 385, 'believe': 386, 'wife': 387, 'word': 388, 'sounds': 389, 'beat': 390, 'ran': 391, 'fix': 392, 'lazy': 393, 'hurts': 394, 'lying': 395, 'changed': 396, 'nuts': 397, 'invited': 398, 'seen': 399, 'boston': 400, 'teacher': 401, 'tomorrow': 402, 'paid': 403, 'soon': 404, 'weird': 405, 'tv': 406, 'normal': 407, 'talking': 408, 'lunch': 409, 'crying': 410, 'laughed': 411, 'joke': 412, 'doctor': 413, 'owe': 414, 'when': 415, 'somebody': 416, 'awesome': 417, 'spoke': 418, 'catch': 419, 'luck': 420, 'waited': 421, 'missed': 422, 'child': 423, 'choice': 424, 'grab': 425, 'cute': 426, 'game': 427, 'strong': 428, 'smart': 429, 'prepared': 430, 'excited': 431, 'lose': 432, 'pretty': 433, 'would': 434, 'arrived': 435, 'if': 436, 'mother': 437, 'brave': 438, 'forgot': 439, 'after': 440, 'wonderful': 441, 'deal': 442, 'fight': 443, 'young': 444, 'milk': 445, 'song': 446, 'arm': 447, 'empty': 448, 'father': 449, 'boss': 450, 'important': 451, 'tie': 452, 'seem': 453, 'cried': 454, 'lock': 455, 'helped': 456, 'rest': 457, 'tea': 458, 'joking': 459, 'lonely': 460, 'study': 461, 'started': 462, 'bought': 463, 'light': 464, 'lied': 465, 'agree': 466, 'smoke': 467, 'shy': 468, 'rude': 469, 'awful': 470, 'worked': 471, 'cut': 472, 'guess': 473, 'asked': 474, 'small': 475, 'dream': 476, 'became': 477, 'horse': 478, 'amazing': 479, 'guy': 480, 'trouble': 481, 'getting': 482, 'sound': 483, 'terrific': 484, 'hands': 485, 'head': 486, 'alive': 487, 'walked': 488, 'saved': 489, 'slowly': 490, 'next': 491, 'upstairs': 492, 'slept': 493, 'afraid': 494, 'killed': 495, 'dinner': 496, 'oldest': 497, 'fair': 498, 'timid': 499, 'smell': 500, 'moving': 501, 'last': 502, 'drank': 503, 'leaving': 504, 'winning': 505, 'whose': 506, 'pen': 507, 'books': 508, 'which': 509, 'betrayed': 510, 'fault': 511, 'couldn': 512, 'phone': 513, 'slow': 514, 'real': 515, 'smiled': 516, 'honest': 517, 'cheated': 518, 'sleepy': 519, 'trying': 520, 'count': 521, 'often': 522, 'reading': 523, 'send': 524, 'pain': 525, 'trusted': 526, 'minute': 527, 'story': 528, 'relax': 529, 'hang': 530, 'fit': 531, 'kill': 532, 'wise': 533, 'full': 534, 'weak': 535, 'short': 536, 'dark': 537, 'step': 538, 'yes': 539, 'eating': 540, 'town': 541, 'mind': 542, 'laugh': 543, 'age': 544, 'cats': 545, 'unlucky': 546, 'happened': 547, 'always': 548, 'together': 549, 'place': 550, 'relaxed': 551, 'retired': 552, 'tough': 553, 'skinny': 554, 'ignore': 555, 'vote': 556, 'asleep': 557, 'correct': 558, 'heart': 559, 'might': 560, 'shoes': 561, 'warned': 562, 'sent': 563, 'own': 564, 'student': 565, 'turned': 566, 'join': 567, 'kiss': 568, 'push': 569, 'warm': 570, 'bored': 571, 'wish': 572, 'singing': 573, 'exhausted': 574, 'little': 575, 'family': 576, 'end': 577, 'bike': 578, 'into': 579, 'woke': 580, 'cook': 581, 'awake': 582, 'tight': 583, 'hired': 584, 'girl': 585, 'famous': 586, 'box': 587, 'trapped': 588, 'maybe': 589, 'smiling': 590, 'coat': 591, 'beautiful': 592, 'mom': 593, 'surprised': 594, 'behind': 595, 'continue': 596, 'wet': 597, 'failed': 598, 'save': 599, 'obey': 600, 'blind': 601, 'dying': 602, 'ours': 603, 'duty': 604, 'face': 605, 'liar': 606, 'night': 607, 'cake': 608, 'set': 609, 'thirsty': 610, 'broken': 611, 'silent': 612, 'closer': 613, 'many': 614, 'refused': 615, 'kid': 616, 'shopping': 617, 'blame': 618, 'black': 619, 'cops': 620, 'followed': 621, 'guilty': 622, 'point': 623, 'used': 624, 'doors': 625, 'bill': 626, 'every': 627, 'born': 628, 'choose': 629, 'naked': 630, 'far': 631, 'pardon': 632, 'thank': 633, 'blue': 634, 'curious': 635, 'news': 636, 'jealous': 637, 'shocked': 638, 'worried': 639, 'fake': 640, 'party': 641, 'bite': 642, 'kissed': 643, 'mess': 644, 'anything': 645, 'understand': 646, 'explain': 647, 'innocent': 648, 'involved': 649, 'law': 650, 'cruel': 651, 'god': 652, 'japanese': 653, 'listening': 654, 'throw': 655, 'trip': 656, 'movie': 657, 'fire': 658, 'smile': 659, 'wash': 660, 'refuse': 661, 'ugly': 662, 'helps': 663, 'warn': 664, 'patient': 665, 'men': 666, 'war': 667, 'creative': 668, 'finish': 669, 'bet': 670, 'driving': 671, 'shall': 672, 'meet': 673, 'meat': 674, 'feet': 675, 'things': 676, 'meant': 677, 'downstairs': 678, 'foolish': 679, 'or': 680, 'nose': 681, 'believed': 682, 'satisfied': 683, 'boring': 684, 'terrible': 685, 'boat': 686, 'ball': 687, 'lives': 688, 'watching': 689, 'dangerous': 690, 'desk': 691, 'side': 692, 'jump': 693, 'hello': 694, 'hug': 695, 'low': 696, 'welcome': 697, 'fly': 698, 'clear': 699, 'hero': 700, 'pick': 701, 'dance': 702, 'cash': 703, 'cooking': 704, 'fool': 705, 'useless': 706, 'rain': 707, 'team': 708, 'another': 709, 'map': 710, 'pizza': 711, 'writing': 712, 'yelling': 713, 'control': 714, 'ride': 715, 'raise': 716, 'danger': 717, 'camera': 718, 'keys': 719, 'carefully': 720, 'sister': 721, 'three': 722, 'ill': 723, 'guys': 724, 'taste': 725, 'excuse': 726, 'dirty': 727, 'agreed': 728, 'idiot': 729, 'along': 730, 'forgive': 731, 'worry': 732, 'sharp': 733, 'merciful': 734, 'snow': 735, 'list': 736, 'remain': 737, 'dress': 738, 'positive': 739, 'nearby': 740, 'happen': 741, 'shame': 742, 'looking': 743, 'polite': 744, 'survive': 745, 'week': 746, 'ambitious': 747, 'motivated': 748, 'raining': 749, 'laughing': 750, 'cup': 751, 'seemed': 752, 'second': 753, 'rid': 754, 'park': 755, 'disgusting': 756, 'baby': 757, 'brother': 758, 'feeling': 759, 'opened': 760, 'hi': 761, 'attack': 762, 'stood': 763, 'cover': 764, 'talked': 765, 'bald': 766, 'seated': 767, 'armed': 768, 'dizzy': 769, 'clever': 770, 'wrote': 771, 'shoot': 772, 'direct': 773, 'drives': 774, 'even': 775, 'friendly': 776, 'fear': 777, 'dancing': 778, 'stunned': 779, 'touched': 780, 'simple': 781, 'date': 782, 'bath': 783, 'hey': 784, 'silly': 785, 'proof': 786, 'risk': 787, 'decided': 788, 'jobs': 789, 'dry': 790, 'feels': 791, 'comes': 792, 'pleased': 793, 'impressed': 794, 'resilient': 795, 'helping': 796, 'bell': 797, 'chance': 798, 'tree': 799, 'rules': 800, 'brought': 801, 'knife': 802, 'mistake': 803, 'truth': 804, 'train': 805, 'same': 806, 'children': 807, 'enemy': 808, 'bicycle': 809, 'speaks': 810, 'begin': 811, 'high': 812, 'deep': 813, 'stayed': 814, 'glad': 815, 'okay': 816, 'beg': 817, 'stuck': 818, 'content': 819, 'lovely': 820, 'losing': 821, 'punctual': 822, 'hated': 823, 'scream': 824, 'starved': 825, 'secret': 826, 'escaped': 827, 'objective': 828, 'fearless': 829, 'cancer': 830, 'special': 831, 'focused': 832, 'while': 833, 'unbelievable': 834, 'matter': 835, 'favor': 836, 'tricked': 837, 'finally': 838, 'nearly': 839, 'different': 840, 'sense': 841, 'trusts': 842, 'makes': 843, 'rather': 844, 'having': 845, 'order': 846, 'escape': 847, 'relieved': 848, 'ordered': 849, 'productive': 850, 'oh': 851, 'deaf': 852, 'fantastic': 853, 'giggled': 854, 'burned': 855, 'loosen': 856, 'air': 857, 'green': 858, 'aside': 859, 'discreet': 860, 'also': 861, 'dumb': 862, 'baffled': 863, 'sincere': 864, 'unhappy': 865, 'loud': 866, 'teach': 867, 'resist': 868, 'deserve': 869, 'powerful': 870, 'strange': 871, 'sang': 872, 'tense': 873, 'closed': 874, 'woman': 875, 'any': 876, 'clock': 877, 'smells': 878, 'studying': 879, 'fed': 880, 'badly': 881, 'people': 882, 'skiing': 883, 'horses': 884, 'prefer': 885, 'concerned': 886, 'depressed': 887, 'leak': 888, 'window': 889, 'moment': 890, 'insane': 891, 'nonsense': 892, 'yourselves': 893, 'plays': 894, 'lit': 895, 'travel': 896, 'interested': 897, 'expensive': 898, 'apple': 899, 'tonight': 900, 'fate': 901, 'sore': 902, 'proud': 903, 'person': 904, 'pull': 905, 'birds': 906, 'rush': 907, 'poor': 908, 'promised': 909, 'loaded': 910, 'happens': 911, 'drinks': 912, 'decide': 913, 'dressed': 914, 'grew': 915, 'chose': 916, 'fined': 917, 'certain': 918, 'monday': 919, 'talks': 920, 'says': 921, 'confident': 922, 'dumped': 923, 'horrible': 924, 'pathetic': 925, 'paint': 926, 'lawyer': 927, 'singer': 928, 'divorced': 929, 'fighting': 930, 'pregnant': 931, 'sleeping': 932, 'stubborn': 933, 'white': 934, 'closely': 935, 'ended': 936, 'crime': 937, 'part': 938, 'fever': 939, 'summer': 940, 'rescued': 941, 'convinced': 942, 'forgetful': 943, 'screaming': 944, 'terrified': 945, 'later': 946, 'table': 947, 'near': 948, 'injured': 949, 'charge': 950, 'fishing': 951, 'panting': 952, 'chair': 953, 'christmas': 954, 'road': 955, 'store': 956, 'bank': 957, 'message': 958, 'drinking': 959, 'yesterday': 960, 'headache': 961, 'eye': 962, 'protect': 963, 'fortunate': 964, 'shirt': 965, 'hide': 966, 'pass': 967, 'faster': 968, 'ski': 969, 'cheered': 970, 'noticed': 971, 'promise': 972, 'fussy': 973, 'stinks': 974, 'hers': 975, 'then': 976, 'built': 977, 'amused': 978, 'buying': 979, 'ruined': 980, 'single': 981, 'sneaky': 982, 'matters': 983, 'cheap': 984, 'bother': 985, 'apologize': 986, 'soup': 987, 'messed': 988, 'eggs': 989, 'manage': 990, 'ashamed': 991, 'chicken': 992, 'staying': 993, 'memorize': 994, 'grow': 995, 'hugged': 996, 'drowned': 997, 'watched': 998, 'act': 999, 'twins': 1000, 'half': 1001, 'apples': 1002, 'plans': 1003, 'saint': 1004, 'speaking': 1005, 'missing': 1006, 'walking': 1007, 'goes': 1008, 'arguing': 1009, 'dreaming': 1010, 'bird': 1011, 'gear': 1012, 'few': 1013, 'line': 1014, 'baked': 1015, 'soccer': 1016, 'note': 1017, 'advice': 1018, 'played': 1019, 'surrendered': 1020, 'volunteered': 1021, 'available': 1022, 'powerless': 1023, 'worth': 1024, 'breath': 1025, 'shoe': 1026, 'six': 1027, 'floor': 1028, 'bright': 1029, 'crafty': 1030, 'animals': 1031, 'attacked': 1032, 'reply': 1033, 'goal': 1034, 'charming': 1035, 'stalling': 1036, 'alike': 1037, 'students': 1038, 'envious': 1039, 'death': 1040, 'swimming': 1041, 'truly': 1042, 'sounded': 1043, 'fabulous': 1044, 'himself': 1045, 'frightened': 1046, 'briefly': 1047, 'power': 1048, 'flight': 1049, 'example': 1050, 'goodbye': 1051, 'runs': 1052, 'brief': 1053, 'phoned': 1054, 'crashed': 1055, 'fainted': 1056, 'hurried': 1057, 'seriously': 1058, 'voted': 1059, 'prudent': 1060, 'breathe': 1061, 'quick': 1062, 'facts': 1063, 'doubt': 1064, 'ice': 1065, 'panicked': 1066, 'screamed': 1067, 'thirty': 1068, 'pray': 1069, 'boys': 1070, 'cheerful': 1071, 'ruthless': 1072, 'bread': 1073, 'moved': 1074, 'healthy': 1075, 'psychic': 1076, 'doll': 1077, 'locked': 1078, 'surprise': 1079, 'coughed': 1080, 'rifle': 1081, 'admire': 1082, 'sugar': 1083, 'hopeless': 1084, 'thrilled': 1085, 'digging': 1086, 'quietly': 1087, 'forward': 1088, 'smoking': 1089, 'stole': 1090, 'stoned': 1091, 'uneasy': 1092, 'else': 1093, 'fooled': 1094, 'demented': 1095, 'blood': 1096, 'wore': 1097, 'prove': 1098, 'artist': 1099, 'impatient': 1100, 'gets': 1101, 'foot': 1102, 'peace': 1103, 'suit': 1104, 'shower': 1105, 'tastes': 1106, 'cousins': 1107, 'enemies': 1108, 'cows': 1109, 'complain': 1110, 'year': 1111, 'eaten': 1112, 'spot': 1113, 'cookies': 1114, 'harm': 1115, 'holiday': 1116, 'overworked': 1117, 'large': 1118, 'prices': 1119, 'blew': 1120, 'afford': 1121, 'glass': 1122, 'dad': 1123, 'noise': 1124, 'match': 1125, 'kidnapped': 1126, 'alarmed': 1127, 'sour': 1128, 'decision': 1129, 'believes': 1130, 'daughter': 1131, 'threatened': 1132, 'fingers': 1133, 'surrounded': 1134, 'knees': 1135, 'thing': 1136, 'parents': 1137, 'burn': 1138, 'jumped': 1139, 'thin': 1140, 'odd': 1141, 'bless': 1142, 'pack': 1143, 'destroy': 1144, 'fill': 1145, 'canceled': 1146, 'envy': 1147, 'flinched': 1148, 'greedy': 1149, 'shaken': 1150, 'strict': 1151, 'generous': 1152, 'thorough': 1153, 'class': 1154, 'disagreed': 1155, 'golf': 1156, 'sell': 1157, 'struggled': 1158, 'attend': 1159, 'finicky': 1160, 'wealthy': 1161, 'paper': 1162, 'dope': 1163, 'safely': 1164, 'annoying': 1165, 'arrogant': 1166, 'romantic': 1167, 'doubts': 1168, 'cab': 1169, 'star': 1170, 'thought': 1171, 'learn': 1172, 'sue': 1173, 'canadian': 1174, 'ears': 1175, 'mistaken': 1176, 'offended': 1177, 'obvious': 1178, 'snowing': 1179, 'staring': 1180, 'gold': 1181, 'pale': 1182, 'words': 1183, 'talented': 1184, 'beware': 1185, 'deny': 1186, 'feed': 1187, 'flowers': 1188, 'maid': 1189, 'thief': 1190, 'deserved': 1191, 'winter': 1192, 'ring': 1193, 'copy': 1194, 'taxi': 1195, 'outrank': 1196, 'delighted': 1197, 'intrigued': 1198, 'coach': 1199, 'weapon': 1200, 'number': 1201, 'gambling': 1202, 'doctors': 1203, 'grass': 1204, 'scolded': 1205, 'truck': 1206, 'astonished': 1207, 'contagious': 1208, 'making': 1209, 'vegetarian': 1210, 'picture': 1211, 'their': 1212, 'harmless': 1213, 'escaping': 1214, 'congratulations': 1215, 'hour': 1216, 'pencil': 1217, 'learned': 1218, 'rang': 1219, 'embarrassed': 1220, 'fresh': 1221, 'ridiculous': 1222, 'smaller': 1223, 'mouth': 1224, 'answered': 1225, 'straight': 1226, 'sale': 1227, 'forgiven': 1228, 'remained': 1229, 'overreacting': 1230, 'conceited': 1231, 'murdered': 1232, 'unique': 1233, 'weapons': 1234, 'loudly': 1235, 'familiar': 1236, 'overwhelmed': 1237, 'unconscious': 1238, 'sort': 1239, 'rained': 1240, 'courageous': 1241, 'knocked': 1242, 'leader': 1243, 'master': 1244, 'banged': 1245, 'drove': 1246, 'obeyed': 1247, 'rested': 1248, 'snowed': 1249, 'course': 1250, 'walks': 1251, 'admit': 1252, 'chuckled': 1253, 'exercise': 1254, 'twin': 1255, 'humble': 1256, 'comment': 1257, 'nap': 1258, 'cheat': 1259, 'yelled': 1260, 'harder': 1261, 'cancel': 1262, 'argue': 1263, 'resigned': 1264, 'share': 1265, 'fruit': 1266, 'rice': 1267, 'gas': 1268, 'smashed': 1269, 'teasing': 1270, 'through': 1271, 'split': 1272, 'shake': 1273, 'leg': 1274, 'guessed': 1275, 'huge': 1276, 'evil': 1277, 'fall': 1278, 'denied': 1279, 'kicked': 1280, 'exciting': 1281, 'apologized': 1282, 'draw': 1283, 'chess': 1284, 'jokes': 1285, 'robbed': 1286, 'twice': 1287, 'genius': 1288, 'bluffing': 1289, 'grateful': 1290, 'obedient': 1291, 'reliable': 1292, 'checked': 1293, 'waste': 1294, 'diary': 1295, 'command': 1296, 'scary': 1297, 'translate': 1298, 'pitch': 1299, 'ignored': 1300, 'english': 1301, 'adorable': 1302, 'despise': 1303, 'tempted': 1304, 'allow': 1305, 'fan': 1306, 'treat': 1307, 'personal': 1308, 'possible': 1309, 'standing': 1310, 'bragging': 1311, 'adores': 1312, 'misled': 1313, 'remembers': 1314, 'succeed': 1315, 'judge': 1316, 'disappeared': 1317, 'outgoing': 1318, 'slapped': 1319, 'wide': 1320, 'spiders': 1321, 'painted': 1322, 'glasses': 1323, 'speechless': 1324, 'successful': 1325, 'roses': 1326, 'counting': 1327, 'whistling': 1328, 'helpful': 1329, 'similar': 1330, 'remembered': 1331, 'troubled': 1332, 'earlier': 1333, 'cleaned': 1334, 'excused': 1335, 'expect': 1336, 'towel': 1337, 'partner': 1338, 'tongue': 1339, 'sons': 1340, 'haven': 1341, 'tennis': 1342, 'unusual': 1343, 'city': 1344, 'incredible': 1345, 'its': 1346, 'office': 1347, 'gray': 1348, 'remove': 1349, 'repeat': 1350, 'separated': 1351, 'startled': 1352, 'fuse': 1353, 'blown': 1354, 'flexible': 1355, 'cap': 1356, 'candle': 1357, 'breakfast': 1358, 'rarely': 1359, 'criminal': 1360, 'weight': 1361, 'ever': 1362, 'showed': 1363, 'tire': 1364, 'promoted': 1365, 'hilarious': 1366, 'talkative': 1367, 'skipped': 1368, 'pants': 1369, 'weather': 1370, 'candles': 1371, 'downtown': 1372, 'forced': 1373, 'volume': 1374, 'stink': 1375, 'cop': 1376, 'cooks': 1377, 'unlock': 1378, 'cares': 1379, 'disagree': 1380, 'fixed': 1381, 'art': 1382, 'survived': 1383, 'accept': 1384, 'alert': 1385, 'replace': 1386, 'sec': 1387, 'fail': 1388, 'eight': 1389, 'jerk': 1390, 'confessed': 1391, 'cars': 1392, 'washed': 1393, 'dieting': 1394, 'popular': 1395, 'puzzled': 1396, 'selfish': 1397, 'legal': 1398, 'flat': 1399, 'trap': 1400, 'spring': 1401, 'numb': 1402, 'easily': 1403, 'games': 1404, 'understood': 1405, 'addicted': 1406, 'bleeding': 1407, 'faithful': 1408, 'freezing': 1409, 'grounded': 1410, 'outraged': 1411, 'reserved': 1412, 'starving': 1413, 'unfair': 1414, 'hideous': 1415, 'legs': 1416, 'recess': 1417, 'dreams': 1418, 'approved': 1419, 'overslept': 1420, 'mature': 1421, 'years': 1422, 'type': 1423, 'rope': 1424, 'fought': 1425, 'clue': 1426, 'nature': 1427, 'ought': 1428, 'stabbed': 1429, 'disgusted': 1430, 'expecting': 1431, 'impulsive': 1432, 'uninsured': 1433, 'apart': 1434, 'unlocked': 1435, 'climbing': 1436, 'proceed': 1437, 'attention': 1438, 'clearly': 1439, 'stuff': 1440, 'creepy': 1441, 'crept': 1442, 'vulgar': 1443, 'remarried': 1444, 'scares': 1445, 'violent': 1446, 'wounded': 1447, 'till': 1448, 'waiting': 1449, 'grumpy': 1450, 'annoy': 1451, 'guns': 1452, 'form': 1453, 'van': 1454, 'keeps': 1455, 'arrested': 1456, 'playing': 1457, 'sun': 1458, 'welcomed': 1459, 'devastated': 1460, 'bargain': 1461, 'prepare': 1462, 'meter': 1463, 'awkward': 1464, 'price': 1465, 'radio': 1466, 'complained': 1467, 'precise': 1468, 'prude': 1469, 'interrupt': 1470, 'mercy': 1471, 'dreamer': 1472, 'mentioned': 1473, 'notice': 1474, 'evidence': 1475, 'homework': 1476, 'lay': 1477, 'misjudged': 1478, 'tissue': 1479, 'mayor': 1480, 'totally': 1481, 'horrified': 1482, 'wouldn': 1483, 'volunteer': 1484, 'able': 1485, 'training': 1486, 'such': 1487, 'handsome': 1488, 'windy': 1489, 'niece': 1490, 'leaves': 1491, 'alarm': 1492, 'church': 1493, 'sky': 1494, 'held': 1495, 'deranged': 1496, 'repulsive': 1497, 'punched': 1498, 'cannot': 1499, 'disloyal': 1500, 'cross': 1501, 'juice': 1502, 'debt': 1503, 'embarrassing': 1504, 'sweat': 1505, 'bowed': 1506, 'politely': 1507, 'traveling': 1508, 'bar': 1509, 'search': 1510, 'entered': 1511, 'abandoned': 1512, 'courteous': 1513, 'weren': 1514, 'heavy': 1515, 'screw': 1516, 'advance': 1517, 'but': 1518, 'arms': 1519, 'days': 1520, 'brainer': 1521, 'bothering': 1522, 'letting': 1523, 'wow': 1524, 'bury': 1525, 'fold': 1526, 'waved': 1527, 'aim': 1528, 'tries': 1529, 'nodded': 1530, 'east': 1531, 'west': 1532, 'hung': 1533, 'north': 1534, 'biased': 1535, 'fad': 1536, 'cooked': 1537, 'sensible': 1538, 'watchful': 1539, 'panic': 1540, 'mice': 1541, 'rock': 1542, 'taxes': 1543, 'recovered': 1544, 'succeeded': 1545, 'jittery': 1546, 'sloshed': 1547, 'unarmed': 1548, 'fact': 1549, 'pipe': 1550, 'cloudy': 1551, 'ironic': 1552, 'timing': 1553, 'card': 1554, 'plants': 1555, 'return': 1556, 'caution': 1557, 'guest': 1558, 'beef': 1559, 'snack': 1560, 'poet': 1561, 'enjoyed': 1562, 'faint': 1563, 'giddy': 1564, 'handled': 1565, 'honey': 1566, 'women': 1567, 'rose': 1568, 'smelled': 1569, 'farmer': 1570, 'member': 1571, 'drowning': 1572, 'rumor': 1573, 'garbage': 1574, 'genuine': 1575, 'stir': 1576, 'pushing': 1577, 'trash': 1578, 'bores': 1579, 'focus': 1580, 'dating': 1581, 'shock': 1582, 'respectful': 1583, 'blow': 1584, 'kite': 1585, 'dropped': 1586, 'sells': 1587, 'american': 1588, 'contributed': 1589, 'movies': 1590, 'salmon': 1591, 'hiking': 1592, 'insist': 1593, 'object': 1594, 'respect': 1595, 'plane': 1596, 'pool': 1597, 'contented': 1598, 'flattered': 1599, 'miserable': 1600, 'observant': 1601, 'saying': 1602, 'worse': 1603, 'takes': 1604, 'test': 1605, 'business': 1606, 'differ': 1607, 'anyway': 1608, 'suits': 1609, 'texted': 1610, 'growing': 1611, 'related': 1612, 'add': 1613, 'racist': 1614, 'mug': 1615, 'video': 1616, 'uncle': 1617, 'borrow': 1618, 'corrected': 1619, 'secrets': 1620, 'dessert': 1621, 'protest': 1622, 'punished': 1623, 'details': 1624, 'revenge': 1625, 'insulted': 1626, 'wear': 1627, 'testify': 1628, 'survivor': 1629, 'optimistic': 1630, 'untalented': 1631, 'miracle': 1632, 'peel': 1633, 'teased': 1634, 'beauty': 1635, 'appeared': 1636, 'snap': 1637, 'calmly': 1638, 'brothers': 1639, 'helpless': 1640, 'country': 1641, 'causes': 1642, 'wind': 1643, 'capsized': 1644, 'police': 1645, 'trunk': 1646, 'signed': 1647, 'dawn': 1648, 'hardly': 1649, 'stared': 1650, 'cheating': 1651, 'writes': 1652, 'husband': 1653, 'photogenic': 1654, 'interesting': 1655, 'appreciate': 1656, 'violence': 1657, 'hammer': 1658, 'color': 1659, 'introverted': 1660, 'minded': 1661, 'modest': 1662, 'happening': 1663, 'allowed': 1664, 'irrelevant': 1665, 'negotiate': 1666, 'bottle': 1667, 'tied': 1668, 'lake': 1669, 'moon': 1670, 'exit': 1671, 'times': 1672, 'immature': 1673, 'sipped': 1674, 'dishes': 1675, 'visit': 1676, 'organized': 1677, 'prisoners': 1678, 'stolen': 1679, 'prize': 1680, 'teaches': 1681, 'crack': 1682, 'blushing': 1683, 'top': 1684, 'drawer': 1685, 'concentrate': 1686, 'umbrella': 1687, 'dumbfounded': 1688, 'knee': 1689, 'coughing': 1690, 'led': 1691, 'chocolate': 1692, 'beach': 1693, 'computer': 1694, 'retire': 1695, 'aggressive': 1696, 'humiliated': 1697, 'sunday': 1698, 'letter': 1699, 'belongs': 1700, 'difficult': 1701, 'rainy': 1702, 'sunny': 1703, 'gain': 1704, 'elaborate': 1705, 'complaining': 1706, 'studies': 1707, 'sports': 1708, 'released': 1709, 'mistakes': 1710, 'taking': 1711, 'five': 1712, 'hobby': 1713, 'traitor': 1714, 'obnoxious': 1715, 'question': 1716, 'pet': 1717, 'brown': 1718, 'raised': 1719, 'shook': 1720, 'raking': 1721, 'graduate': 1722, 'style': 1723, 'photo': 1724, 'garden': 1725, 'wild': 1726, 'lights': 1727, 'driver': 1728, 'responsible': 1729, 'prisoner': 1730, 'registered': 1731, 'using': 1732, 'comic': 1733, 'log': 1734, 'gotten': 1735, 'strive': 1736, 'unreliable': 1737, 'duck': 1738, 'cheers': 1739, 'knit': 1740, 'dozed': 1741, 'snore': 1742, 'skip': 1743, 'marry': 1744, 'cringed': 1745, 'exhaled': 1746, 'loyal': 1747, 'sand': 1748, 'seize': 1749, 'swam': 1750, 'aboard': 1751, 'carry': 1752, 'fret': 1753, 'south': 1754, 'tragic': 1755, 'listened': 1756, 'squinted': 1757, 'baking': 1758, 'chubby': 1759, 'paying': 1760, 'safer': 1761, 'wept': 1762, 'lighten': 1763, 'notes': 1764, 'flies': 1765, 'winced': 1766, 'comfort': 1767, 'guts': 1768, 'beans': 1769, 'hesitated': 1770, 'math': 1771, 'third': 1772, 'baker': 1773, 'medic': 1774, 'blessed': 1775, 'engaged': 1776, 'falling': 1777, 'furious': 1778, 'stuffed': 1779, 'rule': 1780, 'scam': 1781, 'poison': 1782, 'urgent': 1783, 'means': 1784, 'blushed': 1785, 'stick': 1786, 'grim': 1787, 'pity': 1788, 'attentive': 1789, 'realistic': 1790, 'evening': 1791, 'donut': 1792, 'bigot': 1793, 'lousy': 1794, 'opera': 1795, 'sushi': 1796, 'risks': 1797, 'coward': 1798, 'homeless': 1799, 'homesick': 1800, 'angel': 1801, 'rational': 1802, 'truthful': 1803, 'deer': 1804, 'wolf': 1805, 'bedtime': 1806, 'pigs': 1807, 'plug': 1808, 'sued': 1809, 'louder': 1810, 'pig': 1811, 'loser': 1812, 'ink': 1813, 'bossy': 1814, 'ain': 1815, 'included': 1816, 'supportive': 1817, 'skate': 1818, 'gamble': 1819, 'wins': 1820, 'deeply': 1821, 'hole': 1822, 'pinched': 1823, 'admired': 1824, 'muslim': 1825, 'caused': 1826, 'cough': 1827, 'dislike': 1828, 'bananas': 1829, 'freaked': 1830, 'elected': 1831, 'orders': 1832, 'tenure': 1833, 'cheese': 1834, 'rescheduled': 1835, 'ghost': 1836, 'behave': 1837, 'budge': 1838, 'plumber': 1839, 'tourist': 1840, 'committed': 1841, 'dedicated': 1842, 'desperate': 1843, 'expert': 1844, 'shivering': 1845, 'skeptical': 1846, 'gift': 1847, 'saturday': 1848, 'relief': 1849, 'outdated': 1850, 'seal': 1851, 'model': 1852, 'shouting': 1853, 'sweep': 1854, 'cow': 1855, 'oven': 1856, 'japan': 1857, 'joined': 1858, 'adopted': 1859, 'annoyed': 1860, 'packing': 1861, 'page': 1862, 'before': 1863, 'respond': 1864, 'thinks': 1865, 'mail': 1866, 'wicked': 1867, 'qualified': 1868, 'hiring': 1869, 'flew': 1870, 'beard': 1871, 'sold': 1872, 'gambler': 1873, 'prison': 1874, 'flunk': 1875, 'honored': 1876, 'nauseous': 1877, 'vision': 1878, 'carrots': 1879, 'parties': 1880, 'sisters': 1881, 'flu': 1882, 'college': 1883, 'plead': 1884, 'puppy': 1885, 'captured': 1886, 'careless': 1887, 'cooperate': 1888, 'guide': 1889, 'against': 1890, 'diplomatic': 1891, 'exercising': 1892, 'fascinated': 1893, 'undressing': 1894, 'redundant': 1895, 'risky': 1896, 'larger': 1897, 'biting': 1898, 'bunch': 1899, 'hogwash': 1900, 'illegal': 1901, 'rubbish': 1902, 'barked': 1903, 'leaks': 1904, 'annoys': 1905, 'fork': 1906, 'intervened': 1907, 'unmoved': 1908, 'volunteers': 1909, 'sweating': 1910, 'retiring': 1911, 'tragedy': 1912, 'taken': 1913, 'wipe': 1914, 'present': 1915, 'bees': 1916, 'brush': 1917, 'dismissed': 1918, 'insult': 1919, 'overdo': 1920, 'solution': 1921, 'studied': 1922, 'adventurous': 1923, 'abhor': 1924, 'seizure': 1925, 'resign': 1926, 'football': 1927, 'leukemia': 1928, 'returned': 1929, 'showered': 1930, 'baseball': 1931, 'seldom': 1932, 'witness': 1933, 'solve': 1934, 'detective': 1935, 'calling': 1936, 'celebrating': 1937, 'comfortable': 1938, 'cracking': 1939, 'defenseless': 1940, 'extroverted': 1941, 'interfering': 1942, 'handed': 1943, 'persevering': 1944, 'resourceful': 1945, 'trustworthy': 1946, 'breathing': 1947, 'natural': 1948, 'moldy': 1949, 'ago': 1950, 'impossible': 1951, 'impressive': 1952, 'terrifying': 1953, 'neither': 1954, 'seeing': 1955, 'orange': 1956, 'assertive': 1957, 'sea': 1958, 'feared': 1959, 'rabbits': 1960, 'dejected': 1961, 'wears': 1962, 'suffer': 1963, 'panicking': 1964, 'suffered': 1965, 'ideas': 1966, 'giving': 1967, 'disaster': 1968, 'cost': 1969, 'naughty': 1970, 'barking': 1971, 'apply': 1972, 'teeth': 1973, 'street': 1974, 'mention': 1975, 'reason': 1976, 'suddenly': 1977, 'distracted': 1978, 'arabic': 1979, 'blanket': 1980, 'ticket': 1981, 'sneezed': 1982, 'hybrid': 1983, 'empowered': 1984, 'egg': 1985, 'month': 1986, 'cousin': 1987, 'between': 1988, 'fairly': 1989, 'shape': 1990, 'company': 1991, 'washing': 1992, 'necessary': 1993, 'size': 1994, 'sofa': 1995, 'informed': 1996, 'repair': 1997, 'cards': 1998, 'planet': 1999, 'socks': 2000, 'rejected': 2001, 'wisely': 2002, 'showing': 2003, 'ludicrous': 2004, 'limit': 2005, 'guard': 2006, 'monster': 2007, 'sarcastic': 2008, 'texting': 2009, 'soldiers': 2010, 'dozing': 2011, 'whatever': 2012, 'mirror': 2013, 'younger': 2014, 'others': 2015, 'thieves': 2016, 'earth': 2017, 'goodnight': 2018, 'ballistic': 2019, 'barely': 2020, 'grade': 2021, 'lightly': 2022, 'accident': 2023, 'pulled': 2024, 'discouraged': 2025, 'heavily': 2026, 'world': 2027, 'rage': 2028, 'emergency': 2029, 'sight': 2030, 'rats': 2031, 'rising': 2032, 'bitterly': 2033, 'harassing': 2034, 'wall': 2035, 'worst': 2036, 'handcuffed': 2037, 'suspicious': 2038, 'changing': 2039, 'jacket': 2040, 'terms': 2041, 'european': 2042, 'robots': 2043, 'gloves': 2044, 'offend': 2045, 'address': 2046, 'confirm': 2047, 'jail': 2048, 'lived': 2049, 'offense': 2050, 'kissing': 2051, 'scout': 2052, 'sighed': 2053, 'tidy': 2054, 'speed': 2055, 'lies': 2056, 'bark': 2057, 'film': 2058, 'grinned': 2059, 'groaned': 2060, 'sober': 2061, 'aah': 2062, 'dig': 2063, 'calls': 2064, 'absurd': 2065, 'cpr': 2066, 'relented': 2067, 'hiding': 2068, 'pooped': 2069, 'fox': 2070, 'cd': 2071, 'phony': 2072, 'jesus': 2073, 'scoot': 2074, 'agrees': 2075, 'snores': 2076, 'cds': 2077, 'gloat': 2078, 'coin': 2079, 'nerd': 2080, 'adore': 2081, 'exercised': 2082, 'jazz': 2083, 'nailed': 2084, 'protested': 2085, 'lips': 2086, 'widow': 2087, 'fasting': 2088, 'humming': 2089, 'psyched': 2090, 'fatal': 2091, 'lift': 2092, 'burns': 2093, 'clap': 2094, 'press': 2095, 'enter': 2096, 'release': 2097, 'lame': 2098, 'glum': 2099, 'neat': 2100, 'slim': 2101, 'sweated': 2102, 'bore': 2103, 'owns': 2104, 'describe': 2105, 'ghosts': 2106, 'exist': 2107, 'morning': 2108, 'cranky': 2109, 'driven': 2110, 'barbaric': 2111, 'liars': 2112, 'piano': 2113, 'lion': 2114, 'beaten': 2115, 'wonder': 2116, 'gullible': 2117, 'reformed': 2118, 'restless': 2119, 'shooting': 2120, 'thinking': 2121, 'ticklish': 2122, 'unbiased': 2123, 'identify': 2124, 'vague': 2125, 'robot': 2126, 'archaic': 2127, 'complex': 2128, 'ladies': 2129, 'lead': 2130, 'spy': 2131, 'heroes': 2132, 'minors': 2133, 'nerve': 2134, 'vanished': 2135, 'passed': 2136, 'scare': 2137, 'slipping': 2138, 'questions': 2139, 'reasonable': 2140, 'body': 2141, 'security': 2142, 'circle': 2143, 'exhale': 2144, 'cookie': 2145, 'eats': 2146, 'toys': 2147, 'senior': 2148, 'insecure': 2149, 'diabetic': 2150, 'pie': 2151, 'belong': 2152, 'steal': 2153, 'queasy': 2154, 'visa': 2155, 'garlic': 2156, 'yellow': 2157, 'hockey': 2158, 'violin': 2159, 'funds': 2160, 'rat': 2161, 'bacon': 2162, 'mask': 2163, 'dentist': 2164, 'easygoing': 2165, 'diet': 2166, 'plastered': 2167, 'sensitive': 2168, 'unmarried': 2169, 'voting': 2170, 'painful': 2171, 'wig': 2172, 'flaw': 2173, 'viral': 2174, 'gorgeous': 2175, 'stealing': 2176, 'offer': 2177, 'beside': 2178, 'worrying': 2179, 'symptoms': 2180, 'vary': 2181, 'dvd': 2182, 'sheep': 2183, 'touchy': 2184, 'sinking': 2185, 'responded': 2186, 'hypocrite': 2187, 'idiots': 2188, 'morons': 2189, 'crude': 2190, 'hint': 2191, 'wheel': 2192, 'counts': 2193, 'author': 2194, 'brakes': 2195, 'spinach': 2196, 'picnics': 2197, 'turtles': 2198, 'answers': 2199, 'data': 2200, 'usually': 2201, 'cleaning': 2202, 'detained': 2203, 'outdoors': 2204, 'unharmed': 2205, 'freshman': 2206, 'dehydrated': 2207, 'illiterate': 2208, 'methodical': 2209, 'quitter': 2210, 'overweight': 2211, 'winner': 2212, 'unemployed': 2213, 'forgotten': 2214, 'bear': 2215, 'likely': 2216, 'planned': 2217, 'wednesday': 2218, 'snowman': 2219, 'beyond': 2220, 'brand': 2221, 'undamaged': 2222, 'ache': 2223, 'choked': 2224, 'alright': 2225, 'evident': 2226, 'logical': 2227, 'roof': 2228, 'ford': 2229, 'callous': 2230, 'immoral': 2231, 'nodding': 2232, 'sobbing': 2233, 'recover': 2234, 'brain': 2235, 'refugees': 2236, 'paris': 2237, 'adjust': 2238, 'defend': 2239, 'rub': 2240, 'meal': 2241, 'prayed': 2242, 'acts': 2243, 'painter': 2244, 'gloomy': 2245, 'surfing': 2246, 'lad': 2247, 'southpaw': 2248, 'id': 2249, 'unfortunate': 2250, 'salad': 2251, 'disobeyed': 2252, 'expected': 2253, 'sunburned': 2254, 'voice': 2255, 'screams': 2256, 'teaching': 2257, 'tokyo': 2258, 'misunderstood': 2259, 'helmet': 2260, 'sword': 2261, 'land': 2262, 'biking': 2263, 'shifted': 2264, 'gears': 2265, 'taught': 2266, 'refund': 2267, 'acquitted': 2268, 'rent': 2269, 'tipsy': 2270, 'attorney': 2271, 'daydreaming': 2272, 'experienced': 2273, 'heartbroken': 2274, 'vacation': 2275, 'sympathetic': 2276, 'manager': 2277, 'unambitious': 2278, 'river': 2279, 'soft': 2280, 'disgrace': 2281, 'shortcut': 2282, 'acceptable': 2283, 'inadequate': 2284, 'sweltering': 2285, 'season': 2286, 'practice': 2287, 'jeans': 2288, 'sticky': 2289, 'changes': 2290, 'forgave': 2291, 'reads': 2292, 'roll': 2293, 'silence': 2294, 'steady': 2295, 'engine': 2296, 'breather': 2297, 'peculiar': 2298, 'salt': 2299, 'blocked': 2300, 'greeted': 2301, 'visited': 2302, 'reality': 2303, 'friday': 2304, 'agitated': 2305, 'dyslexic': 2306, 'resolute': 2307, 'skittish': 2308, 'tactless': 2309, 'wavering': 2310, 'mouse': 2311, 'understands': 2312, 'front': 2313, 'toes': 2314, 'teachers': 2315, 'freedom': 2316, 'lack': 2317, 'realize': 2318, 'rented': 2319, 'canadians': 2320, 'impartial': 2321, 'pleasure': 2322, 'comb': 2323, 'loo': 2324, 'picky': 2325, 'less': 2326, 'catholic': 2327, 'cane': 2328, 'immediately': 2329, 'consider': 2330, 'dial': 2331, 'deceive': 2332, 'garage': 2333, 'joy': 2334, 'picasso': 2335, 'hunt': 2336, 'biologist': 2337, 'grown': 2338, 'struck': 2339, 'pork': 2340, 'ripped': 2341, 'halloween': 2342, 'surprises': 2343, 'receipt': 2344, 'allergies': 2345, 'hay': 2346, 'standards': 2347, 'toothache': 2348, 'drill': 2349, 'ropes': 2350, 'wallet': 2351, 'yolks': 2352, 'soul': 2353, 'tires': 2354, 'frustrated': 2355, 'gladly': 2356, 'disappointed': 2357, 'america': 2358, 'heading': 2359, 'killing': 2360, 'living': 2361, 'riddle': 2362, 'threat': 2363, 'valuable': 2364, 'effective': 2365, 'race': 2366, 'habit': 2367, 'settled': 2368, 'complicated': 2369, 'compromise': 2370, 'mars': 2371, 'smokes': 2372, 'tiny': 2373, 'stomach': 2374, 'parrots': 2375, 'article': 2376, 'defeated': 2377, 'tb': 2378, 'disliked': 2379, 'spit': 2380, 'upsetting': 2381, 'tank': 2382, 'ambushed': 2383, 'deceived': 2384, 'glanced': 2385, 'problems': 2386, 'mystery': 2387, 'excellent': 2388, 'guitar': 2389, 'silently': 2390, 'deported': 2391, 'goggles': 2392, 'headed': 2393, 'considered': 2394, 'visitors': 2395, 'owners': 2396, 'eater': 2397, 'nightmare': 2398, 'build': 2399, 'copies': 2400, 'rely': 2401, 'pens': 2402, 'gentleman': 2403, 'scientist': 2404, 'twisted': 2405, 'bathe': 2406, 'brushed': 2407, 'verify': 2408, 'intervene': 2409, 'scarf': 2410, 'soaking': 2411, 'schedule': 2412, 'privacy': 2413, 'regrets': 2414, 'everywhere': 2415, 'colors': 2416, 'ignorance': 2417, 'gym': 2418, 'guessing': 2419, 'persuaded': 2420, 'dubious': 2421, 'neighbor': 2422, 'inflation': 2423, 'pure': 2424, 'depends': 2425, 'cumbersome': 2426, 'depressing': 2427, 'destiny': 2428, 'greasy': 2429, 'moot': 2430, 'reconsider': 2431, 'pretend': 2432, 'teen': 2433, 'aspirin': 2434, 'market': 2435, 'foxes': 2436, 'articulate': 2437, 'recovering': 2438, 'remarkable': 2439, 'hopeful': 2440, 'suffocating': 2441, 'meeting': 2442, 'cowards': 2443, 'stain': 2444, 'future': 2445, 'applause': 2446, 'invite': 2447, 'murder': 2448, 'snails': 2449, 'choosy': 2450, 'king': 2451, 'hospital': 2452, 'unimpressed': 2453, 'position': 2454, 'information': 2455, 'religion': 2456, 'somewhere': 2457, 'custom': 2458, 'challenge': 2459, 'candlelight': 2460, 'outfit': 2461, 'spilled': 2462, 'boyfriend': 2463, 'hire': 2464, 'chef': 2465, 'learning': 2466, 'handcrafted': 2467, 'unavoidable': 2468, 'corner': 2469, 'crowded': 2470, 'battery': 2471, 'frozen': 2472, 'template': 2473, 'shoelaces': 2474, 'comforted': 2475, 'downhearted': 2476, 'frazzled': 2477, 'hop': 2478, 'froze': 2479, 'swore': 2480, 'kick': 2481, 'goofed': 2482, 'moaned': 2483, 'chill': 2484, 'dj': 2485, 'sexy': 2486, 'humor': 2487, 'blinked': 2488, 'inhaled': 2489, 'tripped': 2490, 'leo': 2491, 'cured': 2492, 'above': 2493, 'below': 2494, 'higher': 2495, 'bottoms': 2496, 'swiss': 2497, 'human': 2498, 'b': 2499, 'objected': 2500, 'shrugged': 2501, 'threw': 2502, 'whistled': 2503, 'immune': 2504, 'soaked': 2505, 'wasted': 2506, 'bogus': 2507, 'magic': 2508, 'chat': 2509, 'mama': 2510, 'braked': 2511, 'gasped': 2512, 'unscrew': 2513, 'sunk': 2514, 'specific': 2515, 'bowl': 2516, 'shout': 2517, 'stare': 2518, 'flip': 2519, 'hunk': 2520, 'slob': 2521, 'monk': 2522, 'buried': 2523, 'oppose': 2524, 'snickered': 2525, 'surrender': 2526, 'frantic': 2527, 'neutral': 2528, 'stumped': 2529, 'foggy': 2530, 'yen': 2531, 'futile': 2532, 'warmer': 2533, 'across': 2534, 'record': 2535, 'settle': 2536, 'icky': 2537, 'wary': 2538, 'listens': 2539, 'older': 2540, 'drag': 2541, 'loss': 2542, 'ship': 2543, 'ramble': 2544, 'slouch': 2545, 'examine': 2546, 'avoids': 2547, 'heroic': 2548, 'dare': 2549, 'chased': 2550, 'jogging': 2551, 'honor': 2552, 'trips': 2553, 'space': 2554, 'rewrote': 2555, 'wimped': 2556, 'gemini': 2557, 'taurus': 2558, 'barber': 2559, 'dancer': 2560, 'surfer': 2561, 'adult': 2562, 'autistic': 2563, 'cultured': 2564, 'eighteen': 2565, 'managing': 2566, 'iron': 2567, 'amazed': 2568, 'curse': 2569, 'review': 2570, 'itch': 2571, 'shrieked': 2572, 'pouting': 2573, 'whining': 2574, 'yawning': 2575, 'approve': 2576, 'enlisted': 2577, 'grumbled': 2578, 'obese': 2579, 'stoic': 2580, 'vegan': 2581, 'adults': 2582, 'doomed': 2583, 'imbecile': 2584, 'moody': 2585, 'futon': 2586, 'blindfold': 2587, 'despair': 2588, 'peas': 2589, 'dies': 2590, 'haircut': 2591, 'ham': 2592, 'cracked': 2593, 'braces': 2594, 'skating': 2595, 'bled': 2596, 'honk': 2597, 'horn': 2598, 'delicious': 2599, 'thrilling': 2600, 'runner': 2601, 'borrowed': 2602, 'bribed': 2603, 'designed': 2604, 'reborn': 2605, 'scammed': 2606, 'asthma': 2607, 'rights': 2608, 'camels': 2609, 'cities': 2610, 'grapes': 2611, 'poetry': 2612, 'trains': 2613, 'sock': 2614, 'autumn': 2615, 'crew': 2616, 'lamp': 2617, 'support': 2618, 'crushed': 2619, 'dazzled': 2620, 'drugged': 2621, 'poems': 2622, 'songs': 2623, 'scorpio': 2624, 'soldier': 2625, 'surgeon': 2626, 'adaptable': 2627, 'orphan': 2628, 'bilingual': 2629, 'efficient': 2630, 'strike': 2631, 'surviving': 2632, 'bat': 2633, 'gag': 2634, 'superb': 2635, 'rental': 2636, 'homemade': 2637, 'midnight': 2638, 'occupied': 2639, 'suicidal': 2640, 'unlikely': 2641, 'hustling': 2642, 'aloud': 2643, 'russia': 2644, 'clapping': 2645, 'spitting': 2646, 'straighten': 2647, 'saturn': 2648, 'myth': 2649, 'doable': 2650, 'untrue': 2651, 'asian': 2652, 'spies': 2653, 'false': 2654, 'online': 2655, 'unhurt': 2656, 'upbeat': 2657, 'winded': 2658, 'rushed': 2659, 'staggered': 2660, 'frank': 2661, 'choking': 2662, 'elderly': 2663, 'snoring': 2664, 'wax': 2665, 'prevail': 2666, 'group': 2667, 'sync': 2668, 'lawyers': 2669, 'stalled': 2670, 'bummer': 2671, 'fiasco': 2672, 'legibly': 2673, 'charlatan': 2674, 'hoot': 2675, 'snob': 2676, 'unkind': 2677, 'avoid': 2678, 'clich': 2679, 'juggle': 2680, 'gate': 2681, 'recycle': 2682, 'force': 2683, 'struggle': 2684, 'tease': 2685, 'tempt': 2686, 'dude': 2687, 'afternoon': 2688, 'lip': 2689, 'dislikes': 2690, 'actor': 2691, 'respects': 2692, 'ex': 2693, 'banana': 2694, 'decorated': 2695, 'gossip': 2696, 'suntan': 2697, 'expelled': 2698, 'stroke': 2699, 'sundays': 2700, 'hiccups': 2701, 'voices': 2702, 'hiccup': 2703, 'bowling': 2704, 'history': 2705, 'lobster': 2706, 'mahjong': 2707, 'puzzles': 2708, 'stories': 2709, 'stamp': 2710, 'file': 2711, 'korean': 2712, 'justice': 2713, 'barefoot': 2714, 'hammered': 2715, 'impolite': 2716, 'agony': 2717, 'pardoned': 2718, 'prosper': 2719, 'musician': 2720, 'dependable': 2721, 'firing': 2722, 'meditating': 2723, 'bitter': 2724, 'prejudiced': 2725, 'revolting': 2726, 'searching': 2727, 'tooth': 2728, 'tune': 2729, 'science': 2730, 'nurse': 2731, 'bach': 2732, 'sings': 2733, 'gossiping': 2734, 'grumbling': 2735, 'quibbling': 2736, 'sniffling': 2737, 'tower': 2738, 'flag': 2739, 'melted': 2740, 'siren': 2741, 'snag': 2742, 'muddy': 2743, 'bites': 2744, 'theirs': 2745, 'tricky': 2746, 'dice': 2747, 'pear': 2748, 'crook': 2749, 'moron': 2750, 'sitting': 2751, 'smarter': 2752, 'unfazed': 2753, 'retaliated': 2754, 'improve': 2755, 'clueless': 2756, 'crash': 2757, 'blast': 2758, 'guests': 2759, 'action': 2760, 'partners': 2761, 'quitting': 2762, 'stronger': 2763, 'rip': 2764, 'disgust': 2765, 'screwed': 2766, 'amusing': 2767, 'elusive': 2768, 'obscene': 2769, 'pro': 2770, 'insured': 2771, 'round': 2772, 'hibernate': 2773, 'bullet': 2774, 'boil': 2775, 'whistle': 2776, 'boxes': 2777, 'nails': 2778, 'hatch': 2779, 'jam': 2780, 'stingy': 2781, 'interfere': 2782, 'remind': 2783, 'popcorn': 2784, 'bottom': 2785, 'ambition': 2786, 'ten': 2787, 'slowpoke': 2788, 'humiliating': 2789, 'bachelor': 2790, 'compete': 2791, 'chickened': 2792, 'downloaded': 2793, 'dried': 2794, 'feverish': 2795, 'isolated': 2796, 'tomatoes': 2797, 'fanatics': 2798, 'weddings': 2799, 'bruise': 2800, 'laptop': 2801, 'epilepsy': 2802, 'area': 2803, 'army': 2804, 'supper': 2805, 'outwitted': 2806, 'scored': 2807, 'vitamins': 2808, 'parrot': 2809, 'assaulted': 2810, 'convicted': 2811, 'wondering': 2812, 'zoo': 2813, 'arrange': 2814, 'assist': 2815, 'double': 2816, 'capricorn': 2817, 'addict': 2818, 'carpenter': 2819, 'foreigner': 2820, 'geologist': 2821, 'engineer': 2822, 'begging': 2823, 'catching': 2824, 'cooperating': 2825, 'hardworking': 2826, 'ammo': 2827, 'spontaneous': 2828, 'unconvinced': 2829, 'tasted': 2830, 'handmade': 2831, 'outrage': 2832, 'improbable': 2833, 'inevitable': 2834, 'misleading': 2835, 'refreshing': 2836, 'typical': 2837, 'sufficient': 2838, 'humid': 2839, 'paging': 2840, 'covered': 2841, 'lemons': 2842, 'improvise': 2843, 'merry': 2844, 'shift': 2845, 'squeak': 2846, 'pour': 2847, 'lid': 2848, 'rejection': 2849, 'calmed': 2850, 'graceful': 2851, 'nosy': 2852, 'chances': 2853, 'frankly': 2854, 'puzzle': 2855, 'doubtful': 2856, 'damp': 2857, 'net': 2858, 'cure': 2859, 'pilots': 2860, 'gifts': 2861, 'wasting': 2862, 'acted': 2863, 'tailor': 2864, 'giggling': 2865, 'knocking': 2866, 'perverse': 2867, 'pleasant': 2868, 'spirited': 2869, 'unafraid': 2870, 'unnerved': 2871, 'stops': 2872, 'sees': 2873, 'sleeps': 2874, 'slowed': 2875, 'fools': 2876, 'retreat': 2877, 'sailing': 2878, 'fixing': 2879, 'newcomers': 2880, 'newlyweds': 2881, 'resigning': 2882, 'survivors': 2883, 'unrelated': 2884, 'treasure': 2885, 'oar': 2886, 'devil': 2887, 'menace': 2888, 'than': 2889, 'wings': 2890, 'accidents': 2891, 'invisible': 2892, 'golfer': 2893, 'maniac': 2894, 'typist': 2895, 'wizard': 2896, 'boxing': 2897, 'brace': 2898, 'normally': 2899, 'spell': 2900, 'blinds': 2901, 'supply': 2902, 'bridge': 2903, 'wire': 2904, 'delicately': 2905, 'faces': 2906, 'yell': 2907, 'meals': 2908, 'veggies': 2909, 'hamster': 2910, 'costs': 2911, 'gardening': 2912, 'without': 2913, 'stairs': 2914, 'flow': 2915, 'croissant': 2916, 'recently': 2917, 'backward': 2918, 'pajamas': 2919, 'hunting': 2920, 'oranges': 2921, 'moves': 2922, 'ratted': 2923, 'france': 2924, 'bartender': 2925, 'senile': 2926, 'intelligent': 2927, 'heaven': 2928, 'professor': 2929, 'brazil': 2930, 'reschedule': 2931, 'trout': 2932, 'confiscated': 2933, 'protected': 2934, 'chemistry': 2935, 'computers': 2936, 'hypocrisy': 2937, 'paperwork': 2938, 'website': 2939, 'gunshots': 2940, 'lifted': 2941, 'ocean': 2942, 'temper': 2943, 'adventure': 2944, 'hedgehogs': 2945, 'band': 2946, 'view': 2947, 'kleenex': 2948, 'escort': 2949, 'pointed': 2950, 'recommend': 2951, 'rematch': 2952, 'vengeance': 2953, 'unprepared': 2954, 'victorious': 2955, 'farm': 2956, 'demonstrate': 2957, 'clerk': 2958, 'alcoholic': 2959, 'conservative': 2960, 'disorganized': 2961, 'dissatisfied': 2962, 'homeschooled': 2963, 'ignoring': 2964, 'stressed': 2965, 'super': 2966, 'volunteering': 2967, 'trick': 2968, 'freaks': 2969, 'virus': 2970, 'hype': 2971, 'mandatory': 2972, 'tradition': 2973, 'frightening': 2974, 'drug': 2975, 'lower': 2976, 'itchy': 2977, 'pulse': 2978, 'windows': 2979, 'button': 2980, 'bellyaching': 2981, 'hassling': 2982, 'italy': 2983, 'despises': 2984, 'obstinate': 2985, 'rode': 2986, 'camel': 2987, 'worships': 2988, 'shots': 2989, 'nit': 2990, 'picking': 2991, 'million': 2992, 'brilliant': 2993, 'curtain': 2994, 'rough': 2995, 'switch': 2996, 'icy': 2997, 'scoffed': 2998, 'artists': 2999, 'accurate': 3000, 'required': 3001, 'bounced': 3002, 'forgives': 3003, 'rabbit': 3004, 'chickens': 3005, 'delirious': 3006, 'indignant': 3007, 'merciless': 3008, 'observing': 3009, 'sighing': 3010, 'tulips': 3011, 'smiles': 3012, 'overheard': 3013, 'stepped': 3014, 'tickled': 3015, 'appalled': 3016, 'watches': 3017, 'innovative': 3018, 'instead': 3019, 'slower': 3020, 'competed': 3021, 'demand': 3022, 'depend': 3023, 'warning': 3024, 'pictures': 3025, 'classmates': 3026, 'seek': 3027, 'score': 3028, 'belt': 3029, 'wherever': 3030, 'cheaper': 3031, 'developed': 3032, 'lady': 3033, 'notified': 3034, 'nicely': 3035, 'x': 3036, 'marks': 3037, 'seventh': 3038, 'unethical': 3039, 'zip': 3040, 'steps': 3041, 'bachelors': 3042, 'religious': 3043, 'policeman': 3044, 'ambulance': 3045, 'link': 3046, 'cocaine': 3047, 'startle': 3048, 'disable': 3049, 'kratom': 3050, 'fuss': 3051, 'threaten': 3052, 'haste': 3053, 'employs': 3054, 'gives': 3055, 'grabbed': 3056, 'blond': 3057, 'physicist': 3058, 'forty': 3059, 'incompetent': 3060, 'influential': 3061, 'unrealistic': 3062, 'frugally': 3063, 'requested': 3064, 'sailor': 3065, 'russian': 3066, 'travels': 3067, 'rapidly': 3068, 'imprisoned': 3069, 'journalist': 3070, 'pink': 3071, 'handrail': 3072, 'spelled': 3073, 'bolted': 3074, 'clothes': 3075, 'bags': 3076, 'tutor': 3077, 'other': 3078, 'mosquitoes': 3079, 'hangover': 3080, 'passport': 3081, 'proposal': 3082, 'chest': 3083, 'skirt': 3084, 'hats': 3085, 'outlive': 3086, 'picked': 3087, 'muscle': 3088, 'jest': 3089, 'inchworm': 3090, 'victory': 3091, 'shouldn': 3092, 'sometimes': 3093, 'plate': 3094, 'notebook': 3095, 'apology': 3096, 'passenger': 3097, 'discredited': 3098, 'total': 3099, 'wreck': 3100, 'aware': 3101, 'awfully': 3102, 'concentrating': 3103, 'flabbergasted': 3104, 'lab': 3105, 'insure': 3106, 'nonstop': 3107, 'deliberate': 3108, 'horrendous': 3109, 'unexpected': 3110, 'flimsy': 3111, 'conspiracy': 3112, 'knock': 3113, 'investigate': 3114, 'enjoyable': 3115, 'prediction': 3116, 'mosquitos': 3117, 'aching': 3118, 'shoulder': 3119, 'misses': 3120, 'none': 3121, 'toy': 3122, 'beginner': 3123, 'attractive': 3124, 'unsociable': 3125, 'fashionable': 3126, 'hyperactive': 3127, 'turning': 3128, 'flower': 3129, 'somehow': 3130, 'badgering': 3131, 'exaggerating': 3132, 'following': 3133, 'interrupting': 3134, 'wood': 3135, 'rings': 3136, 'classified': 3137, 'disturbing': 3138, 'opinion': 3139, 'bland': 3140, 'dull': 3141, 'lovers': 3142, 'shop': 3143, 'thick': 3144, 'system': 3145, 'damage': 3146, 'hunted': 3147, 'tortured': 3148, 'identical': 3149, 'appalling': 3150, 'offensive': 3151, 'permanent': 3152, 'sickening': 3153, 'fishy': 3154, 'praying': 3155, 'claims': 3156, 'deserves': 3157, 'freed': 3158, 'imitated': 3159, 'despondent': 3160, 'protective': 3161, 'crawling': 3162, 'peeked': 3163, 'peered': 3164, 'recognized': 3165, 'patiently': 3166, 'sensed': 3167, 'strangled': 3168, 'hose': 3169, 'beers': 3170, 'flaws': 3171, 'p': 3172, 'due': 3173, 'handling': 3174, 'killers': 3175, 'pessimistic': 3176, 'revelation': 3177, 'happiness': 3178, 'major': 3179, 'stitches': 3180, 'murderer': 3181, 'hurting': 3182, 'mocking': 3183, 'fascinate': 3184, 'flute': 3185, 'advised': 3186, 'subject': 3187, 'pockets': 3188, 'tells': 3189, 'blog': 3190, 'stones': 3191, 'weekend': 3192, 'applauded': 3193, 'blanks': 3194, 'desire': 3195, 'traffic': 3196, 'breathed': 3197, 'cartwheel': 3198, 'gripped': 3199, 'alzheimer': 3200, 'classmate': 3201, 'colleague': 3202, 'memory': 3203, 'chinese': 3204, 'filthy': 3205, 'aristocrat': 3206, 'print': 3207, 'completely': 3208, 'sin': 3209, 'chilly': 3210, 'loads': 3211, 'roommate': 3212, 'carpet': 3213, 'spare': 3214, 'patience': 3215, 'explosions': 3216, 'emailed': 3217, 'mission': 3218, 'mathematics': 3219, 'pot': 3220, 'roast': 3221, 'blamed': 3222, 'oiled': 3223, 'report': 3224, 'repeated': 3225, 'sliced': 3226, 'suggest': 3227, 'disqualified': 3228, 'consulted': 3229, 'learner': 3230, 'beginning': 3231, 'laying': 3232, 'supporting': 3233, 'supposed': 3234, 'board': 3235, 'compliment': 3236, 'boggles': 3237, 'astonishing': 3238, 'mesmerizing': 3239, 'concern': 3240, 'recipe': 3241, 'fridge': 3242, 'knowledge': 3243, 'rephrase': 3244, 'moons': 3245, 'goals': 3246, 'lofty': 3247, 'suitcase': 3248, 'cucumbers': 3249, 'bandage': 3250, 'schools': 3251, 'manners': 3252, 'charity': 3253, 'slip': 3254, 'correcting': 3255, 'tickles': 3256, 'sip': 3257, 'unimportant': 3258, 'attempt': 3259, 'buzzer': 3260, 'melting': 3261, 'rallied': 3262, 'path': 3263, 'wandered': 3264, 'wrestlers': 3265, 'th': 3266, 'families': 3267, 'hostages': 3268, 'tents': 3269, 'peaceful': 3270, 'disposable': 3271, 'foreigners': 3272, 'bigger': 3273, 'follows': 3274, 'chosen': 3275, 'launders': 3276, 'blankly': 3277, 'persistent': 3278, 'tuck': 3279, 'fled': 3280, 'pair': 3281, 'cheer': 3282, 'cuff': 3283, 'cursed': 3284, 'frowned': 3285, 'gloated': 3286, 'grunted': 3287, 'prepaid': 3288, 'shouted': 3289, 'needy': 3290, 'poured': 3291, 'dived': 3292, 'knits': 3293, 'limps': 3294, 'rocks': 3295, 'r': 3296, 'shivered': 3297, 'flabby': 3298, 'begun': 3299, 'bulky': 3300, 'taboo': 3301, 'lasts': 3302, 'cheats': 3303, 'cusses': 3304, 'farted': 3305, 'sobbed': 3306, 'yawned': 3307, 'blink': 3308, 'nasty': 3309, 'faking': 3310, 'taller': 3311, 'assume': 3312, 'tapes': 3313, 'glue': 3314, 'curt': 3315, 'gambles': 3316, 'gargled': 3317, 'meek': 3318, 'vain': 3319, 'reacted': 3320, 'sneered': 3321, 'sniffed': 3322, 'snorted': 3323, 'hell': 3324, 'dump': 3325, 'heel': 3326, 'drew': 3327, 'abandon': 3328, 'backup': 3329, 'litter': 3330, 'warmly': 3331, 'spoon': 3332, 'mocked': 3333, 'caviar': 3334, 'carded': 3335, 'ax': 3336, 'hives': 3337, 'improvised': 3338, 'rugby': 3339, 'suppose': 3340, 'sympathize': 3341, 'canned': 3342, 'framed': 3343, 'weighed': 3344, 'priest': 3345, 'purist': 3346, 'agent': 3347, 'famished': 3348, 'hungover': 3349, 'rebel': 3350, 'worn': 3351, 'solid': 3352, 'elk': 3353, 'noisy': 3354, 'heal': 3355, 'plant': 3356, 'setup': 3357, 'hearsay': 3358, 'suicide': 3359, 'bounce': 3360, 'mull': 3361, 'hip': 3362, 'cared': 3363, 'filming': 3364, 'gawking': 3365, 'whiff': 3366, 'rare': 3367, 'spam': 3368, 'approves': 3369, 'insisted': 3370, 'pudgy': 3371, 'sniffled': 3372, 'stutters': 3373, 'arabs': 3374, 'starve': 3375, 'ufo': 3376, 'amuse': 3377, 'gross': 3378, 'drown': 3379, 'mock': 3380, 'sass': 3381, 'healthily': 3382, 'bloom': 3383, 'riddance': 3384, 'advises': 3385, 'dug': 3386, 'british': 3387, 'grouch': 3388, 'jesuit': 3389, 'tycoon': 3390, 'acquired': 3391, 'added': 3392, 'classes': 3393, 'poker': 3394, 'exaggerated': 3395, 'drowsy': 3396, 'unwell': 3397, 'forbid': 3398, 'bonus': 3399, 'fleeced': 3400, 'crowds': 3401, 'flying': 3402, 'sirens': 3403, 'clocks': 3404, 'prunes': 3405, 'yacht': 3406, 'squash': 3407, 'resent': 3408, 'queen': 3409, 'firefox': 3410, 'pony': 3411, 'nights': 3412, 'trainee': 3413, 'parole': 3414, 'resentful': 3415, 'damaged': 3416, 'sickens': 3417, 'bomb': 3418, 'hoax': 3419, 'parody': 3420, 'sequel': 3421, 'indecent': 3422, 'instinct': 3423, 'obsolete': 3424, 'paddling': 3425, 'mortal': 3426, 'motion': 3427, 'aches': 3428, 'lungs': 3429, 'cage': 3430, 'active': 3431, 'obeys': 3432, 'livid': 3433, 'cutie': 3434, 'ease': 3435, 'frowning': 3436, 'scowling': 3437, 'heap': 3438, 'rad': 3439, 'mooed': 3440, 'embraced': 3441, 'pun': 3442, 'basic': 3443, 'exercises': 3444, 'graduated': 3445, 'goats': 3446, 'sexist': 3447, 'somber': 3448, 'stable': 3449, 'overdosed': 3450, 'shuddered': 3451, 'stiffened': 3452, 'tensed': 3453, 'testified': 3454, 'untie': 3455, 'assumed': 3456, 'trees': 3457, 'tools': 3458, 'opposed': 3459, 'candy': 3460, 'rebuild': 3461, 'anxious': 3462, 'winners': 3463, 'matured': 3464, 'hassle': 3465, 'disagrees': 3466, 'absent': 3467, 'coke': 3468, 'intruding': 3469, 'boats': 3470, 'sink': 3471, 'shovel': 3472, 'contact': 3473, 'tigers': 3474, 'purr': 3475, 'farts': 3476, 'gasps': 3477, 'lines': 3478, 'birthday': 3479, 'holidays': 3480, 'tan': 3481, 'gazed': 3482, 'writer': 3483, 'bankrupt': 3484, 'jelly': 3485, 'owes': 3486, 'hungarian': 3487, 'con': 3488, 'outlaw': 3489, 'henpecked': 3490, 'ached': 3491, 'perceptive': 3492, 'nail': 3493, 'draft': 3494, 'seasick': 3495, 'snubbed': 3496, 'guarantee': 3497, 'mishap': 3498, 'hailed': 3499, 'mondays': 3500, 'insects': 3501, 'ironing': 3502, 'karaoke': 3503, 'zealots': 3504, 'amnesia': 3505, 'thud': 3506, 'almonds': 3507, 'castles': 3508, 'oysters': 3509, 'sashimi': 3510, 'seafood': 3511, 'upstate': 3512, 'lasagna': 3513, 'sunsets': 3514, 'muffins': 3515, 'decline': 3516, 'insulin': 3517, 'asap': 3518, 'surgery': 3519, 'predicted': 3520, 'cattle': 3521, 'serve': 3522, 'sneeze': 3523, 'urge': 3524, 'memo': 3525, 'scold': 3526, 'merchant': 3527, 'minister': 3528, 'salesman': 3529, 'thumbs': 3530, 'farsighted': 3531, 'remodeling': 3532, 'killer': 3533, 'credible': 3534, 'common': 3535, 'fluke': 3536, 'magical': 3537, 'classic': 3538, 'firefly': 3539, 'ambush': 3540, 'dishonest': 3541, 'forbidden': 3542, 'cream': 3543, 'inspiring': 3544, 'vibrating': 3545, 'worthless': 3546, 'lend': 3547, 'clues': 3548, 'mum': 3549, 'joints': 3550, 'itches': 3551, 'tummy': 3552, 'ow': 3553, 'ditched': 3554, 'brains': 3555, 'prudish': 3556, 'swims': 3557, 'types': 3558, 'hottie': 3559, 'looker': 3560, 'poking': 3561, 'resisting': 3562, 'sir': 3563, 'plastic': 3564, 'honked': 3565, 'quarreled': 3566, 'babies': 3567, 'unsafe': 3568, 'hectic': 3569, 'draws': 3570, 'issues': 3571, 'scurvy': 3572, 'talent': 3573, 'felon': 3574, 'giant': 3575, 'lefty': 3576, 'mason': 3577, 'pilot': 3578, 'cynical': 3579, 'devoted': 3580, 'pompous': 3581, 'radical': 3582, 'shaving': 3583, 'slender': 3584, 'spoiled': 3585, 'unkempt': 3586, 'tofu': 3587, 'maps': 3588, 'stranded': 3589, 'unstable': 3590, 'sauce': 3591, 'rear': 3592, 'landed': 3593, 'couple': 3594, 'butchers': 3595, 'letdown': 3596, 'atm': 3597, 'reinstated': 3598, 'suggestions': 3599, 'purple': 3600, 'balls': 3601, 'bears': 3602, 'anytime': 3603, 'clip': 3604, 'crows': 3605, 'rap': 3606, 'freak': 3607, 'danced': 3608, 'fasten': 3609, 'fetch': 3610, 'whirl': 3611, 'onto': 3612, 'daddy': 3613, 'toyota': 3614, 'racket': 3615, 'intrigues': 3616, 'ethiopian': 3617, 'sweets': 3618, 'puts': 3619, 'airs': 3620, 'whisky': 3621, 'shouts': 3622, 'swindled': 3623, 'comedian': 3624, 'frat': 3625, 'gardener': 3626, 'newcomer': 3627, 'mud': 3628, 'hoist': 3629, 'sails': 3630, 'hypnotism': 3631, 'egypt': 3632, 'booked': 3633, 'carp': 3634, 'dealt': 3635, 'funerals': 3636, 'politics': 3637, 'raccoons': 3638, 'reptiles': 3639, 'heat': 3640, 'rug': 3641, 'alibi': 3642, 'dandruff': 3643, 'diabetes': 3644, 'immunity': 3645, 'thump': 3646, 'rains': 3647, 'elbow': 3648, 'imagined': 3649, 'lent': 3650, 'cartoons': 3651, 'westerns': 3652, 'interest': 3653, 'barbecue': 3654, 'comedies': 3655, 'eggplant': 3656, 'brownies': 3657, 'internet': 3658, 'caffeine': 3659, 'guidance': 3660, 'tape': 3661, 'shave': 3662, 'bills': 3663, 'orchids': 3664, 'relied': 3665, 'respected': 3666, 'pattern': 3667, 'coma': 3668, 'patrol': 3669, 'petrified': 3670, 'cameraman': 3671, 'chauffeur': 3672, 'housewife': 3673, 'lifeguard': 3674, 'masochist': 3675, 'owl': 3676, 'stutterer': 3677, 'frying': 3678, 'nearsighted': 3679, 'deck': 3680, 'replaceable': 3681, 'captain': 3682, 'hazardous': 3683, 'poisonous': 3684, 'zebra': 3685, 'ethical': 3686, 'poorly': 3687, 'option': 3688, 'burnt': 3689, 'ages': 3690, 'enticing': 3691, 'mushroom': 3692, 'travesty': 3693, 'artificial': 3694, 'dirt': 3695, 'loan': 3696, 'secure': 3697, 'tax': 3698, 'narrow': 3699, 'scarce': 3700, 'knead': 3701, 'dough': 3702, 'koalas': 3703, 'celebrate': 3704, 'kites': 3705, 'shrank': 3706, 'natto': 3707, 'october': 3708, 'wonders': 3709, 'planning': 3710, 'rake': 3711, 'saddle': 3712, 'sharks': 3713, 'brazilian': 3714, 'silk': 3715, 'spanish': 3716, 'nagging': 3717, 'squabbling': 3718, 'whimpering': 3719, 'pagoda': 3720, 'shadow': 3721, 'cast': 3722, 'growled': 3723, 'stank': 3724, 'tub': 3725, 'howled': 3726, 'actors': 3727, 'melons': 3728, 'interns': 3729, 'farce': 3730, 'private': 3731, 'pleases': 3732, 'each': 3733, 'burps': 3734, 'dances': 3735, 'exaggerates': 3736, 'ipad': 3737, 'client': 3738, 'jockey': 3739, 'player': 3740, 'welder': 3741, 'adapting': 3742, 'anorexic': 3743, 'athletic': 3744, 'cautious': 3745, 'childish': 3746, 'depraved': 3747, 'drenched': 3748, 'eloquent': 3749, 'immobile': 3750, 'insolent': 3751, 'likeable': 3752, 'reckless': 3753, 'sneezing': 3754, 'studious': 3755, 'tireless': 3756, 'tolerant': 3757, 'learns': 3758, 'dazed': 3759, 'falls': 3760, 'moose': 3761, 'photos': 3762, 'evasive': 3763, 'moaning': 3764, 'paralyzed': 3765, 'earned': 3766, 'yawn': 3767, 'walls': 3768, 'declared': 3769, 'raw': 3770, 'ponchos': 3771, 'waffles': 3772, 'experts': 3773, 'shared': 3774, 'farmers': 3775, 'camp': 3776, 'attorneys': 3777, 'comedians': 3778, 'gardeners': 3779, 'gentlemen': 3780, 'incorrect': 3781, 'neighbors': 3782, 'past': 3783, 'relatives': 3784, 'soulmates': 3785, 'blessing': 3786, 'prospect': 3787, 'weakling': 3788, 'stake': 3789, 'gpa': 3790, 'jello': 3791, 'unsure': 3792, 'mustn': 3793, 'rut': 3794, 'atlantis': 3795, 'snakes': 3796, 'beaks': 3797, 'climb': 3798, 'consult': 3799, 'pasta': 3800, 'rashly': 3801, 'disturb': 3802, 'exaggerate': 3803, 'groans': 3804, 'gossips': 3805, 'floating': 3806, 'purpose': 3807, 'useful': 3808, 'hobo': 3809, 'noon': 3810, 'speech': 3811, 'joker': 3812, 'acrobat': 3813, 'shares': 3814, 'soundly': 3815, 'tenacious': 3816, 'winked': 3817, 'lover': 3818, 'historian': 3819, 'nonsmoker': 3820, 'sophomore': 3821, 'hone': 3822, 'skills': 3823, 'melodramatic': 3824, 'norway': 3825, 'witch': 3826, 'weekly': 3827, 'appreciated': 3828, 'bumped': 3829, 'reach': 3830, 'deliver': 3831, 'pizzas': 3832, 'disregarded': 3833, 'drugs': 3834, 'dilemma': 3835, 'refreshed': 3836, 'drift': 3837, 'goosebumps': 3838, 'texts': 3839, 'reasons': 3840, 'fireworks': 3841, 'diploma': 3842, 'grenade': 3843, 'request': 3844, 'heartburn': 3845, 'insurance': 3846, 'pneumonia': 3847, 'wavy': 3848, 'journal': 3849, 'astrology': 3850, 'elephants': 3851, 'novel': 3852, 'mushrooms': 3853, 'uncles': 3854, 'mysteries': 3855, 'pop': 3856, 'papers': 3857, 'australia': 3858, 'astronomy': 3859, 'libraries': 3860, 'fortune': 3861, 'spaghetti': 3862, 'envelopes': 3863, 'soap': 3864, 'subtitles': 3865, 'planted': 3866, 'regret': 3867, 'require': 3868, 'rubbed': 3869, 'umbrellas': 3870, 'lease': 3871, 'strongly': 3872, 'divorce': 3873, 'martini': 3874, 'pal': 3875, 'raccoon': 3876, 'scooter': 3877, 'dumbstruck': 3878, 'raffle': 3879, 'bookkeeper': 3880, 'riser': 3881, 'programmer': 3882, 'shutterbug': 3883, 'ambidextrous': 3884, 'enthusiastic': 3885, 'freaking': 3886, 'fbi': 3887, 'housesitting': 3888, 'attic': 3889, 'inviting': 3890, 'beggar': 3891, 'paranoid': 3892, 'row': 3893, 'youngest': 3894, 'drawn': 3895, 'conscious': 3896, 'accessible': 3897, 'euros': 3898, 'perks': 3899, 'excessive': 3900, 'april': 3901, 'snowstorm': 3902, 'sunflower': 3903, 'balmy': 3904, 'conceivable': 3905, 'cooler': 3906, 'fetched': 3907, 'regrettable': 3908, 'transparent': 3909, 'unnecessary': 3910, 'asia': 3911, 'camping': 3912, 'darts': 3913, 'fleas': 3914, 'inbox': 3915, 'sunburn': 3916, 'beats': 3917, 'stung': 3918, 'oil': 3919, 'pets': 3920, 'pump': 3921, 'ending': 3922, 'rome': 3923, 'idolized': 3924, 'scene': 3925, 'repulses': 3926, 'bench': 3927, 'pitied': 3928, 'apologizing': 3929, 'taunting': 3930, 'touching': 3931, 'precautions': 3932, 'kindly': 3933, 'explains': 3934, 'avoidable': 3935, 'blackmail': 3936, 'idle': 3937, 'affair': 3938, 'issue': 3939, 'troubling': 3940, 'ticked': 3941, 'creaked': 3942, 'bucked': 3943, 'jury': 3944, 'mass': 3945, 'noes': 3946, 'limits': 3947, 'singers': 3948, 'plenty': 3949, 'amateurs': 3950, 'traitors': 3951, 'insanity': 3952, 'official': 3953, 'puzzling': 3954, 'relaxing': 3955, 'sabotage': 3956, 'shameful': 3957, 'shocking': 3958, 'norm': 3959, 'precious': 3960, 'admires': 3961, 'avoided': 3962, 'raft': 3963, 'coughs': 3964, 'fried': 3965, 'charisma': 3966, 'onions': 3967, 'drummer': 3968, 'gourmet': 3969, 'gymnast': 3970, 'hipster': 3971, 'pianist': 3972, 'realtor': 3973, 'trucker': 3974, 'intern': 3975, 'competent': 3976, 'deceitful': 3977, 'emotional': 3978, 'improving': 3979, 'inventive': 3980, 'legendary': 3981, 'oblivious': 3982, 'campus': 3983, 'overjoyed': 3984, 'perplexed': 3985, 'regretful': 3986, 'reluctant': 3987, 'shameless': 3988, 'suspended': 3989, 'owner': 3990, 'ponies': 3991, 'steals': 3992, 'suggested': 3993, 'swears': 3994, 'abducted': 3995, 'babbling': 3996, 'cremated': 3997, 'ecstatic': 3998, 'executed': 3999, 'selected': 4000, 'unshaven': 4001, 'berserk': 4002, 'bonkers': 4003, 'headstrong': 4004, 'undefeated': 4005, 'robbery': 4006, 'swordfish': 4007, 'crisis': 4008, 'theory': 4009, 'injuries': 4010, 'evacuate': 4011, 'withdraw': 4012, 'supplies': 4013, 'downsizing': 4014, 'historians': 4015, 'lifeguards': 4016, 'mates': 4017, 'fails': 4018, 'razor': 4019, 'uses': 4020, 'hamlet': 4021, 'wool': 4022, 'dyes': 4023, 'quote': 4024, 'distant': 4025, 'failure': 4026, 'lunatic': 4027, 'practical': 4028, 'leaf': 4029, 'under': 4030, 'arrest': 4031, 'nests': 4032, 'champagne': 4033, 'chuck': 4034, 'click': 4035, 'compare': 4036, 'imminent': 4037, 'ants': 4038, 'lager': 4039, 'latin': 4040, 'wanna': 4041, 'ignorant': 4042, 'crass': 4043, 'petty': 4044, 'pushy': 4045, 'fry': 4046, 'rung': 4047, 'blackmailed': 4048, 'carried': 4049, 'chewed': 4050, 'gum': 4051, 'deals': 4052, 'grain': 4053, 'roughly': 4054, 'vase': 4055, 'earns': 4056, 'fills': 4057, 'hanged': 4058, 'ego': 4059, 'daredevil': 4060, 'osaka': 4061, 'miles': 4062, 'wakes': 4063, 'raging': 4064, 'scripts': 4065, 'buff': 4066, 'timer': 4067, 'undergrad': 4068, 'georgia': 4069, 'trusting': 4070, 'heed': 4071, 'warnings': 4072, 'darkened': 4073, 'hamburger': 4074, 'sandwich': 4075, 'baited': 4076, 'hook': 4077, 'bid': 4078, 'cactus': 4079, 'webcam': 4080, 'shelter': 4081, 'upfront': 4082, 'chopin': 4083, 'register': 4084, 'vulnerable': 4085, 'grades': 4086, 'bee': 4087, 'sting': 4088, 'ground': 4089, 'breakdown': 4090, 'hypocrites': 4091, 'interviews': 4092, 'desert': 4093, 'backache': 4094, 'migraine': 4095, 'sailboat': 4096, 'earache': 4097, 'discs': 4098, 'savings': 4099, 'sleeve': 4100, 'jackpot': 4101, 'intend': 4102, 'navy': 4103, 'bitten': 4104, 'practicing': 4105, 'confidence': 4106, 'adventures': 4107, 'challenges': 4108, 'folk': 4109, 'sauerkraut': 4110, 'spicy': 4111, 'odds': 4112, 'watermelon': 4113, 'hotel': 4114, 'dam': 4115, 'earring': 4116, 'balance': 4117, 'hamburgers': 4118, 'performing': 4119, 'album': 4120, 'minutes': 4121, 'keyboard': 4122, 'protection': 4123, 'toothpaste': 4124, 'oversleep': 4125, 'abroad': 4126, 'hood': 4127, 'paused': 4128, 'tambourine': 4129, 'volleyball': 4130, 'pruned': 4131, 'jaw': 4132, 'pushed': 4133, 'recommended': 4134, 'airplane': 4135, 'sunrise': 4136, 'known': 4137, 'swallowed': 4138, 'bug': 4139, 'swept': 4140, 'geography': 4141, 'otherwise': 4142, 'highway': 4143, 'plates': 4144, 'confess': 4145, 'workout': 4146, 'sympathy': 4147, 'mugged': 4148, 'misinformed': 4149, 'outnumbered': 4150, 'trespassing': 4151, 'flirting': 4152, 'harvard': 4153, 'shotgun': 4154, 'sagittarius': 4155, 'trainer': 4156, 'worker': 4157, 'salesperson': 4158, 'accountant': 4159, 'astronomer': 4160, 'boiling': 4161, 'bringing': 4162, 'extremely': 4163, 'irreplaceable': 4164, 'materialistic': 4165, 'strongest': 4166, 'uncomfortable': 4167, 'evicted': 4168, 'diarrhea': 4169, 'pride': 4170, 'rumors': 4171, 'smoked': 4172, 'notarized': 4173, 'warranted': 4174, 'curfew': 4175, 'remedy': 4176, 'reward': 4177, 'stunning': 4178, 'pieces': 4179, 'ways': 4180, 'cooled': 4181, 'optional': 4182, 'massacre': 4183, 'convenient': 4184, 'disastrous': 4185, 'wobbly': 4186, 'club': 4187, 'dictionary': 4188, 'confidential': 4189, 'questionable': 4190, 'imprecise': 4191, 'starting': 4192, 'unauthorized': 4193, 'onerous': 4194, 'chin': 4195, 'wrestle': 4196, 'hut': 4197, 'straws': 4198, 'peek': 4199, 'ephemeral': 4200, 'conquers': 4201, 'transient': 4202, 'vivacious': 4203, 'opposites': 4204, 'attract': 4205, 'production': 4206, 'thorns': 4207, 'appeals': 4208, 'figure': 4209, 'turner': 4210, 'golden': 4211, 'lullaby': 4212, 'sloths': 4213, 'scale': 4214, 'mimicking': 4215, 'termites': 4216, 'essential': 4217, 'fir': 4218, 'exactly': 4219, 'defense': 4220, 'undeniable': 4221, 'handy': 4222, 'cable': 4223, 'snapped': 4224, 'crowd': 4225, 'donkey': 4226, 'brayed': 4227, 'squeaked': 4228, 'ajar': 4229, 'rotates': 4230, 'jammed': 4231, 'lemon': 4232, 'motor': 4233, 'meager': 4234, 'tactic': 4235, 'verdict': 4236, 'gods': 4237, 'cannibals': 4238, 'murderers': 4239, 'bucket': 4240, 'coconut': 4241, 'extortion': 4242, 'gibberish': 4243, 'insulting': 4244, 'irregular': 4245, 'justified': 4246, 'pointless': 4247, 'priceless': 4248, 'skim': 4249, 'tasteless': 4250, 'temporary': 4251, 'worrisome': 4252, 'silver': 4253, 'thursday': 4254, 'arrives': 4255, 'behaved': 4256, 'despised': 4257, 'appear': 4258, 'flinch': 4259, 'expects': 4260, 'iq': 4261, 'iphone': 4262, 'arthritis': 4263, 'skin': 4264, 'frostbite': 4265, 'seniority': 4266, 'hasn': 4267, 'juan': 4268, 'bookworm': 4269, 'jeweller': 4270, 'pushover': 4271, 'teenager': 4272, 'werewolf': 4273, 'believable': 4274, 'determined': 4275, 'custody': 4276, 'therapy': 4277, 'indecisive': 4278, 'insightful': 4279, 'intolerant': 4280, 'passionate': 4281, 'perspiring': 4282, 'possessive': 4283, 'stuttering': 4284, 'unfaithful': 4285, 'minor': 4286, 'trained': 4287, 'mumbles': 4288, 'outlived': 4289, 'poisoned': 4290, 'served': 4291, 'humbly': 4292, 'sneezes': 4293, 'bait': 4294, 'vomited': 4295, 'updates': 4296, 'fanatic': 4297, 'fireman': 4298, 'negligent': 4299, 'imaginative': 4300, 'acrylic': 4301, 'longer': 4302, 'liquid': 4303, 'vaccine': 4304, 'warrant': 4305, 'suppliers': 4306, 'witnesses': 4307, 'parks': 4308, 'canoe': 4309, 'battle': 4310, 'mothers': 4311, 'journalists': 4312, 'pulling': 4313, 'collection': 4314, 'tacky': 4315, 'delay': 4316, 'achieved': 4317, 'asking': 4318, 'target': 4319, 'arrive': 4320, 'melon': 4321, 'confucius': 4322, 'drama': 4323, 'c': 4324, 'woods': 4325, 'wriggle': 4326, 'actresses': 4327, 'error': 4328, 'bugging': 4329, 'particular': 4330, 'scaring': 4331, 'telling': 4332, 'unfriendly': 4333, 'scratched': 4334, 'comma': 4335, 'revolt': 4336, 'storm': 4337, 'brewing': 4338, 'admission': 4339, 'demanding': 4340, 'buddhist': 4341, 'believer': 4342, 'attendance': 4343, 'contains': 4344, 'hops': 4345, 'chirping': 4346, 'pillow': 4347, 'rackets': 4348, 'menu': 4349, 'caption': 4350, 'divide': 4351, 'conquer': 4352, 'mozart': 4353, 'copycat': 4354, 'patronize': 4355, 'relaxes': 4356, 'dust': 4357, 'shelf': 4358, 'endorse': 4359, 'dollar': 4360, 'tore': 4361, 'portion': 4362, 'breakable': 4363, 'broom': 4364, 'remote': 4365, 'wrench': 4366, 'thanksgiving': 4367, 'od': 4368, 'foolishly': 4369, 'mile': 4370, 'cycling': 4371, 'footsteps': 4372, 'daydreamer': 4373, 'fishmonger': 4374, 'heartless': 4375, 'lacks': 4376, 'judgement': 4377, 'retaliate': 4378, 'rolled': 4379, 'thrust': 4380, 'weighs': 4381, 'kilos': 4382, 'lottery': 4383, 'walker': 4384, 'critic': 4385, 'ghostwriter': 4386, 'keeper': 4387, 'meth': 4388, 'englishman': 4389, 'overconfident': 4390, 'fifty': 4391, 'scapegoat': 4392, 'torn': 4393, 'sooty': 4394, 'baggage': 4395, 'eludes': 4396, 'pace': 4397, 'quickened': 4398, 'untidy': 4399, 'refill': 4400, 'economy': 4401, 'museum': 4402, 'cope': 4403, 'absolutely': 4404, 'advise': 4405, 'customers': 4406, 'fond': 4407, 'prophet': 4408, 'fries': 4409, 'potato': 4410, 'chips': 4411, 'peanuts': 4412, 'clutch': 4413, 'exclude': 4414, 'imagine': 4415, 'clicked': 4416, 'detest': 4417, 'vodka': 4418, 'miserably': 4419, 'tests': 4420, 'fractured': 4421, 'bureaucracy': 4422, 'goat': 4423, 'most': 4424, 'complaint': 4425, 'nosebleed': 4426, 'telescope': 4427, 'blonde': 4428, 'frizzy': 4429, 'appetite': 4430, 'siblings': 4431, 'invoice': 4432, 'rehearse': 4433, 'cameras': 4434, 'nephews': 4435, 'tickets': 4436, 'hid': 4437, 'pans': 4438, 'jog': 4439, 'redecorated': 4440, 'imagination': 4441, 'irish': 4442, 'places': 4443, 'disco': 4444, 'photography': 4445, 'raspberries': 4446, 'translating': 4447, 'windsurfing': 4448, 'poverty': 4449, 'bearded': 4450, 'butterflies': 4451, 'fairy': 4452, 'tales': 4453, 'melody': 4454, 'promises': 4455, 'photocopies': 4456, 'mopped': 4457, 'pad': 4458, 'secretary': 4459, 'envelope': 4460, 'lotion': 4461, 'inspiration': 4462, 'nutmeg': 4463, 'doubted': 4464, 'trumpet': 4465, 'couch': 4466, 'explosion': 4467, 'slammed': 4468, 'nine': 4469, 'hours': 4470, 'cigarettes': 4471, 'psychology': 4472, 'ankle': 4473, 'unloaded': 4474, 'unplugged': 4475, 'fooling': 4476, 'paraphrasing': 4477, 'stiff': 4478, 'television': 4479, 'nagasaki': 4480, 'election': 4481, 'introduce': 4482, 'fianc': 4483, 'e': 4484, 'rusty': 4485, 'photographer': 4486, 'bats': 4487, 'harassed': 4488, 'claustrophobic': 4489, 'singapore': 4490, 'gaining': 4491, 'poorer': 4492, 'mood': 4493, 'health': 4494, 'bathtub': 4495, 'deadbeat': 4496, 'gangster': 4497, 'magician': 4498, 'pacifist': 4499, 'delusional': 4500, 'denying': 4501, 'invincible': 4502, 'slave': 4503, 'balcony': 4504, 'selling': 4505, 'somewhat': 4506, 'terribly': 4507, 'unenthusiastic': 4508, 'laid': 4509, 'gained': 4510, 'bliss': 4511, 'christian': 4512, 'satisfactory': 4513, 'chained': 4514, 'milkman': 4515, 'recyclable': 4516, 'breaks': 4517, 'improved': 4518, 'deadly': 4519, 'parallel': 4520, 'frustrating': 4521, 'preventable': 4522, 'relevant': 4523, 'extreme': 4524, 'coincidence': 4525, 'distraction': 4526, 'possibility': 4527, 'proven': 4528, 'effort': 4529, 'typo': 4530, 'seven': 4531, 'experiment': 4532, 'investment': 4533, 'booby': 4534, 'bound': 4535, 'disappointing': 4536, 'disconcerting': 4537, 'heartbreaking': 4538, 'plague': 4539, 'brass': 4540, 'merely': 4541, 'disease': 4542, 'pertinent': 4543, 'unforgettable': 4544, 'greece': 4545, 'anywhere': 4546, 'profile': 4547, 'lesson': 4548, 'trade': 4549, 'squabble': 4550, 'luckily': 4551, 'monopolies': 4552, 'universal': 4553, 'final': 4554, 'budget': 4555, 'meows': 4556, 'fuel': 4557, 'hunch': 4558, 'mailbox': 4559, 'zipper': 4560, 'immortal': 4561, 'forever': 4562, 'restored': 4563, 'owls': 4564, 'breed': 4565, 'strength': 4566, 'postcard': 4567, 'aid': 4568, 'pigeon': 4569, 'toed': 4570, 'ghostly': 4571, 'lonesome': 4572, 'antiques': 4573, 'happily': 4574, 'teaser': 4575, 'supermodel': 4576, 'losers': 4577, 'phoning': 4578, 'destroyed': 4579, 'intent': 4580, 'promising': 4581, 'sloppy': 4582, 'biggest': 4583, 'maximum': 4584, 'packed': 4585, 'stale': 4586, 'case': 4587, 'coast': 4588, 'concert': 4589, 'crow': 4590, 'doorknob': 4591, 'flame': 4592, 'wilted': 4593, 'fog': 4594, 'caved': 4595, 'waxing': 4596, 'drying': 4597, 'backfired': 4598, 'pond': 4599, 'server': 4600, 'shops': 4601, 'brightened': 4602, 'cleared': 4603, 'stars': 4604, 'telephone': 4605, 'squealed': 4606, 'waves': 4607, 'urgency': 4608, 'christians': 4609, 'carnations': 4610, 'fits': 4611, 'shaggy': 4612, 'painting': 4613, 'triangle': 4614, 'apricot': 4615, 'octagon': 4616, 'astounding': 4617, 'project': 4618, 'outlandish': 4619, 'outrageous': 4620, 'plagiarism': 4621, 'surprising': 4622, 'unbearable': 4623, 'unheard': 4624, 'rag': 4625, 'tighten': 4626, 'sniff': 4627, 'contacted': 4628, 'instantly': 4629, 'lemonade': 4630, 'enjoys': 4631, 'unwanted': 4632, 'headaches': 4633, 'mustache': 4634, 'ponytail': 4635, 'narcolepsy': 4636, 'john': 4637, 'candidate': 4638, 'librarian': 4639, 'machinist': 4640, 'activist': 4641, 'imposter': 4642, 'fart': 4643, 'bars': 4644, 'competitive': 4645, 'independent': 4646, 'inefficient': 4647, 'insensitive': 4648, 'intoxicated': 4649, 'stark': 4650, 'supervising': 4651, 'parent': 4652, 'names': 4653, 'partying': 4654, 'potatoes': 4655, 'pays': 4656, 'drum': 4657, 'refuses': 4658, 'remains': 4659, 'pacing': 4660, 'traveled': 4661, 'crusader': 4662, 'distraught': 4663, 'distressed': 4664, 'hysterical': 4665, 'irrational': 4666, 'subpoenaed': 4667, 'unbeatable': 4668, 'payday': 4669, 'affects': 4670}\n"
     ]
    }
   ],
   "source": [
    "print(eng_tokenizer.word_index)"
   ]
  },
  {
   "cell_type": "code",
   "execution_count": 11,
   "id": "c00553de",
   "metadata": {},
   "outputs": [
    {
     "data": {
      "text/plain": [
       "[[28, 1], [28, 1], [28, 1]]"
      ]
     },
     "execution_count": 11,
     "metadata": {},
     "output_type": "execute_result"
    }
   ],
   "source": [
    "input_text = eng_tokenizer.texts_to_sequences(lines.eng)\n",
    "input_text[:3]"
   ]
  },
  {
   "cell_type": "code",
   "execution_count": 12,
   "id": "cf4d7ebf",
   "metadata": {},
   "outputs": [],
   "source": [
    "fra_tokenizer = Tokenizer()\n",
    "fra_tokenizer.fit_on_texts(lines.fra)\n",
    "target_text = fra_tokenizer.texts_to_sequences(lines.fra)"
   ]
  },
  {
   "cell_type": "code",
   "execution_count": 13,
   "id": "92024674",
   "metadata": {},
   "outputs": [
    {
     "data": {
      "text/plain": [
       "[[1, 75, 8, 2], [1, 365, 3, 2], [1, 28, 512, 8, 2]]"
      ]
     },
     "execution_count": 13,
     "metadata": {},
     "output_type": "execute_result"
    }
   ],
   "source": [
    "target_text[:3]"
   ]
  },
  {
   "cell_type": "code",
   "execution_count": 14,
   "id": "4164b811",
   "metadata": {},
   "outputs": [
    {
     "name": "stdout",
     "output_type": "stream",
     "text": [
      "영어 단어장의 크기 : 4671\n",
      "프랑스어 단어장의 크기 : 7454\n"
     ]
    }
   ],
   "source": [
    "eng_vocab_size = len(eng_tokenizer.word_index) + 1\n",
    "fra_vocab_size = len(fra_tokenizer.word_index) + 1\n",
    "print('영어 단어장의 크기 :', eng_vocab_size)\n",
    "print('프랑스어 단어장의 크기 :', fra_vocab_size)"
   ]
  },
  {
   "cell_type": "code",
   "execution_count": 15,
   "id": "92b792b5",
   "metadata": {},
   "outputs": [
    {
     "name": "stdout",
     "output_type": "stream",
     "text": [
      "영어 시퀀스의 최대 길이 8\n",
      "프랑스어 시퀀스의 최대 길이 17\n"
     ]
    }
   ],
   "source": [
    "max_eng_seq_len = max([len(line) for line in input_text])\n",
    "max_fra_seq_len = max([len(line) for line in target_text])\n",
    "print('영어 시퀀스의 최대 길이', max_eng_seq_len)\n",
    "print('프랑스어 시퀀스의 최대 길이', max_fra_seq_len)"
   ]
  },
  {
   "cell_type": "code",
   "execution_count": 16,
   "id": "234e45b3",
   "metadata": {},
   "outputs": [
    {
     "name": "stdout",
     "output_type": "stream",
     "text": [
      "전체 샘플의 수 : 33000\n",
      "영어 단어장의 크기 : 4671\n",
      "프랑스어 단어장의 크기 : 7454\n",
      "영어 시퀀스의 최대 길이 8\n",
      "프랑스어 시퀀스의 최대 길이 17\n"
     ]
    }
   ],
   "source": [
    "print('전체 샘플의 수 :',len(lines))\n",
    "print('영어 단어장의 크기 :', eng_vocab_size)\n",
    "print('프랑스어 단어장의 크기 :', fra_vocab_size)\n",
    "print('영어 시퀀스의 최대 길이', max_eng_seq_len)\n",
    "print('프랑스어 시퀀스의 최대 길이', max_fra_seq_len)"
   ]
  },
  {
   "cell_type": "code",
   "execution_count": 17,
   "id": "b7e27408",
   "metadata": {},
   "outputs": [],
   "source": [
    "sos_token = '<start>'\n",
    "eos_token = '<end>'\n",
    "\n",
    "encoder_input = input_text\n",
    "# 종료 토큰 제거\n",
    "decoder_input = [[ char for char in line if char != fra_tokenizer.word_index[eos_token] ] for line in target_text] \n",
    "# 시작 토큰 제거\n",
    "decoder_target = [[ char for char in line if char != fra_tokenizer.word_index[sos_token] ] for line in target_text]"
   ]
  },
  {
   "cell_type": "code",
   "execution_count": 18,
   "id": "f41b6a10",
   "metadata": {},
   "outputs": [
    {
     "name": "stdout",
     "output_type": "stream",
     "text": [
      "영어 데이터의 크기(shape) : (33000, 8)\n",
      "프랑스어 입력데이터의 크기(shape) : (33000, 17)\n",
      "프랑스어 출력데이터의 크기(shape) : (33000, 17)\n"
     ]
    }
   ],
   "source": [
    "encoder_input = pad_sequences(encoder_input, maxlen = max_eng_seq_len, padding='post')\n",
    "decoder_input = pad_sequences(decoder_input, maxlen = max_fra_seq_len, padding='post')\n",
    "decoder_target = pad_sequences(decoder_target, maxlen = max_fra_seq_len, padding='post')\n",
    "print('영어 데이터의 크기(shape) :',np.shape(encoder_input))\n",
    "print('프랑스어 입력데이터의 크기(shape) :',np.shape(decoder_input))\n",
    "print('프랑스어 출력데이터의 크기(shape) :',np.shape(decoder_target))"
   ]
  },
  {
   "cell_type": "code",
   "execution_count": 19,
   "id": "f87573e1",
   "metadata": {},
   "outputs": [],
   "source": [
    "indices = np.arange(encoder_input.shape[0])\n",
    "np.random.shuffle(indices)\n",
    "\n",
    "encoder_input = encoder_input[indices]\n",
    "decoder_input = decoder_input[indices]\n",
    "decoder_target = decoder_target[indices]"
   ]
  },
  {
   "cell_type": "code",
   "execution_count": 20,
   "id": "cd585514",
   "metadata": {},
   "outputs": [
    {
     "name": "stdout",
     "output_type": "stream",
     "text": [
      "(30000, 8)\n",
      "(30000, 17)\n",
      "(30000, 17)\n",
      "(3000, 8)\n",
      "(3000, 17)\n",
      "(3000, 17)\n"
     ]
    }
   ],
   "source": [
    "n_of_val = 3000\n",
    "\n",
    "encoder_input_train = encoder_input[:-n_of_val]\n",
    "decoder_input_train = decoder_input[:-n_of_val]\n",
    "decoder_target_train = decoder_target[:-n_of_val]\n",
    "\n",
    "encoder_input_test = encoder_input[-n_of_val:]\n",
    "decoder_input_test = decoder_input[-n_of_val:]\n",
    "decoder_target_test = decoder_target[-n_of_val:]\n",
    "\n",
    "print(encoder_input_train.shape)\n",
    "print(decoder_input_train.shape)\n",
    "print(decoder_target_train.shape)\n",
    "print(encoder_input_test.shape)\n",
    "print(decoder_input_test.shape)\n",
    "print(decoder_target_test.shape)"
   ]
  },
  {
   "cell_type": "code",
   "execution_count": 21,
   "id": "e717e4ad",
   "metadata": {},
   "outputs": [
    {
     "name": "stderr",
     "output_type": "stream",
     "text": [
      "2022-10-25 21:18:18.104759: E tensorflow/stream_executor/cuda/cuda_driver.cc:265] failed call to cuInit: CUDA_ERROR_UNKNOWN: unknown error\n",
      "2022-10-25 21:18:18.104956: I tensorflow/stream_executor/cuda/cuda_diagnostics.cc:169] retrieving CUDA diagnostic information for host: a\n",
      "2022-10-25 21:18:18.105008: I tensorflow/stream_executor/cuda/cuda_diagnostics.cc:176] hostname: a\n",
      "2022-10-25 21:18:18.105288: I tensorflow/stream_executor/cuda/cuda_diagnostics.cc:200] libcuda reported version is: 515.76.0\n",
      "2022-10-25 21:18:18.105361: I tensorflow/stream_executor/cuda/cuda_diagnostics.cc:204] kernel reported version is: 515.76.0\n",
      "2022-10-25 21:18:18.105381: I tensorflow/stream_executor/cuda/cuda_diagnostics.cc:310] kernel version seems to match DSO: 515.76.0\n",
      "2022-10-25 21:18:18.106874: I tensorflow/core/platform/cpu_feature_guard.cc:193] This TensorFlow binary is optimized with oneAPI Deep Neural Network Library (oneDNN) to use the following CPU instructions in performance-critical operations:  AVX2 FMA\n",
      "To enable them in other operations, rebuild TensorFlow with the appropriate compiler flags.\n"
     ]
    }
   ],
   "source": [
    "encoder_inputs = Input(shape=(None,))\n",
    "# encoder embedding\n",
    "enc_emb = Embedding(eng_vocab_size, 256, input_length=max_eng_seq_len)(encoder_inputs)\n",
    "enc_masking = Masking(mask_value=0.0)(enc_emb)\n",
    "encoder_lstm = LSTM(units = 256, return_state = True)\n",
    "encoder_outputs, state_h, state_c = encoder_lstm(enc_masking)\n",
    "encoder_states = [state_h, state_c]"
   ]
  },
  {
   "cell_type": "code",
   "execution_count": 22,
   "id": "1427434f",
   "metadata": {},
   "outputs": [],
   "source": [
    "decoder_inputs = Input(shape=(None,))\n",
    "# decoder embedding\n",
    "dec_emb = Embedding(fra_vocab_size, 256)(decoder_inputs)\n",
    "dec_masking = Masking(mask_value=0.0)(dec_emb)\n",
    "decoder_lstm = LSTM(units = 256, return_sequences = True, return_state=True)\n",
    "decoder_outputs, _, _= decoder_lstm(dec_masking, initial_state = encoder_states)\n",
    "\n",
    "decoder_softmax_layer = Dense(fra_vocab_size, activation='softmax')\n",
    "decoder_outputs = decoder_softmax_layer(decoder_outputs)"
   ]
  },
  {
   "cell_type": "code",
   "execution_count": 23,
   "id": "7d80d207",
   "metadata": {},
   "outputs": [
    {
     "name": "stdout",
     "output_type": "stream",
     "text": [
      "Model: \"model\"\n",
      "__________________________________________________________________________________________________\n",
      " Layer (type)                   Output Shape         Param #     Connected to                     \n",
      "==================================================================================================\n",
      " input_1 (InputLayer)           [(None, None)]       0           []                               \n",
      "                                                                                                  \n",
      " input_2 (InputLayer)           [(None, None)]       0           []                               \n",
      "                                                                                                  \n",
      " embedding (Embedding)          (None, None, 256)    1195776     ['input_1[0][0]']                \n",
      "                                                                                                  \n",
      " embedding_1 (Embedding)        (None, None, 256)    1908224     ['input_2[0][0]']                \n",
      "                                                                                                  \n",
      " masking (Masking)              (None, None, 256)    0           ['embedding[0][0]']              \n",
      "                                                                                                  \n",
      " masking_1 (Masking)            (None, None, 256)    0           ['embedding_1[0][0]']            \n",
      "                                                                                                  \n",
      " lstm (LSTM)                    [(None, 256),        525312      ['masking[0][0]']                \n",
      "                                 (None, 256),                                                     \n",
      "                                 (None, 256)]                                                     \n",
      "                                                                                                  \n",
      " lstm_1 (LSTM)                  [(None, None, 256),  525312      ['masking_1[0][0]',              \n",
      "                                 (None, 256),                     'lstm[0][1]',                   \n",
      "                                 (None, 256)]                     'lstm[0][2]']                   \n",
      "                                                                                                  \n",
      " dense (Dense)                  (None, None, 7454)   1915678     ['lstm_1[0][0]']                 \n",
      "                                                                                                  \n",
      "==================================================================================================\n",
      "Total params: 6,070,302\n",
      "Trainable params: 6,070,302\n",
      "Non-trainable params: 0\n",
      "__________________________________________________________________________________________________\n"
     ]
    }
   ],
   "source": [
    "model = Model([encoder_inputs, decoder_inputs], decoder_outputs)\n",
    "model.summary()"
   ]
  },
  {
   "cell_type": "code",
   "execution_count": 24,
   "id": "3d5fad1f",
   "metadata": {},
   "outputs": [],
   "source": [
    "model.compile(optimizer=\"rmsprop\", loss='sparse_categorical_crossentropy', metrics=['acc'])"
   ]
  },
  {
   "cell_type": "code",
   "execution_count": 25,
   "id": "79d12135",
   "metadata": {},
   "outputs": [
    {
     "name": "stdout",
     "output_type": "stream",
     "text": [
      "Epoch 1/30\n",
      "938/938 [==============================] - 84s 83ms/step - loss: 1.4626 - acc: 0.7729 - val_loss: 1.2259 - val_acc: 0.8088\n",
      "Epoch 2/30\n",
      "938/938 [==============================] - 76s 81ms/step - loss: 1.1007 - acc: 0.8255 - val_loss: 1.0697 - val_acc: 0.8325\n",
      "Epoch 3/30\n",
      "938/938 [==============================] - 75s 80ms/step - loss: 0.9782 - acc: 0.8422 - val_loss: 0.9815 - val_acc: 0.8440\n",
      "Epoch 4/30\n",
      "938/938 [==============================] - 75s 80ms/step - loss: 0.8942 - acc: 0.8536 - val_loss: 0.9272 - val_acc: 0.8507\n",
      "Epoch 5/30\n",
      "938/938 [==============================] - 74s 79ms/step - loss: 0.8316 - acc: 0.8624 - val_loss: 0.8859 - val_acc: 0.8579\n",
      "Epoch 6/30\n",
      "938/938 [==============================] - 74s 79ms/step - loss: 0.7845 - acc: 0.8696 - val_loss: 0.8641 - val_acc: 0.8617\n",
      "Epoch 7/30\n",
      "938/938 [==============================] - 74s 79ms/step - loss: 0.7469 - acc: 0.8766 - val_loss: 0.8443 - val_acc: 0.8649\n",
      "Epoch 8/30\n",
      "938/938 [==============================] - 74s 79ms/step - loss: 0.7104 - acc: 0.8829 - val_loss: 0.8297 - val_acc: 0.8693\n",
      "Epoch 9/30\n",
      "938/938 [==============================] - 74s 79ms/step - loss: 0.6896 - acc: 0.8888 - val_loss: 0.8293 - val_acc: 0.8701\n",
      "Epoch 10/30\n",
      "938/938 [==============================] - 74s 79ms/step - loss: 0.6779 - acc: 0.8931 - val_loss: 0.8297 - val_acc: 0.8727\n",
      "Epoch 11/30\n",
      "938/938 [==============================] - 74s 79ms/step - loss: 0.6668 - acc: 0.8977 - val_loss: 0.8305 - val_acc: 0.8744\n",
      "Epoch 12/30\n",
      "938/938 [==============================] - 74s 79ms/step - loss: 0.6442 - acc: 0.9012 - val_loss: 0.8126 - val_acc: 0.8755\n",
      "Epoch 13/30\n",
      "938/938 [==============================] - 74s 79ms/step - loss: 0.6230 - acc: 0.9050 - val_loss: 0.8118 - val_acc: 0.8761\n",
      "Epoch 14/30\n",
      "938/938 [==============================] - 74s 79ms/step - loss: 0.6126 - acc: 0.9079 - val_loss: 0.8101 - val_acc: 0.8781\n",
      "Epoch 15/30\n",
      "938/938 [==============================] - 74s 79ms/step - loss: 0.6053 - acc: 0.9105 - val_loss: 0.8166 - val_acc: 0.8775\n",
      "Epoch 16/30\n",
      "938/938 [==============================] - 74s 79ms/step - loss: 0.5981 - acc: 0.9127 - val_loss: 0.8164 - val_acc: 0.8794\n",
      "Epoch 17/30\n",
      "938/938 [==============================] - 74s 79ms/step - loss: 0.5889 - acc: 0.9152 - val_loss: 0.8179 - val_acc: 0.8795\n",
      "Epoch 18/30\n",
      "938/938 [==============================] - 74s 79ms/step - loss: 0.5812 - acc: 0.9173 - val_loss: 0.8165 - val_acc: 0.8790\n",
      "Epoch 19/30\n",
      "938/938 [==============================] - 74s 79ms/step - loss: 0.5710 - acc: 0.9182 - val_loss: 0.8093 - val_acc: 0.8798\n",
      "Epoch 20/30\n",
      "938/938 [==============================] - 74s 79ms/step - loss: 0.5621 - acc: 0.9204 - val_loss: 0.8109 - val_acc: 0.8795\n",
      "Epoch 21/30\n",
      "938/938 [==============================] - 81s 86ms/step - loss: 0.5574 - acc: 0.9217 - val_loss: 0.8137 - val_acc: 0.8792\n",
      "Epoch 22/30\n",
      "938/938 [==============================] - 84s 90ms/step - loss: 0.5544 - acc: 0.9226 - val_loss: 0.8139 - val_acc: 0.8797\n",
      "Epoch 23/30\n",
      "938/938 [==============================] - 84s 90ms/step - loss: 0.5520 - acc: 0.9236 - val_loss: 0.8140 - val_acc: 0.8809\n",
      "Epoch 24/30\n",
      "938/938 [==============================] - 84s 89ms/step - loss: 0.5475 - acc: 0.9246 - val_loss: 0.8150 - val_acc: 0.8809\n",
      "Epoch 25/30\n",
      "938/938 [==============================] - 83s 88ms/step - loss: 0.5433 - acc: 0.9250 - val_loss: 0.8184 - val_acc: 0.8801\n",
      "Epoch 26/30\n",
      "938/938 [==============================] - 83s 88ms/step - loss: 0.5384 - acc: 0.9259 - val_loss: 0.8184 - val_acc: 0.8803\n",
      "Epoch 27/30\n",
      "938/938 [==============================] - 83s 89ms/step - loss: 0.5324 - acc: 0.9270 - val_loss: 0.8159 - val_acc: 0.8804\n",
      "Epoch 28/30\n",
      "938/938 [==============================] - 84s 90ms/step - loss: 0.5281 - acc: 0.9274 - val_loss: 0.8151 - val_acc: 0.8802\n",
      "Epoch 29/30\n",
      "938/938 [==============================] - 86s 91ms/step - loss: 0.5230 - acc: 0.9280 - val_loss: 0.8157 - val_acc: 0.8811\n",
      "Epoch 30/30\n",
      "938/938 [==============================] - 83s 89ms/step - loss: 0.5186 - acc: 0.9285 - val_loss: 0.8138 - val_acc: 0.8805\n"
     ]
    },
    {
     "data": {
      "text/plain": [
       "<keras.callbacks.History at 0x7f2a623c7490>"
      ]
     },
     "execution_count": 25,
     "metadata": {},
     "output_type": "execute_result"
    }
   ],
   "source": [
    "model.fit([encoder_input_train, decoder_input_train],decoder_target_train,\n",
    "          validation_data = ([encoder_input_test, decoder_input_test], decoder_target_test),\n",
    "          batch_size = 32, epochs = 30)"
   ]
  },
  {
   "cell_type": "code",
   "execution_count": 26,
   "id": "b8a6f586",
   "metadata": {},
   "outputs": [
    {
     "name": "stdout",
     "output_type": "stream",
     "text": [
      "Model: \"model_1\"\n",
      "_________________________________________________________________\n",
      " Layer (type)                Output Shape              Param #   \n",
      "=================================================================\n",
      " input_1 (InputLayer)        [(None, None)]            0         \n",
      "                                                                 \n",
      " embedding (Embedding)       (None, None, 256)         1195776   \n",
      "                                                                 \n",
      " masking (Masking)           (None, None, 256)         0         \n",
      "                                                                 \n",
      " lstm (LSTM)                 [(None, 256),             525312    \n",
      "                              (None, 256),                       \n",
      "                              (None, 256)]                       \n",
      "                                                                 \n",
      "=================================================================\n",
      "Total params: 1,721,088\n",
      "Trainable params: 1,721,088\n",
      "Non-trainable params: 0\n",
      "_________________________________________________________________\n"
     ]
    }
   ],
   "source": [
    "encoder_model = Model(inputs = encoder_inputs, outputs = encoder_states)\n",
    "encoder_model.summary()"
   ]
  },
  {
   "cell_type": "code",
   "execution_count": 27,
   "id": "6b5481a3",
   "metadata": {},
   "outputs": [],
   "source": [
    "decoder_state_input_h = Input(shape=(256,))\n",
    "decoder_state_input_c = Input(shape=(256,))\n",
    "decoder_states_inputs = [decoder_state_input_h, decoder_state_input_c]\n",
    "\n",
    "dec_emb2 = Embedding(fra_vocab_size, 256)(decoder_inputs)\n",
    "decoder_outputs2, state_h2, state_c2 = decoder_lstm(dec_emb2, initial_state = decoder_states_inputs)\n",
    "decoder_states2 = [state_h2, state_c2]\n",
    "\n",
    "decoder_outputs2 = decoder_softmax_layer(decoder_outputs2)"
   ]
  },
  {
   "cell_type": "code",
   "execution_count": 28,
   "id": "59976337",
   "metadata": {},
   "outputs": [
    {
     "name": "stdout",
     "output_type": "stream",
     "text": [
      "Model: \"model_2\"\n",
      "__________________________________________________________________________________________________\n",
      " Layer (type)                   Output Shape         Param #     Connected to                     \n",
      "==================================================================================================\n",
      " input_2 (InputLayer)           [(None, None)]       0           []                               \n",
      "                                                                                                  \n",
      " embedding_2 (Embedding)        (None, None, 256)    1908224     ['input_2[0][0]']                \n",
      "                                                                                                  \n",
      " input_3 (InputLayer)           [(None, 256)]        0           []                               \n",
      "                                                                                                  \n",
      " input_4 (InputLayer)           [(None, 256)]        0           []                               \n",
      "                                                                                                  \n",
      " lstm_1 (LSTM)                  [(None, None, 256),  525312      ['embedding_2[0][0]',            \n",
      "                                 (None, 256),                     'input_3[0][0]',                \n",
      "                                 (None, 256)]                     'input_4[0][0]']                \n",
      "                                                                                                  \n",
      " dense (Dense)                  (None, None, 7454)   1915678     ['lstm_1[1][0]']                 \n",
      "                                                                                                  \n",
      "==================================================================================================\n",
      "Total params: 4,349,214\n",
      "Trainable params: 4,349,214\n",
      "Non-trainable params: 0\n",
      "__________________________________________________________________________________________________\n"
     ]
    }
   ],
   "source": [
    "decoder_model = Model(inputs=[decoder_inputs] + decoder_states_inputs, outputs=[decoder_outputs2] + decoder_states2)\n",
    "decoder_model.summary()"
   ]
  },
  {
   "cell_type": "code",
   "execution_count": 29,
   "id": "6b0d7ab7",
   "metadata": {},
   "outputs": [],
   "source": [
    "eng2idx = eng_tokenizer.word_index\n",
    "fra2idx = fra_tokenizer.word_index\n",
    "idx2eng = eng_tokenizer.index_word\n",
    "idx2fra = fra_tokenizer.index_word"
   ]
  },
  {
   "cell_type": "code",
   "execution_count": 30,
   "id": "98a456ff",
   "metadata": {},
   "outputs": [],
   "source": [
    "def decode_sequence(input_seq):\n",
    "    # 입력으로부터 인코더의 상태를 얻음\n",
    "    states_value = encoder_model.predict(input_seq)\n",
    "\n",
    "    # <SOS>에 해당하는 원-핫 벡터 생성\n",
    "    target_seq = np.zeros((1,1))\n",
    "    target_seq[0, 0] = fra2idx['<start>']\n",
    "    \n",
    "    stop_condition = False\n",
    "    decoded_sentence = \"\"\n",
    "\n",
    "    # stop_condition이 True가 될 때까지 루프 반복\n",
    "    while not stop_condition:\n",
    "        # 이점 시점의 상태 states_value를 현 시점의 초기 상태로 사용\n",
    "        output_tokens, h, c = decoder_model.predict([target_seq] + states_value)\n",
    "\n",
    "        # 예측 결과를 문자로 변환\n",
    "        sampled_token_index = np.argmax(output_tokens[0, -1, :])\n",
    "        sampled_char = idx2fra[sampled_token_index]\n",
    "\n",
    "        # 현재 시점의 예측 문자를 예측 문장에 추가\n",
    "        decoded_sentence += ' '+sampled_char\n",
    "\n",
    "        # <eos>에 도달하거나 최대 길이를 넘으면 중단.\n",
    "        if (sampled_char == '<end>' or\n",
    "           len(decoded_sentence) > max_fra_seq_len):\n",
    "            stop_condition = True\n",
    "\n",
    "        # 현재 시점의 예측 결과를 다음 시점의 입력으로 사용하기 위해 저장\n",
    "        target_seq = np.zeros((1, 1))\n",
    "        target_seq[0, 0] = sampled_token_index\n",
    "\n",
    "        # 현재 시점의 상태를 다음 시점의 상태로 사용하기 위해 저장\n",
    "        states_value = [h, c]\n",
    "\n",
    "    return decoded_sentence"
   ]
  },
  {
   "cell_type": "code",
   "execution_count": 31,
   "id": "d7ec7fc2",
   "metadata": {},
   "outputs": [],
   "source": [
    "# 원문의 정수 시퀀스를 텍스트 시퀀스로 변환\n",
    "def seq2src(input_seq):\n",
    "    temp=''\n",
    "    for i in input_seq:\n",
    "        if(i!=0):\n",
    "            temp = temp + idx2eng[i]+' '\n",
    "    return temp"
   ]
  },
  {
   "cell_type": "code",
   "execution_count": 32,
   "id": "bb2527cb",
   "metadata": {},
   "outputs": [],
   "source": [
    "# 번역문의 정수 시퀀스를 텍스트 시퀀스로 변환\n",
    "def seq2tar(input_seq):\n",
    "    temp=''\n",
    "    for i in input_seq:\n",
    "        if((i!=0 and i!=fra2idx['<start>']) and i!=fra2idx['<end>']):\n",
    "            temp = temp + idx2fra[i] + ' '\n",
    "    return temp"
   ]
  },
  {
   "cell_type": "code",
   "execution_count": 33,
   "id": "55fea64c",
   "metadata": {},
   "outputs": [
    {
     "name": "stdout",
     "output_type": "stream",
     "text": [
      "1/1 [==============================] - 1s 1s/step\n",
      "1/1 [==============================] - 0s 366ms/step\n",
      "1/1 [==============================] - 0s 20ms/step\n",
      "1/1 [==============================] - 0s 25ms/step\n",
      "1/1 [==============================] - 0s 20ms/step\n",
      "1/1 [==============================] - 0s 20ms/step\n",
      "1/1 [==============================] - 0s 21ms/step\n",
      "1/1 [==============================] - 0s 20ms/step\n",
      "1/1 [==============================] - 0s 19ms/step\n",
      "1/1 [==============================] - 0s 20ms/step\n",
      "-----------------------------------\n",
      "입력 문장: i failed . \n",
      "정답 문장: j ai chou . \n",
      "번역기가 번역한 문장:  j j j . . . . . \n",
      "1/1 [==============================] - 0s 19ms/step\n",
      "1/1 [==============================] - 0s 20ms/step\n",
      "1/1 [==============================] - 0s 20ms/step\n",
      "1/1 [==============================] - 0s 23ms/step\n",
      "1/1 [==============================] - 0s 21ms/step\n",
      "-----------------------------------\n",
      "입력 문장: he s too busy . \n",
      "정답 문장: il est trop occup . \n",
      "번역기가 번역한 문장:  il trop trop tro\n",
      "1/1 [==============================] - 0s 20ms/step\n",
      "1/1 [==============================] - 0s 20ms/step\n",
      "1/1 [==============================] - 0s 23ms/step\n",
      "1/1 [==============================] - 0s 21ms/step\n",
      "1/1 [==============================] - 0s 20ms/step\n",
      "1/1 [==============================] - 0s 20ms/step\n",
      "1/1 [==============================] - 0s 20ms/step\n",
      "1/1 [==============================] - 0s 21ms/step\n",
      "-----------------------------------\n",
      "입력 문장: this chair is ugly . \n",
      "정답 문장: cette chaise est laide . \n",
      "번역기가 번역한 문장:  cette c . . . . \n",
      "1/1 [==============================] - 0s 19ms/step\n",
      "1/1 [==============================] - 0s 20ms/step\n",
      "1/1 [==============================] - 0s 20ms/step\n",
      "1/1 [==============================] - 0s 20ms/step\n",
      "1/1 [==============================] - 0s 20ms/step\n",
      "1/1 [==============================] - 0s 20ms/step\n",
      "-----------------------------------\n",
      "입력 문장: have you gone mad ? \n",
      "정답 문장: tes vous devenues folles ? \n",
      "번역기가 번역한 문장:  tes tu vous vous \n",
      "1/1 [==============================] - 0s 19ms/step\n",
      "1/1 [==============================] - 0s 20ms/step\n",
      "1/1 [==============================] - 0s 21ms/step\n",
      "1/1 [==============================] - 0s 21ms/step\n",
      "1/1 [==============================] - 0s 20ms/step\n",
      "1/1 [==============================] - 0s 20ms/step\n",
      "1/1 [==============================] - 0s 21ms/step\n",
      "1/1 [==============================] - 0s 20ms/step\n",
      "1/1 [==============================] - 0s 20ms/step\n",
      "-----------------------------------\n",
      "입력 문장: he banged his head . \n",
      "정답 문장: il s est heurt la t te . \n",
      "번역기가 번역한 문장:  il l la la . . . \n"
     ]
    }
   ],
   "source": [
    "for seq_index in [1,100,301,777,2222]:\n",
    "    input_seq = encoder_input_test[seq_index: seq_index + 1]\n",
    "    decoded_sentence = decode_sequence(input_seq)\n",
    "    print(35 * \"-\")\n",
    "    print('입력 문장:', seq2src(encoder_input_test[seq_index]))\n",
    "    print('정답 문장:', seq2tar(decoder_input_test[seq_index]))\n",
    "    print('번역기가 번역한 문장:', decoded_sentence[:len(decoded_sentence)-1])"
   ]
  },
  {
   "cell_type": "markdown",
   "id": "b43087e1",
   "metadata": {},
   "source": [
    "## 회고\n",
    "내용 자체는 참 좋았으나 역시 NLP는 나랑 맞지않는걸 또한번 깨닫는 프로젝트였다."
   ]
  }
 ],
 "metadata": {
  "kernelspec": {
   "display_name": "Python 3 (ipykernel)",
   "language": "python",
   "name": "python3"
  },
  "language_info": {
   "codemirror_mode": {
    "name": "ipython",
    "version": 3
   },
   "file_extension": ".py",
   "mimetype": "text/x-python",
   "name": "python",
   "nbconvert_exporter": "python",
   "pygments_lexer": "ipython3",
   "version": "3.10.6"
  }
 },
 "nbformat": 4,
 "nbformat_minor": 5
}
