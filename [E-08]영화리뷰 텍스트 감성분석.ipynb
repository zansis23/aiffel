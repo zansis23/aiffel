{
 "cells": [
  {
   "cell_type": "markdown",
   "id": "190aa0ff",
   "metadata": {},
   "source": [
    "## 네이버 영화리뷰 감성분석 도전하기"
   ]
  },
  {
   "cell_type": "markdown",
   "id": "c0f6c08c",
   "metadata": {},
   "source": [
    "### 루브릭\n",
    "\n",
    "다양한 방법으로 Text Classification 태스크를 성공적으로 구현하였다.\n",
    "3가지 이상의 모델이 성공적으로 시도됨\n",
    "gensim을 활용하여 자체학습된 혹은 사전학습된 임베딩 레이어를 분석하였다.\n",
    "gensim의 유사단어 찾기를 활용하여 자체학습한 임베딩과 사전학습 임베딩을 적절히 분석함\n",
    "한국어 Word2Vec을 활용하여 가시적인 성능향상을 달성했다.\n",
    "네이버 영화리뷰 데이터 감성분석 정확도를 85% 이상 달성함"
   ]
  },
  {
   "cell_type": "code",
   "execution_count": 41,
   "id": "3980634c",
   "metadata": {},
   "outputs": [],
   "source": [
    "import os\n",
    "import re\n",
    "import pandas as pd\n",
    "import numpy as np\n",
    "\n",
    "import urllib.request\n",
    "import matplotlib.pyplot as plt\n",
    "%matplotlib inline\n",
    "\n",
    "\n",
    "from konlpy.tag import Okt\n",
    "from konlpy.tag import Mecab\n",
    "\n",
    "from tensorflow import keras\n",
    "from tensorflow.keras.preprocessing.text import Tokenizer\n",
    "from tensorflow.keras.preprocessing.sequence import pad_sequences\n",
    "from tensorflow.keras.initializers import Constant\n",
    "from tensorflow.keras.callbacks import EarlyStopping, ModelCheckpoint\n",
    "from tensorflow.keras.models import load_model\n",
    "\n"
   ]
  },
  {
   "cell_type": "code",
   "execution_count": 42,
   "id": "29a6aa31",
   "metadata": {},
   "outputs": [
    {
     "name": "stdout",
     "output_type": "stream",
     "text": [
      "Requirement already satisfied: gensim in ./venv/lib/python3.10/site-packages (4.2.0)\n",
      "Requirement already satisfied: smart-open>=1.8.1 in ./venv/lib/python3.10/site-packages (from gensim) (6.2.0)\n",
      "Requirement already satisfied: numpy>=1.17.0 in ./venv/lib/python3.10/site-packages (from gensim) (1.23.3)\n",
      "Requirement already satisfied: scipy>=0.18.1 in ./venv/lib/python3.10/site-packages (from gensim) (1.9.2)\n",
      "\u001b[33mWARNING: You are using pip version 21.3.1; however, version 22.3 is available.\n",
      "You should consider upgrading via the '/home/a/PycharmProjects/pythonProject/venv/bin/python -m pip install --upgrade pip' command.\u001b[0m\n",
      "Requirement already satisfied: konlpy in ./venv/lib/python3.10/site-packages (0.6.0)\n",
      "Requirement already satisfied: JPype1>=0.7.0 in ./venv/lib/python3.10/site-packages (from konlpy) (1.4.0)\n",
      "Requirement already satisfied: lxml>=4.1.0 in ./venv/lib/python3.10/site-packages (from konlpy) (4.9.1)\n",
      "Requirement already satisfied: numpy>=1.6 in ./venv/lib/python3.10/site-packages (from konlpy) (1.23.3)\n",
      "\u001b[33mWARNING: You are using pip version 21.3.1; however, version 22.3 is available.\n",
      "You should consider upgrading via the '/home/a/PycharmProjects/pythonProject/venv/bin/python -m pip install --upgrade pip' command.\u001b[0m\n"
     ]
    }
   ],
   "source": [
    "!pip3 install gensim\n",
    "!pip3 install konlpy"
   ]
  },
  {
   "cell_type": "markdown",
   "id": "f4207756",
   "metadata": {},
   "source": [
    " ### 데이터 확인"
   ]
  },
  {
   "cell_type": "code",
   "execution_count": 43,
   "id": "a129e411",
   "metadata": {},
   "outputs": [
    {
     "data": {
      "text/html": [
       "<div>\n",
       "<style scoped>\n",
       "    .dataframe tbody tr th:only-of-type {\n",
       "        vertical-align: middle;\n",
       "    }\n",
       "\n",
       "    .dataframe tbody tr th {\n",
       "        vertical-align: top;\n",
       "    }\n",
       "\n",
       "    .dataframe thead th {\n",
       "        text-align: right;\n",
       "    }\n",
       "</style>\n",
       "<table border=\"1\" class=\"dataframe\">\n",
       "  <thead>\n",
       "    <tr style=\"text-align: right;\">\n",
       "      <th></th>\n",
       "      <th>id</th>\n",
       "      <th>document</th>\n",
       "      <th>label</th>\n",
       "    </tr>\n",
       "  </thead>\n",
       "  <tbody>\n",
       "    <tr>\n",
       "      <th>0</th>\n",
       "      <td>9976970</td>\n",
       "      <td>아 더빙.. 진짜 짜증나네요 목소리</td>\n",
       "      <td>0</td>\n",
       "    </tr>\n",
       "    <tr>\n",
       "      <th>1</th>\n",
       "      <td>3819312</td>\n",
       "      <td>흠...포스터보고 초딩영화줄....오버연기조차 가볍지 않구나</td>\n",
       "      <td>1</td>\n",
       "    </tr>\n",
       "    <tr>\n",
       "      <th>2</th>\n",
       "      <td>10265843</td>\n",
       "      <td>너무재밓었다그래서보는것을추천한다</td>\n",
       "      <td>0</td>\n",
       "    </tr>\n",
       "    <tr>\n",
       "      <th>3</th>\n",
       "      <td>9045019</td>\n",
       "      <td>교도소 이야기구먼 ..솔직히 재미는 없다..평점 조정</td>\n",
       "      <td>0</td>\n",
       "    </tr>\n",
       "    <tr>\n",
       "      <th>4</th>\n",
       "      <td>6483659</td>\n",
       "      <td>사이몬페그의 익살스런 연기가 돋보였던 영화!스파이더맨에서 늙어보이기만 했던 커스틴 ...</td>\n",
       "      <td>1</td>\n",
       "    </tr>\n",
       "  </tbody>\n",
       "</table>\n",
       "</div>"
      ],
      "text/plain": [
       "         id                                           document  label\n",
       "0   9976970                                아 더빙.. 진짜 짜증나네요 목소리      0\n",
       "1   3819312                  흠...포스터보고 초딩영화줄....오버연기조차 가볍지 않구나      1\n",
       "2  10265843                                  너무재밓었다그래서보는것을추천한다      0\n",
       "3   9045019                      교도소 이야기구먼 ..솔직히 재미는 없다..평점 조정      0\n",
       "4   6483659  사이몬페그의 익살스런 연기가 돋보였던 영화!스파이더맨에서 늙어보이기만 했던 커스틴 ...      1"
      ]
     },
     "execution_count": 43,
     "metadata": {},
     "output_type": "execute_result"
    }
   ],
   "source": [
    "# 데이터를 읽어봅시다. \n",
    "train_data = pd.read_table('../ratings_train.txt')\n",
    "test_data = pd.read_table('../ratings_test.txt')\n",
    "\n",
    "train_data.head()  # 상위 5개 출력"
   ]
  },
  {
   "cell_type": "code",
   "execution_count": 44,
   "id": "62b0b41c",
   "metadata": {},
   "outputs": [
    {
     "name": "stdout",
     "output_type": "stream",
     "text": [
      "훈련 데이터 형태 : (150000, 3)\n",
      "테스트 데이터 형태 : (50000, 3)\n"
     ]
    }
   ],
   "source": [
    "# 훈련 및 테스트 데이터의 리뷰 개수 확인\n",
    "print('훈련 데이터 형태 :', train_data.shape)\n",
    "print('테스트 데이터 형태 :', test_data.shape)"
   ]
  },
  {
   "cell_type": "code",
   "execution_count": 45,
   "id": "0e7dab2c",
   "metadata": {},
   "outputs": [
    {
     "name": "stdout",
     "output_type": "stream",
     "text": [
      "Index(['id', 'document', 'label'], dtype='object')\n"
     ]
    }
   ],
   "source": [
    "# 훈련 데이터의 컬럼 이름 확인\n",
    "print(train_data.columns)"
   ]
  },
  {
   "cell_type": "markdown",
   "id": "5aab587b",
   "metadata": {},
   "source": [
    "### 데이터로더 구성\n",
    "실습때 다루었던 IMDB 데이터셋은 텍스트를 가공하여 imdb.data_loader() 메소드를 호출하면 \n",
    "숫자 인덱스로 변환된 텍스트와 word_to_index 딕셔너리까지  제공한다. \n",
    "그러나 이번에 다루게 될 nsmc 데이터셋은 전혀 가공되지 않은 텍스트 파일로 이루어져 있다. \n",
    "이것을 읽어 imdb.data_loader()와 동일하게 동작하는 자신만의 data_loader를 만들어야 한다."
   ]
  },
  {
   "cell_type": "code",
   "execution_count": 46,
   "id": "1ad4c7cb",
   "metadata": {
    "scrolled": true
   },
   "outputs": [
    {
     "data": {
      "text/plain": [
       "document    146182\n",
       "label            2\n",
       "dtype: int64"
      ]
     },
     "execution_count": 46,
     "metadata": {},
     "output_type": "execute_result"
    }
   ],
   "source": [
    "# 중복하지 않은 데이터의 개수\n",
    "train_data[['document', 'label']].nunique()"
   ]
  },
  {
   "cell_type": "code",
   "execution_count": 47,
   "id": "e587d71b",
   "metadata": {},
   "outputs": [
    {
     "data": {
      "text/plain": [
       "<AxesSubplot: >"
      ]
     },
     "execution_count": 47,
     "metadata": {},
     "output_type": "execute_result"
    },
    {
     "data": {
      "image/png": "[encoded data removed]",
      "text/plain": [
       "<Figure size 640x480 with 1 Axes>"
      ]
     },
     "metadata": {},
     "output_type": "display_data"
    }
   ],
   "source": [
    "# 긍정, 부정 분포 그리기\n",
    "train_data['label'].value_counts().plot(kind = 'bar')"
   ]
  },
  {
   "cell_type": "code",
   "execution_count": 48,
   "id": "35c13ab2",
   "metadata": {},
   "outputs": [
    {
     "name": "stderr",
     "output_type": "stream",
     "text": [
      "/tmp/ipykernel_50261/215865904.py:2: FutureWarning: The default value of regex will change from True to False in a future version.\n",
      "  train_data['document'] = train_data['document'].str.replace(\"[^ㄱ-ㅎㅏ-ㅣ가-힣0-9 ]\", \"\")\n"
     ]
    },
    {
     "data": {
      "text/html": [
       "<div>\n",
       "<style scoped>\n",
       "    .dataframe tbody tr th:only-of-type {\n",
       "        vertical-align: middle;\n",
       "    }\n",
       "\n",
       "    .dataframe tbody tr th {\n",
       "        vertical-align: top;\n",
       "    }\n",
       "\n",
       "    .dataframe thead th {\n",
       "        text-align: right;\n",
       "    }\n",
       "</style>\n",
       "<table border=\"1\" class=\"dataframe\">\n",
       "  <thead>\n",
       "    <tr style=\"text-align: right;\">\n",
       "      <th></th>\n",
       "      <th>id</th>\n",
       "      <th>document</th>\n",
       "      <th>label</th>\n",
       "    </tr>\n",
       "  </thead>\n",
       "  <tbody>\n",
       "    <tr>\n",
       "      <th>0</th>\n",
       "      <td>9976970</td>\n",
       "      <td>아 더빙 진짜 짜증나네요 목소리</td>\n",
       "      <td>0</td>\n",
       "    </tr>\n",
       "    <tr>\n",
       "      <th>1</th>\n",
       "      <td>3819312</td>\n",
       "      <td>흠포스터보고 초딩영화줄오버연기조차 가볍지 않구나</td>\n",
       "      <td>1</td>\n",
       "    </tr>\n",
       "    <tr>\n",
       "      <th>2</th>\n",
       "      <td>10265843</td>\n",
       "      <td>너무재밓었다그래서보는것을추천한다</td>\n",
       "      <td>0</td>\n",
       "    </tr>\n",
       "    <tr>\n",
       "      <th>3</th>\n",
       "      <td>9045019</td>\n",
       "      <td>교도소 이야기구먼 솔직히 재미는 없다평점 조정</td>\n",
       "      <td>0</td>\n",
       "    </tr>\n",
       "    <tr>\n",
       "      <th>4</th>\n",
       "      <td>6483659</td>\n",
       "      <td>사이몬페그의 익살스런 연기가 돋보였던 영화스파이더맨에서 늙어보이기만 했던 커스틴 던...</td>\n",
       "      <td>1</td>\n",
       "    </tr>\n",
       "  </tbody>\n",
       "</table>\n",
       "</div>"
      ],
      "text/plain": [
       "         id                                           document  label\n",
       "0   9976970                                  아 더빙 진짜 짜증나네요 목소리      0\n",
       "1   3819312                         흠포스터보고 초딩영화줄오버연기조차 가볍지 않구나      1\n",
       "2  10265843                                  너무재밓었다그래서보는것을추천한다      0\n",
       "3   9045019                          교도소 이야기구먼 솔직히 재미는 없다평점 조정      0\n",
       "4   6483659  사이몬페그의 익살스런 연기가 돋보였던 영화스파이더맨에서 늙어보이기만 했던 커스틴 던...      1"
      ]
     },
     "execution_count": 48,
     "metadata": {},
     "output_type": "execute_result"
    }
   ],
   "source": [
    "# 정규 표현식을 이용하여 한글, 숫자, 공백을 제외하고 모두 제거 \n",
    "train_data['document'] = train_data['document'].str.replace(\"[^ㄱ-ㅎㅏ-ㅣ가-힣0-9 ]\", \"\")\n",
    "\n",
    "train_data[:5]"
   ]
  },
  {
   "cell_type": "code",
   "execution_count": 49,
   "id": "8e8895dc",
   "metadata": {},
   "outputs": [
    {
     "data": {
      "text/plain": [
       "id            0\n",
       "document    694\n",
       "label         0\n",
       "dtype: int64"
      ]
     },
     "execution_count": 49,
     "metadata": {},
     "output_type": "execute_result"
    }
   ],
   "source": [
    "# train_data에 document 열에 빈 값을 가진 행이 있다면 Null 값으로 변경\n",
    "train_data['document'].replace('', np.nan, inplace=True)\n",
    "\n",
    "# 다시 한 번 Null 값이 존재하는지 확인\n",
    "train_data.isnull().sum()"
   ]
  },
  {
   "cell_type": "code",
   "execution_count": 50,
   "id": "a60685e5",
   "metadata": {},
   "outputs": [
    {
     "data": {
      "text/html": [
       "<div>\n",
       "<style scoped>\n",
       "    .dataframe tbody tr th:only-of-type {\n",
       "        vertical-align: middle;\n",
       "    }\n",
       "\n",
       "    .dataframe tbody tr th {\n",
       "        vertical-align: top;\n",
       "    }\n",
       "\n",
       "    .dataframe thead th {\n",
       "        text-align: right;\n",
       "    }\n",
       "</style>\n",
       "<table border=\"1\" class=\"dataframe\">\n",
       "  <thead>\n",
       "    <tr style=\"text-align: right;\">\n",
       "      <th></th>\n",
       "      <th>id</th>\n",
       "      <th>document</th>\n",
       "      <th>label</th>\n",
       "    </tr>\n",
       "  </thead>\n",
       "  <tbody>\n",
       "    <tr>\n",
       "      <th>668</th>\n",
       "      <td>1600635</td>\n",
       "      <td>NaN</td>\n",
       "      <td>0</td>\n",
       "    </tr>\n",
       "    <tr>\n",
       "      <th>1559</th>\n",
       "      <td>6918082</td>\n",
       "      <td>NaN</td>\n",
       "      <td>1</td>\n",
       "    </tr>\n",
       "    <tr>\n",
       "      <th>1840</th>\n",
       "      <td>7095375</td>\n",
       "      <td>NaN</td>\n",
       "      <td>1</td>\n",
       "    </tr>\n",
       "    <tr>\n",
       "      <th>2073</th>\n",
       "      <td>384233</td>\n",
       "      <td>NaN</td>\n",
       "      <td>1</td>\n",
       "    </tr>\n",
       "    <tr>\n",
       "      <th>2648</th>\n",
       "      <td>423224</td>\n",
       "      <td>NaN</td>\n",
       "      <td>1</td>\n",
       "    </tr>\n",
       "  </tbody>\n",
       "</table>\n",
       "</div>"
      ],
      "text/plain": [
       "           id document  label\n",
       "668   1600635      NaN      0\n",
       "1559  6918082      NaN      1\n",
       "1840  7095375      NaN      1\n",
       "2073   384233      NaN      1\n",
       "2648   423224      NaN      1"
      ]
     },
     "execution_count": 50,
     "metadata": {},
     "output_type": "execute_result"
    }
   ],
   "source": [
    "# Null 값이 있는 행 5개만 출력\n",
    "train_data.loc[train_data.document.isnull()][:5]"
   ]
  },
  {
   "cell_type": "code",
   "execution_count": 51,
   "id": "131376e8",
   "metadata": {},
   "outputs": [
    {
     "name": "stdout",
     "output_type": "stream",
     "text": [
      "전처리 후 학습용 데이터 개수 : 149306\n"
     ]
    }
   ],
   "source": [
    "# NaN은 아무런 의미가 없는 데이터 이므로 제거\n",
    "train_data = train_data.dropna(how = 'any')\n",
    "\n",
    "print('전처리 후 학습용 데이터 개수 :', len(train_data))"
   ]
  },
  {
   "cell_type": "code",
   "execution_count": 52,
   "id": "64cc15b5",
   "metadata": {},
   "outputs": [
    {
     "name": "stderr",
     "output_type": "stream",
     "text": [
      "/tmp/ipykernel_50261/2423763838.py:2: FutureWarning: The default value of regex will change from True to False in a future version.\n",
      "  test_data['document'] = test_data['document'].str.replace(\"[^ㄱ-ㅎㅏ-ㅣ가-힣0-9 ]\", \"\")\n"
     ]
    },
    {
     "name": "stdout",
     "output_type": "stream",
     "text": [
      "전처리 후 테스트용 데이터 개수 : 49773\n"
     ]
    }
   ],
   "source": [
    "# 테스트 데이터도 정규 표현식을 이용하여 한글, 숫자, 공백을 제외하고 모두 제거 \n",
    "test_data['document'] = test_data['document'].str.replace(\"[^ㄱ-ㅎㅏ-ㅣ가-힣0-9 ]\", \"\")\n",
    "# test_data에 document 열에 빈 값을 가진 행이 있다면 Null 값으로 변경\n",
    "test_data['document'].replace('', np.nan, inplace=True)\n",
    "# NaN은 아무런 의미가 없는 데이터 이므로 제거\n",
    "test_data = test_data.dropna(how = 'any')\n",
    "\n",
    "print('전처리 후 테스트용 데이터 개수 :', len(test_data))"
   ]
  },
  {
   "cell_type": "code",
   "execution_count": 53,
   "id": "07a0932a",
   "metadata": {},
   "outputs": [],
   "source": [
    "tokenizer = Mecab()\n",
    "stopwords = ['의','가','이','은','들','는','좀','잘','걍','과','도','를','으로','자','에','와','한','하다']"
   ]
  },
  {
   "cell_type": "code",
   "execution_count": 54,
   "id": "66d47601",
   "metadata": {},
   "outputs": [],
   "source": [
    "def load_data(train_data, test_data, num_words=10000):\n",
    "    # [[YOUR CODE]]\n",
    "    train_data.drop_duplicates(subset=['document'], inplace=True)\n",
    "    train_data = train_data.dropna(how = 'any') \n",
    "    test_data.drop_duplicates(subset=['document'], inplace=True)\n",
    "    test_data = test_data.dropna(how = 'any') \n",
    "\n",
    "    X_train = []\n",
    "    for sentence in train_data['document']:\n",
    "        temp_X = tokenizer.morphs(sentence)\n",
    "        temp_X = [word for word in temp_X if not word in stopwords]\n",
    "        X_train.append(temp_X)\n",
    "\n",
    "    X_test = []\n",
    "    for sentence in test_data['document']:\n",
    "        temp_X = tokenizer.morphs(sentence)\n",
    "        temp_X = [word for word in temp_X if not word in stopwords]\n",
    "        X_test.append(temp_X)\n",
    "\n",
    "    words = np.concatenate(X_train).tolist()\n",
    "    counter = Counter(words)\n",
    "    counter = counter.most_common(10000-4)\n",
    "    vocab = ['<PAD>', '<BOS>', '<UNK>', '<UNUSED>'] + [key for key, _ in counter]\n",
    "    word_to_index = {word:index for index, word in enumerate(vocab)}\n",
    "\n",
    "    def wordlist_to_indexlist(wordlist):\n",
    "        return [word_to_index[word] if word in word_to_index else word_to_index['<UNK>'] for word in wordlist]\n",
    "\n",
    "    X_train = list(map(wordlist_to_indexlist, X_train))\n",
    "    X_test = list(map(wordlist_to_indexlist, X_test))\n",
    "\n",
    "    return X_train, np.array(list(train_data['label'])), X_test, np.array(list(test_data['label'])), word_to_index"
   ]
  },
  {
   "cell_type": "code",
   "execution_count": 55,
   "id": "8e91ac6a",
   "metadata": {},
   "outputs": [],
   "source": [
    "X_train, y_train, X_test, y_test, word_to_index = load_data(train_data, test_data)"
   ]
  },
  {
   "cell_type": "code",
   "execution_count": 56,
   "id": "074c5ecb",
   "metadata": {},
   "outputs": [],
   "source": [
    "index_to_word = {index:word for word, index in word_to_index.items()}"
   ]
  },
  {
   "cell_type": "code",
   "execution_count": 57,
   "id": "0d758deb",
   "metadata": {},
   "outputs": [
    {
     "data": {
      "text/plain": [
       "10000"
      ]
     },
     "execution_count": 57,
     "metadata": {},
     "output_type": "execute_result"
    }
   ],
   "source": [
    "len(word_to_index)"
   ]
  },
  {
   "cell_type": "code",
   "execution_count": 58,
   "id": "d2085530",
   "metadata": {},
   "outputs": [],
   "source": [
    "def get_encoded_sentence(sentence, word_to_index):\n",
    "    return [word_to_index['<BOS>']]+[word_to_index[word] if word in word_to_index else word_to_index['<UNK>'] for word in sentence.split()]\n",
    "\n",
    "def get_encoded_sentences(sentences, word_to_index):\n",
    "    return [get_encoded_sentence(sentence, word_to_index) for sentence in sentences]\n",
    "\n",
    "def get_decoded_sentence(encoded_sentence, index_to_word):\n",
    "    return ' '.join(index_to_word[index] if index in index_to_word else '<UNK>' for index in encoded_sentence[1:])  #[1:]를 통해 <BOS>를 제외\n",
    "\n",
    "def get_decoded_sentences(encoded_sentences, index_to_word):\n",
    "    return [get_decoded_sentence(encoded_sentence, index_to_word) for encoded_sentence in encoded_sentences]"
   ]
  },
  {
   "cell_type": "code",
   "execution_count": 59,
   "id": "0ef58b1e",
   "metadata": {},
   "outputs": [
    {
     "name": "stdout",
     "output_type": "stream",
     "text": [
      "문장길이 평균 :  14.105555382263951\n",
      "문장길이 최대 :  84\n",
      "문장길이 표준편차 :  11.586812010381065\n"
     ]
    }
   ],
   "source": [
    "# 데이터셋 내 문장 길이 분포\n",
    "total_data_text = list(X_train) + list(X_test)\n",
    "\n",
    "num_tokens = [len(tokens) for tokens in total_data_text]\n",
    "num_tokens = np.array(num_tokens)\n",
    "\n",
    "print('문장길이 평균 : ', np.mean(num_tokens))\n",
    "print('문장길이 최대 : ', np.max(num_tokens))\n",
    "print('문장길이 표준편차 : ', np.std(num_tokens))"
   ]
  },
  {
   "cell_type": "code",
   "execution_count": 60,
   "id": "b8da283d",
   "metadata": {},
   "outputs": [
    {
     "name": "stdout",
     "output_type": "stream",
     "text": [
      "pad_sequences maxlen :  43\n",
      "전체 문장의 0.954952847354357%가 maxlen 설정값 이내에 포함됩니다. \n"
     ]
    }
   ],
   "source": [
    "# 적절한 최대 문장 길이 지정\n",
    "max_tokens = np.mean(num_tokens) + 2.5 * np.std(num_tokens)\n",
    "maxlen = int(max_tokens)\n",
    "print('pad_sequences maxlen : ', maxlen)\n",
    "print('전체 문장의 {}%가 maxlen 설정값 이내에 포함됩니다. '.format(np.sum(num_tokens < max_tokens) / len(num_tokens)))"
   ]
  },
  {
   "cell_type": "code",
   "execution_count": 61,
   "id": "1b982892",
   "metadata": {},
   "outputs": [],
   "source": [
    "# keras.preprocessing.sequence.pad_sequences 을 활용한 패딩 추가\n",
    "X_train = keras.preprocessing.sequence.pad_sequences(X_train,\n",
    "                                                        value=word_to_index[\"<PAD>\"],\n",
    "                                                        padding='pre',\n",
    "                                                        maxlen=maxlen)\n",
    "\n",
    "X_test = keras.preprocessing.sequence.pad_sequences(X_test,\n",
    "                                                       value=word_to_index[\"<PAD>\"],\n",
    "                                                       padding='pre',\n",
    "                                                       maxlen=maxlen)"
   ]
  },
  {
   "cell_type": "code",
   "execution_count": 62,
   "id": "bc74a377",
   "metadata": {},
   "outputs": [
    {
     "name": "stdout",
     "output_type": "stream",
     "text": [
      "(143856, 43)\n",
      "(48498, 43)\n"
     ]
    }
   ],
   "source": [
    "print(X_train.shape)\n",
    "print(X_test.shape)"
   ]
  },
  {
   "cell_type": "code",
   "execution_count": 63,
   "id": "ba3b29bb",
   "metadata": {},
   "outputs": [],
   "source": [
    "# validation set 30000건 분리\n",
    "x_val = X_train[:30000]   \n",
    "y_val = y_train[:30000]\n",
    "\n",
    "# validation set을 제외한 나머지\n",
    "partial_x_train = X_train[30000:]  \n",
    "partial_y_train = y_train[30000:]"
   ]
  },
  {
   "cell_type": "code",
   "execution_count": 64,
   "id": "49f59fec",
   "metadata": {},
   "outputs": [
    {
     "name": "stdout",
     "output_type": "stream",
     "text": [
      "(30000, 43)\n",
      "(30000,)\n",
      "(113856, 43)\n",
      "(113856,)\n"
     ]
    }
   ],
   "source": [
    "print(x_val.shape)\n",
    "print(y_val.shape)\n",
    "print(partial_x_train.shape)\n",
    "print(partial_y_train.shape)"
   ]
  },
  {
   "cell_type": "markdown",
   "id": "ce78e86b",
   "metadata": {},
   "source": [
    "### LSTM"
   ]
  },
  {
   "cell_type": "code",
   "execution_count": 65,
   "id": "3b757c48",
   "metadata": {},
   "outputs": [],
   "source": [
    "vocab_size = 10000\n",
    "word_vector_dim = 128\n",
    "\n",
    "LSTM_ = keras.Sequential()\n",
    "LSTM_.add(keras.layers.Embedding(vocab_size, word_vector_dim, input_shape=(None,)))\n",
    "LSTM_.add(keras.layers.LSTM(128))\n",
    "LSTM_.add(keras.layers.Dense(1, activation='relu'))"
   ]
  },
  {
   "cell_type": "code",
   "execution_count": 66,
   "id": "043327a9",
   "metadata": {},
   "outputs": [
    {
     "name": "stdout",
     "output_type": "stream",
     "text": [
      "Model: \"sequential_2\"\n",
      "_________________________________________________________________\n",
      " Layer (type)                Output Shape              Param #   \n",
      "=================================================================\n",
      " embedding_2 (Embedding)     (None, None, 128)         1280000   \n",
      "                                                                 \n",
      " lstm_2 (LSTM)               (None, 128)               131584    \n",
      "                                                                 \n",
      " dense_2 (Dense)             (None, 1)                 129       \n",
      "                                                                 \n",
      "=================================================================\n",
      "Total params: 1,411,713\n",
      "Trainable params: 1,411,713\n",
      "Non-trainable params: 0\n",
      "_________________________________________________________________\n"
     ]
    }
   ],
   "source": [
    "LSTM_.summary()"
   ]
  },
  {
   "cell_type": "code",
   "execution_count": 67,
   "id": "cbee789c",
   "metadata": {},
   "outputs": [],
   "source": [
    "LSTM_.compile(optimizer='adam',\n",
    "              loss='binary_crossentropy',\n",
    "              metrics=['accuracy'])"
   ]
  },
  {
   "cell_type": "code",
   "execution_count": 68,
   "id": "49ac0fcf",
   "metadata": {},
   "outputs": [],
   "source": [
    "early = EarlyStopping(monitor='val_loss', mode='min', verbose=1, patience=5)\n",
    "check = ModelCheckpoint('best_model.h5', monitor='val_acc', mode='max', verbose=1, save_bast_only=True)"
   ]
  },
  {
   "cell_type": "code",
   "execution_count": 69,
   "id": "0c4a23d5",
   "metadata": {},
   "outputs": [
    {
     "name": "stdout",
     "output_type": "stream",
     "text": [
      "Epoch 1/10\n",
      "1777/1779 [============================>.] - ETA: 0s - loss: 0.5112 - accuracy: 0.7874\n",
      "Epoch 1: saving model to best_model.h5\n",
      "1779/1779 [==============================] - 38s 21ms/step - loss: 0.5113 - accuracy: 0.7875 - val_loss: 0.4373 - val_accuracy: 0.8377\n",
      "Epoch 2/10\n",
      "1777/1779 [============================>.] - ETA: 0s - loss: 0.4342 - accuracy: 0.8212\n",
      "Epoch 2: saving model to best_model.h5\n",
      "1779/1779 [==============================] - 37s 21ms/step - loss: 0.4343 - accuracy: 0.8210 - val_loss: 0.5632 - val_accuracy: 0.6622\n",
      "Epoch 3/10\n",
      "1779/1779 [==============================] - ETA: 0s - loss: 0.5412 - accuracy: 0.7960\n",
      "Epoch 3: saving model to best_model.h5\n",
      "1779/1779 [==============================] - 37s 21ms/step - loss: 0.5412 - accuracy: 0.7960 - val_loss: 0.4510 - val_accuracy: 0.8105\n",
      "Epoch 4/10\n",
      "1777/1779 [============================>.] - ETA: 0s - loss: 0.4306 - accuracy: 0.8253\n",
      "Epoch 4: saving model to best_model.h5\n",
      "1779/1779 [==============================] - 37s 21ms/step - loss: 0.4306 - accuracy: 0.8254 - val_loss: 0.4333 - val_accuracy: 0.8425\n",
      "Epoch 5/10\n",
      "1779/1779 [==============================] - ETA: 0s - loss: 0.6178 - accuracy: 0.7858\n",
      "Epoch 5: saving model to best_model.h5\n",
      "1779/1779 [==============================] - 38s 21ms/step - loss: 0.6178 - accuracy: 0.7858 - val_loss: 0.4433 - val_accuracy: 0.8129\n",
      "Epoch 6/10\n",
      "1779/1779 [==============================] - ETA: 0s - loss: 0.3713 - accuracy: 0.8530\n",
      "Epoch 6: saving model to best_model.h5\n",
      "1779/1779 [==============================] - 39s 22ms/step - loss: 0.3713 - accuracy: 0.8530 - val_loss: 0.4529 - val_accuracy: 0.8431\n",
      "Epoch 7/10\n",
      "1777/1779 [============================>.] - ETA: 0s - loss: 0.3300 - accuracy: 0.8725\n",
      "Epoch 7: saving model to best_model.h5\n",
      "1779/1779 [==============================] - 37s 21ms/step - loss: 0.3303 - accuracy: 0.8722 - val_loss: 0.5925 - val_accuracy: 0.6328\n",
      "Epoch 8/10\n",
      "1777/1779 [============================>.] - ETA: 0s - loss: 0.3237 - accuracy: 0.8774\n",
      "Epoch 8: saving model to best_model.h5\n",
      "1779/1779 [==============================] - 37s 21ms/step - loss: 0.3236 - accuracy: 0.8774 - val_loss: 0.4462 - val_accuracy: 0.8473\n",
      "Epoch 9/10\n",
      "1777/1779 [============================>.] - ETA: 0s - loss: 0.3003 - accuracy: 0.8899\n",
      "Epoch 9: saving model to best_model.h5\n",
      "1779/1779 [==============================] - 38s 21ms/step - loss: 0.3002 - accuracy: 0.8900 - val_loss: 0.5054 - val_accuracy: 0.8485\n",
      "Epoch 9: early stopping\n"
     ]
    }
   ],
   "source": [
    "LSTM_history = LSTM_.fit(partial_x_train,\n",
    "                    partial_y_train,\n",
    "                    epochs=10,\n",
    "                    callbacks=[early, check],\n",
    "                    batch_size=64,\n",
    "                    validation_data=(x_val, y_val),\n",
    "                    verbose=1)"
   ]
  },
  {
   "cell_type": "code",
   "execution_count": 70,
   "id": "270009cb",
   "metadata": {},
   "outputs": [
    {
     "name": "stdout",
     "output_type": "stream",
     "text": [
      "1516/1516 - 11s - loss: 0.5089 - accuracy: 0.8445 - 11s/epoch - 7ms/step\n",
      "[0.5089258551597595, 0.8445090651512146]\n"
     ]
    }
   ],
   "source": [
    "loaded_model = load_model('best_model.h5')\n",
    "results = loaded_model.evaluate(X_test,  y_test, verbose=2)\n",
    "\n",
    "print(results)"
   ]
  },
  {
   "cell_type": "code",
   "execution_count": 71,
   "id": "0c8a3094",
   "metadata": {},
   "outputs": [
    {
     "data": {
      "image/png": "[encoded data removed]",
      "text/plain": [
       "<Figure size 640x480 with 1 Axes>"
      ]
     },
     "metadata": {},
     "output_type": "display_data"
    }
   ],
   "source": [
    "LSTM_history_dict = LSTM_history.history\n",
    "\n",
    "acc = LSTM_history_dict['accuracy']\n",
    "val_acc = LSTM_history_dict['val_accuracy']\n",
    "loss = LSTM_history_dict['loss']\n",
    "val_loss = LSTM_history_dict['val_loss']\n",
    "\n",
    "epochs = range(1, len(acc) + 1)\n",
    "\n",
    "plt.plot(epochs, loss, 'bo', label='Training loss')\n",
    "plt.plot(epochs, val_loss, 'b', label='Validation loss')\n",
    "plt.title('Training and validation loss')\n",
    "plt.xlabel('Epochs')\n",
    "plt.ylabel('Loss')\n",
    "plt.legend()\n",
    "\n",
    "plt.show()"
   ]
  },
  {
   "cell_type": "code",
   "execution_count": 72,
   "id": "09831725",
   "metadata": {},
   "outputs": [],
   "source": [
    "vocab_size = 10000\n",
    "word_vector_dim = 128\n",
    "\n",
    "LSTM_ = keras.Sequential()\n",
    "LSTM_.add(keras.layers.Embedding(vocab_size, word_vector_dim, input_shape=(None,)))\n",
    "LSTM_.add(keras.layers.LSTM(128))\n",
    "LSTM_.add(keras.layers.Dense(1, activation='sigmoid'))"
   ]
  },
  {
   "cell_type": "code",
   "execution_count": 73,
   "id": "06166741",
   "metadata": {},
   "outputs": [],
   "source": [
    "LSTM_.compile(optimizer='adam',\n",
    "              loss='binary_crossentropy',\n",
    "              metrics=['accuracy'])"
   ]
  },
  {
   "cell_type": "code",
   "execution_count": 74,
   "id": "229a8634",
   "metadata": {},
   "outputs": [],
   "source": [
    "early = EarlyStopping(monitor='val_loss', mode='min', verbose=1, patience=5)\n",
    "check = ModelCheckpoint('best_model.h5', monitor='val_acc', mode='max', verbose=1, save_bast_only=True)"
   ]
  },
  {
   "cell_type": "code",
   "execution_count": 75,
   "id": "138b12c4",
   "metadata": {},
   "outputs": [
    {
     "name": "stdout",
     "output_type": "stream",
     "text": [
      "Epoch 1/10\n",
      "1777/1779 [============================>.] - ETA: 0s - loss: 0.3813 - accuracy: 0.8284\n",
      "Epoch 1: saving model to best_model.h5\n",
      "1779/1779 [==============================] - 37s 21ms/step - loss: 0.3813 - accuracy: 0.8284 - val_loss: 0.3391 - val_accuracy: 0.8503\n",
      "Epoch 2/10\n",
      "1779/1779 [==============================] - ETA: 0s - loss: 0.2943 - accuracy: 0.8745\n",
      "Epoch 2: saving model to best_model.h5\n",
      "1779/1779 [==============================] - 38s 21ms/step - loss: 0.2943 - accuracy: 0.8745 - val_loss: 0.3187 - val_accuracy: 0.8605\n",
      "Epoch 3/10\n",
      "1777/1779 [============================>.] - ETA: 0s - loss: 0.2501 - accuracy: 0.8958\n",
      "Epoch 3: saving model to best_model.h5\n",
      "1779/1779 [==============================] - 38s 22ms/step - loss: 0.2501 - accuracy: 0.8958 - val_loss: 0.3326 - val_accuracy: 0.8603\n",
      "Epoch 4/10\n",
      "1778/1779 [============================>.] - ETA: 0s - loss: 0.2120 - accuracy: 0.9143\n",
      "Epoch 4: saving model to best_model.h5\n",
      "1779/1779 [==============================] - 38s 21ms/step - loss: 0.2120 - accuracy: 0.9143 - val_loss: 0.3538 - val_accuracy: 0.8555\n",
      "Epoch 5/10\n",
      "1779/1779 [==============================] - ETA: 0s - loss: 0.1764 - accuracy: 0.9285\n",
      "Epoch 5: saving model to best_model.h5\n",
      "1779/1779 [==============================] - 38s 21ms/step - loss: 0.1764 - accuracy: 0.9285 - val_loss: 0.4092 - val_accuracy: 0.8531\n",
      "Epoch 6/10\n",
      "1777/1779 [============================>.] - ETA: 0s - loss: 0.1462 - accuracy: 0.9417\n",
      "Epoch 6: saving model to best_model.h5\n",
      "1779/1779 [==============================] - 38s 21ms/step - loss: 0.1463 - accuracy: 0.9417 - val_loss: 0.4398 - val_accuracy: 0.8492\n",
      "Epoch 7/10\n",
      "1779/1779 [==============================] - ETA: 0s - loss: 0.1181 - accuracy: 0.9537\n",
      "Epoch 7: saving model to best_model.h5\n",
      "1779/1779 [==============================] - 39s 22ms/step - loss: 0.1181 - accuracy: 0.9537 - val_loss: 0.5085 - val_accuracy: 0.8465\n",
      "Epoch 7: early stopping\n"
     ]
    }
   ],
   "source": [
    "LSTM_history = LSTM_.fit(partial_x_train,\n",
    "                    partial_y_train,\n",
    "                    epochs=10,\n",
    "                    callbacks=[early, check],\n",
    "                    batch_size=64,\n",
    "                    validation_data=(x_val, y_val),\n",
    "                    verbose=1)"
   ]
  },
  {
   "cell_type": "code",
   "execution_count": 76,
   "id": "6c3871e0",
   "metadata": {},
   "outputs": [
    {
     "name": "stdout",
     "output_type": "stream",
     "text": [
      "1516/1516 - 11s - loss: 0.5039 - accuracy: 0.8428 - 11s/epoch - 7ms/step\n",
      "[0.503932535648346, 0.8427770137786865]\n"
     ]
    }
   ],
   "source": [
    "loaded_model = load_model('best_model.h5')\n",
    "results = loaded_model.evaluate(X_test,  y_test, verbose=2)\n",
    "\n",
    "print(results)"
   ]
  },
  {
   "cell_type": "code",
   "execution_count": 77,
   "id": "99748781",
   "metadata": {
    "scrolled": true
   },
   "outputs": [
    {
     "data": {
      "image/png": "[encoded data removed]",
      "text/plain": [
       "<Figure size 640x480 with 1 Axes>"
      ]
     },
     "metadata": {},
     "output_type": "display_data"
    }
   ],
   "source": [
    "LSTM_history_dict = LSTM_history.history\n",
    "\n",
    "acc = LSTM_history_dict['accuracy']\n",
    "val_acc = LSTM_history_dict['val_accuracy']\n",
    "loss = LSTM_history_dict['loss']\n",
    "val_loss = LSTM_history_dict['val_loss']\n",
    "\n",
    "epochs = range(1, len(acc) + 1)\n",
    "\n",
    "plt.plot(epochs, loss, 'bo', label='Training loss')\n",
    "plt.plot(epochs, val_loss, 'b', label='Validation loss')\n",
    "plt.title('Training and validation loss')\n",
    "plt.xlabel('Epochs')\n",
    "plt.ylabel('Loss')\n",
    "plt.legend()\n",
    "\n",
    "plt.show()"
   ]
  },
  {
   "cell_type": "markdown",
   "id": "2ec9e820",
   "metadata": {},
   "source": [
    "## 회고\n",
    "아직까지 NLP에 흥미도 없고 어떤 방식으로 작동하는지 잘 모르는 상태라 본 프로젝트에 관한 \n",
    "추가적인 내용은 진행하지 않았다.또한 Mecab에 설치에 대한 불친절한 설명은 본 프로젝트를 진행함에 있어 힘 빠지게 만든 주요 원인이라고 생각된다.\n",
    "따라서 추후 nlp에 관심이 생긴다면 내용을 좀더 추가하여 완성할 예정이다."
   ]
  }
 ],
 "metadata": {
  "kernelspec": {
   "display_name": "Python 3 (ipykernel)",
   "language": "python",
   "name": "python3"
  },
  "language_info": {
   "codemirror_mode": {
    "name": "ipython",
    "version": 3
   },
   "file_extension": ".py",
   "mimetype": "text/x-python",
   "name": "python",
   "nbconvert_exporter": "python",
   "pygments_lexer": "ipython3",
   "version": "3.10.6"
  }
 },
 "nbformat": 4,
 "nbformat_minor": 5
}
